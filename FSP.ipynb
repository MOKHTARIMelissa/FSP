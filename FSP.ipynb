{
 "cells": [
  {
   "cell_type": "code",
   "execution_count": 1,
   "metadata": {},
   "outputs": [],
   "source": [
    "import FSP as fsp\n",
    "import numpy as np\n",
    "import pandas as pd\n",
    "import timeit"
   ]
  },
  {
   "cell_type": "markdown",
   "metadata": {},
   "source": [
    "# Tests"
   ]
  },
  {
   "cell_type": "markdown",
   "metadata": {},
   "source": [
    "## 1. Branch and Bound"
   ]
  },
  {
   "cell_type": "code",
   "execution_count": null,
   "metadata": {},
   "outputs": [],
   "source": [
    "# jobs = 10, machines : 5, Cmax = 698, sigma = [ 4 2 3 8 7 10 6 1 9 5 ]\n",
    "data = np.array([\n",
    "    [79,    67,    10,    48,    52],\n",
    "    [40,    40,    57,    21,    54],\n",
    "    [48,    93,    49,    11,    79],\n",
    "    [16,    23,    19,    2,    38],\n",
    "    [38,   90,    57,    73,    3],\n",
    "    [76,    13,    99,    98,    55],\n",
    "    [73,   85,    40,    20,    85],\n",
    "    [34,    6,    27,    53,    21],\n",
    "    [38,    6,    35,    28,    44],\n",
    "    [32,    11,    11,    34,    27]\n",
    " ]).T\n",
    "\n",
    "flowshop = fsp.FlowShop(data)\n",
    "\n",
    "temps_debut = timeit.default_timer()\n",
    "sigma, cmax = flowshop.branchBound()\n",
    "temps_fin = timeit.default_timer() - temps_debut\n",
    "\n",
    "print(\"Jobs : \", flowshop.N, \" - Machines : \", flowshop.M)\n",
    "print(\"Best permutation : \", sigma.astype(int))\n",
    "print(\"Cmax : \", int(cmax))\n",
    "print(\"Time : \", temps_fin)"
   ]
  },
  {
   "cell_type": "code",
   "execution_count": null,
   "metadata": {},
   "outputs": [],
   "source": [
    "# jobs = 10, machines : 10, Cmax = 1097, sigma = [ 3 1 2 8 4 7 9 10 6 5 ]\n",
    "data = np.array([\n",
    "    [50, 23, 35,  8, 41, 71, 44, 79, 85, 22],\n",
    "    [37, 75, 94, 76, 17, 28, 99, 36, 14, 96],\n",
    "    [25, 80, 36, 37,  1, 31, 16, 56, 53, 71],\n",
    "    [86, 15, 17, 60, 46, 50, 20, 38, 76,  8],\n",
    "    [51, 22, 34, 14, 11, 53, 40, 35,  9, 15],\n",
    "    [21, 97, 48, 61, 77, 67, 14,  6, 95,  7],\n",
    "    [68, 72, 20, 67,  1,  2, 48, 85, 89, 62],\n",
    "    [29, 81, 91, 25, 60, 76, 44, 76, 28, 95],\n",
    "    [52,  1, 29, 13,  6, 45, 64, 41, 32, 46],\n",
    "    [14, 91, 92, 98, 99, 56, 79, 66, 25, 79]\n",
    "]).T\n",
    "\n",
    "flowshop = fsp.FlowShop(data)\n",
    "\n",
    "temps_debut = timeit.default_timer()\n",
    "sigma, cmax = flowshop.branchBound()\n",
    "temps_fin = timeit.default_timer() - temps_debut\n",
    "\n",
    "print(\"Jobs : \", flowshop.N, \" - Machines : \", flowshop.M)\n",
    "print(\"Best permutation : \", sigma.astype(int))\n",
    "print(\"Cmax : \", int(cmax))\n",
    "print(\"Time : \", temps_fin)"
   ]
  },
  {
   "cell_type": "code",
   "execution_count": null,
   "metadata": {},
   "outputs": [],
   "source": [
    "# jobs = 20, machines : 5\n",
    "data =np.array( [\n",
    " [54, 83, 15, 71, 77, 36, 53, 38, 27, 87, 76, 91, 14, 29, 12, 77, 32, 87, 68, 94],\n",
    " [79,  3, 11, 99, 56, 70, 99, 60,  5, 56,  3, 61, 73, 75, 47, 14, 21, 86,  5, 77],\n",
    " [16, 89, 49, 15, 89, 45, 60, 23, 57, 64,  7,  1, 63, 41, 63, 47, 26, 75, 77, 40],\n",
    " [66, 58, 31, 68, 78, 91, 13, 59, 49, 85, 85,  9, 39, 41, 56, 40, 54, 77, 51, 31],\n",
    " [58, 56, 20, 85, 53, 35, 53, 41, 69, 13, 86, 72,  8, 49, 47, 87, 58, 18, 68, 28]\n",
    "])\n",
    "\n",
    "flowshop = fsp.FlowShop(data)\n",
    "\n",
    "temps_debut = timeit.default_timer()\n",
    "sigma, cmax = flowshop.branchBound()\n",
    "temps_fin = timeit.default_timer() - temps_debut\n",
    "\n",
    "print(\"Jobs : \", flowshop.N, \" - Machines : \", flowshop.M)\n",
    "print(\"Best permutation : \", sigma.astype(int))\n",
    "print(\"Cmax : \", int(cmax))\n",
    "print(\"Time : \", temps_fin)"
   ]
  },
  {
   "cell_type": "code",
   "execution_count": null,
   "metadata": {},
   "outputs": [],
   "source": [
    "# jobs = 20, machines : 5\n",
    "data =np.array( [\n",
    " [26, 38, 27, 88, 95, 55, 54, 63, 23, 45, 86, 43, 43, 40, 37, 54, 35, 59, 43, 50],\n",
    " [59, 62, 44, 10, 23, 64, 47, 68, 54,  9, 30, 31, 92,  7, 14, 95, 76, 82, 91, 37],\n",
    " [78, 90, 64, 49, 47, 20, 61, 93, 36, 47, 70, 54, 87, 13, 40, 34, 55, 13, 11,  5],\n",
    " [88, 54, 47, 83, 84,  9, 30, 11, 92, 63, 62, 75, 48, 23, 85, 23,  4, 31, 13, 98],\n",
    " [69, 30, 61, 35, 53, 98, 94, 33, 77, 31, 54, 71, 78,  9, 79, 51, 76, 56, 80, 72]\n",
    "])\n",
    "\n",
    "flowshop = fsp.FlowShop(data)\n",
    "\n",
    "temps_debut = timeit.default_timer()\n",
    "sigma, cmax = flowshop.branchBound()\n",
    "temps_fin = timeit.default_timer() - temps_debut\n",
    "\n",
    "print(\"Jobs : \", flowshop.N, \" - Machines : \", flowshop.M)\n",
    "print(\"Best permutation : \", sigma.astype(int))\n",
    "print(\"Cmax : \", int(cmax))\n",
    "print(\"Time : \", temps_fin)"
   ]
  },
  {
   "cell_type": "code",
   "execution_count": null,
   "metadata": {},
   "outputs": [],
   "source": [
    "# jobs = 20, machines : 5\n",
    "data =np.array( [\n",
    " [77, 94,  9, 57, 29, 79, 55, 73, 65, 86, 25, 39, 76, 24, 38,  5, 91, 29, 22, 27],\n",
    " [39, 31, 46, 18, 93, 58, 85, 58, 97, 10, 79, 93,  2, 87, 17, 18, 10, 50,  8, 26],\n",
    " [14, 21, 15, 10, 85, 46, 42, 18, 36,  2, 44, 89,  6,  3,  1, 43, 81, 57, 76, 59],\n",
    " [11,  2, 36, 30, 89, 10, 88, 22, 31,  9, 43, 91, 26,  3, 75, 99, 63, 83, 70, 84],\n",
    " [83, 13, 84, 46, 20, 33, 74, 42, 33, 71, 32, 48, 42, 99,  7, 54,  8, 73, 30, 75]\n",
    "])\n",
    "\n",
    "flowshop = fsp.FlowShop(data)\n",
    "\n",
    "temps_debut = timeit.default_timer()\n",
    "sigma, cmax = flowshop.branchBound()\n",
    "temps_fin = timeit.default_timer() - temps_debut\n",
    "\n",
    "print(\"Jobs : \", flowshop.N, \" - Machines : \", flowshop.M)\n",
    "print(\"Best permutation : \", sigma.astype(int))\n",
    "print(\"Cmax : \", int(cmax))\n",
    "print(\"Time : \", temps_fin)"
   ]
  },
  {
   "cell_type": "code",
   "execution_count": null,
   "metadata": {},
   "outputs": [],
   "source": [
    "# jobs = 20, machines : 5\n",
    "data =np.array( [\n",
    " [53, 19, 99, 62, 88, 93, 34, 72, 42, 65, 39, 79,  9, 26, 72, 29, 36, 48, 57, 95],\n",
    " [93, 79, 88, 77, 94, 39, 74, 46, 17, 30, 62, 77, 43, 98, 48, 14, 45, 25, 98, 30],\n",
    " [90, 92, 35, 13, 75, 55, 80, 67,  3, 93, 54, 67, 25, 77, 38, 98, 96, 20, 15, 36],\n",
    " [65, 97, 27, 25, 61, 24, 97, 61, 75, 92, 73, 21, 29,  3, 96, 51, 26, 44, 56, 31],\n",
    " [64, 38, 44, 46, 66, 31, 48, 27, 82, 51, 90, 63, 85, 36, 69, 67, 81, 18, 81, 72]\n",
    "])\n",
    "\n",
    "flowshop = fsp.FlowShop(data)\n",
    "\n",
    "temps_debut = timeit.default_timer()\n",
    "sigma, cmax = flowshop.branchBound()\n",
    "temps_fin = timeit.default_timer() - temps_debut\n",
    "\n",
    "print(\"Jobs : \", flowshop.N, \" - Machines : \", flowshop.M)\n",
    "print(\"Best permutation : \", sigma.astype(int))\n",
    "print(\"Cmax : \", int(cmax))\n",
    "print(\"Time : \", temps_fin)"
   ]
  },
  {
   "cell_type": "code",
   "execution_count": null,
   "metadata": {},
   "outputs": [],
   "source": [
    "# jobs = 20, machines : 5\n",
    "data =np.array( [\n",
    " [61, 86, 16, 42, 14, 92, 67, 77, 46, 41, 78,  3, 72, 95, 53, 59, 34, 66, 42, 63],\n",
    " [27, 92,  8, 65, 34,  6, 42, 39,  2,  7, 85, 32, 14, 74, 59, 95, 48, 37, 59,  4],\n",
    " [42, 93, 32, 30, 16, 95, 58, 12, 95, 21, 74, 38,  4, 31, 62, 39, 97, 57,  9, 54],\n",
    " [13, 47,  6, 70, 19, 97, 41,  1, 57, 60, 62, 14, 90, 76, 12, 89, 37, 35, 91, 69],\n",
    " [55, 48, 56, 84, 22, 51, 43, 50, 62, 61, 10, 87, 99, 40, 91, 64, 62, 53, 33, 16]\n",
    "])\n",
    "\n",
    "flowshop = fsp.FlowShop(data)\n",
    "\n",
    "temps_debut = timeit.default_timer()\n",
    "sigma, cmax = flowshop.branchBound()\n",
    "temps_fin = timeit.default_timer() - temps_debut\n",
    "\n",
    "print(\"Jobs : \", flowshop.N, \" - Machines : \", flowshop.M)\n",
    "print(\"Best permutation : \", sigma.astype(int))\n",
    "print(\"Cmax : \", int(cmax))\n",
    "print(\"Time : \", temps_fin)"
   ]
  },
  {
   "cell_type": "code",
   "execution_count": null,
   "metadata": {},
   "outputs": [],
   "source": [
    "# jobs = 20, machines : 5\n",
    "data =np.array( [\n",
    " [71, 27, 55, 90, 11, 18, 42, 64, 73, 95, 22, 53, 32,  5, 94, 12, 41, 85, 75, 38],\n",
    " [13, 11, 73, 43, 27, 33, 57, 42, 71,  3, 11, 49,  8,  3, 47, 58, 23, 79, 99, 23],\n",
    " [61, 25, 52, 72, 89, 75, 60, 28, 94, 95, 18, 73, 40, 61, 68, 75, 37, 13, 65,  7],\n",
    " [21,  8,  5,  8, 58, 59, 85, 35, 84, 97, 93, 60, 99, 29, 94, 41, 51, 87, 97, 11],\n",
    " [91, 13,  7, 95, 20, 69, 45, 44, 29, 32, 94, 84, 60, 49, 49, 65, 85, 52,  8, 58]\n",
    "])\n",
    "\n",
    "flowshop = fsp.FlowShop(data)\n",
    "\n",
    "temps_debut = timeit.default_timer()\n",
    "sigma, cmax = flowshop.branchBound()\n",
    "temps_fin = timeit.default_timer() - temps_debut\n",
    "\n",
    "print(\"Jobs : \", flowshop.N, \" - Machines : \", flowshop.M)\n",
    "print(\"Best permutation : \", sigma.astype(int))\n",
    "print(\"Cmax : \", int(cmax))\n",
    "print(\"Time : \", temps_fin)"
   ]
  },
  {
   "cell_type": "code",
   "execution_count": null,
   "metadata": {},
   "outputs": [],
   "source": [
    "# jobs = 20, machines : 5\n",
    "data =np.array( [\n",
    " [15, 64, 64, 48,  9, 91, 27, 34, 42,  3, 11, 54, 27, 30,  9, 15, 88, 55, 50, 57],\n",
    " [28,  4, 43, 93,  1, 81, 77, 69, 52, 28, 28, 77, 42, 53, 46, 49, 15, 43, 65, 41],\n",
    " [77, 36, 57, 15, 81, 82, 98, 97, 12, 35, 84, 70, 27, 37, 59, 42, 57, 16, 11, 34],\n",
    " [ 1, 59, 95, 49, 90, 78,  3, 69, 99, 41, 73, 28, 99, 13, 59, 47,  8, 92, 87, 62],\n",
    " [45, 73, 59, 63, 54, 98, 39, 75, 33,  8, 86, 41, 41, 22, 43, 34, 80, 16, 37, 94]\n",
    "])\n",
    "\n",
    "flowshop = fsp.FlowShop(data)\n",
    "\n",
    "temps_debut = timeit.default_timer()\n",
    "sigma, cmax = flowshop.branchBound()\n",
    "temps_fin = timeit.default_timer() - temps_debut\n",
    "\n",
    "print(\"Jobs : \", flowshop.N, \" - Machines : \", flowshop.M)\n",
    "print(\"Best permutation : \", sigma.astype(int))\n",
    "print(\"Cmax : \", int(cmax))\n",
    "print(\"Time : \", temps_fin)"
   ]
  },
  {
   "cell_type": "code",
   "execution_count": null,
   "metadata": {},
   "outputs": [],
   "source": [
    "# jobs = 20, machines : 5\n",
    "data =np.array( [\n",
    " [34, 20, 57, 47, 62, 40, 74, 94,  9, 62, 86, 13, 78, 46, 83, 52, 13, 70, 40, 60],\n",
    " [ 5, 48, 80, 43, 34,  2, 87, 68, 28, 84, 30, 35, 42, 39, 85, 34, 36,  9, 96, 84],\n",
    " [86, 35,  5, 93, 74, 12, 40, 95, 80,  6, 92, 14, 83, 49, 36, 38, 43, 89, 94, 33],\n",
    " [28, 39, 55, 21, 25, 88, 59, 40, 90, 18, 33, 10, 59, 92, 15, 77, 31, 85, 85, 99],\n",
    " [ 8, 91, 45, 55, 75, 18, 59, 86, 45, 89, 11, 54, 38, 41, 64, 98, 83, 36, 61, 19]\n",
    "])\n",
    "\n",
    "flowshop = fsp.FlowShop(data)\n",
    "\n",
    "temps_debut = timeit.default_timer()\n",
    "sigma, cmax = flowshop.branchBound()\n",
    "temps_fin = timeit.default_timer() - temps_debut\n",
    "\n",
    "print(\"Jobs : \", flowshop.N, \" - Machines : \", flowshop.M)\n",
    "print(\"Best permutation : \", sigma.astype(int))\n",
    "print(\"Cmax : \", int(cmax))\n",
    "print(\"Time : \", temps_fin)"
   ]
  },
  {
   "cell_type": "code",
   "execution_count": null,
   "metadata": {},
   "outputs": [],
   "source": [
    "# jobs = 20, machines : 5\n",
    "data =np.array( [\n",
    " [37, 36,  1,  4, 64, 74, 32, 67, 73,  7, 78, 64, 98, 60, 89, 49,  2, 79, 79, 53],\n",
    " [59, 16, 90,  3, 76, 74, 22, 30, 89, 61, 39, 15, 69, 57,  9, 13, 71,  2, 34, 49],\n",
    " [65, 94, 96, 47, 35, 34, 84,  3, 60, 34, 70, 57,  8, 74, 13, 37, 87, 71, 89, 57],\n",
    " [70,  3, 43, 14, 26, 83, 26, 65, 47, 94, 75, 30,  1, 71, 46, 87, 78, 76, 75, 55],\n",
    " [94, 98, 63, 83, 19, 79, 54, 78, 29,  8, 38, 97, 61, 10, 37, 16, 78, 96,  9, 91]\n",
    "])\n",
    "\n",
    "flowshop = fsp.FlowShop(data)\n",
    "\n",
    "temps_debut = timeit.default_timer()\n",
    "sigma, cmax = flowshop.branchBound()\n",
    "temps_fin = timeit.default_timer() - temps_debut\n",
    "\n",
    "print(\"Jobs : \", flowshop.N, \" - Machines : \", flowshop.M)\n",
    "print(\"Best permutation : \", sigma.astype(int))\n",
    "print(\"Cmax : \", int(cmax))\n",
    "print(\"Time : \", temps_fin)"
   ]
  },
  {
   "cell_type": "code",
   "execution_count": null,
   "metadata": {},
   "outputs": [],
   "source": [
    "# jobs = 20, machines : 5\n",
    "data =np.array( [\n",
    " [27, 92, 75, 94, 18, 41, 37, 58, 56, 20,  2, 39, 91, 81, 33, 14, 88, 22, 36, 65],\n",
    " [79, 23, 66,  5, 15, 51,  2, 81, 12, 40, 59, 32, 16, 87, 78, 41, 43, 94,  1, 93],\n",
    " [22, 93, 62, 53, 30, 34, 27, 30, 54, 77, 24, 47, 39, 66, 41, 46, 24, 23, 68, 50],\n",
    " [93, 22, 64, 81, 94, 97, 54, 82, 11, 91, 23, 32, 26, 22, 12, 23, 34, 87, 59,  2],\n",
    " [38, 84, 62, 10, 11, 93, 57, 81, 10, 40, 62, 49, 90, 34, 11, 81, 51, 21, 39, 27]\n",
    "])\n",
    "\n",
    "flowshop = fsp.FlowShop(data)\n",
    "\n",
    "temps_debut = timeit.default_timer()\n",
    "sigma, cmax = flowshop.branchBound()\n",
    "temps_fin = timeit.default_timer() - temps_debut\n",
    "\n",
    "print(\"Jobs : \", flowshop.N, \" - Machines : \", flowshop.M)\n",
    "print(\"Best permutation : \", sigma.astype(int))\n",
    "print(\"Cmax : \", int(cmax))\n",
    "print(\"Time : \", temps_fin)"
   ]
  },
  {
   "cell_type": "markdown",
   "metadata": {},
   "source": [
    "## 2. Heuristiques"
   ]
  },
  {
   "cell_type": "code",
   "execution_count": 2,
   "metadata": {},
   "outputs": [],
   "source": [
    "cds_cmax = []\n",
    "neh_cmax = []\n",
    "palmer_cmax = []"
   ]
  },
  {
   "cell_type": "markdown",
   "metadata": {},
   "source": [
    "### 2.1 CDS"
   ]
  },
  {
   "cell_type": "code",
   "execution_count": 3,
   "metadata": {},
   "outputs": [
    {
     "name": "stdout",
     "output_type": "stream",
     "text": [
      "Jobs :  4  - Machines :  3\n",
      "Best permutation :  [4 3 2 1]\n",
      "Cmax :  36\n",
      "Time :  0.0007001999999971531\n"
     ]
    }
   ],
   "source": [
    "# Exemple video\n",
    "data = np.array([\n",
    "    [5,    6,    4],\n",
    "    [8,    7,    8],\n",
    "    [6,    2,    7],\n",
    "    [3,    5,    6]\n",
    " ]).T\n",
    "\n",
    "flowshop = fsp.FlowShop(data)\n",
    "\n",
    "temps_debut = timeit.default_timer()\n",
    "sigma, cmax = flowshop.CDS()\n",
    "temps_fin = timeit.default_timer() - temps_debut\n",
    "\n",
    "print(\"Jobs : \", flowshop.N, \" - Machines : \", flowshop.M)\n",
    "print(\"Best permutation : \", sigma)\n",
    "print(\"Cmax : \", int(cmax))\n",
    "print(\"Time : \", temps_fin)"
   ]
  },
  {
   "cell_type": "code",
   "execution_count": 4,
   "metadata": {},
   "outputs": [
    {
     "name": "stdout",
     "output_type": "stream",
     "text": [
      "Jobs :  5  - Machines :  3\n",
      "Best permutation :  [3 5 4 1 2]\n",
      "Cmax :  107\n",
      "Time :  0.0007961000000022977\n"
     ]
    }
   ],
   "source": [
    "# Exemple PDF\n",
    "data = np.array([\n",
    "    [16,    18,    12],\n",
    "    [14,    10,    11],\n",
    "    [13,    20,    15],\n",
    "    [19,    15,    19],\n",
    "    [15,    16,    16]\n",
    " ]).T\n",
    "\n",
    "flowshop = fsp.FlowShop(data)\n",
    "\n",
    "temps_debut = timeit.default_timer()\n",
    "sigma, cmax = flowshop.CDS()\n",
    "temps_fin = timeit.default_timer() - temps_debut\n",
    "\n",
    "print(\"Jobs : \", flowshop.N, \" - Machines : \", flowshop.M)\n",
    "print(\"Best permutation : \", sigma)\n",
    "print(\"Cmax : \", int(cmax))\n",
    "print(\"Time : \", temps_fin)"
   ]
  },
  {
   "cell_type": "code",
   "execution_count": 5,
   "metadata": {},
   "outputs": [
    {
     "name": "stdout",
     "output_type": "stream",
     "text": [
      "Jobs :  20  - Machines :  5\n",
      "Best permutation :  [15  3  9 14 17  8  7  1 19  4 11 16 12  2  5  6 20 18 10 13]\n",
      "Cmax :  1390\n",
      "Time :  0.0035074999999977763\n"
     ]
    }
   ],
   "source": [
    "# Instance 01 :\n",
    "# jobs = 20, machines : 5\n",
    "# Best known Cmax : 1278\n",
    "\n",
    "data =np.array( [\n",
    " [54, 83, 15, 71, 77, 36, 53, 38, 27, 87, 76, 91, 14, 29, 12, 77, 32, 87, 68, 94],\n",
    " [79,  3, 11, 99, 56, 70, 99, 60,  5, 56,  3, 61, 73, 75, 47, 14, 21, 86,  5, 77],\n",
    " [16, 89, 49, 15, 89, 45, 60, 23, 57, 64,  7,  1, 63, 41, 63, 47, 26, 75, 77, 40],\n",
    " [66, 58, 31, 68, 78, 91, 13, 59, 49, 85, 85,  9, 39, 41, 56, 40, 54, 77, 51, 31],\n",
    " [58, 56, 20, 85, 53, 35, 53, 41, 69, 13, 86, 72,  8, 49, 47, 87, 58, 18, 68, 28]\n",
    "])\n",
    "\n",
    "flowshop = fsp.FlowShop(data)\n",
    "\n",
    "temps_debut = timeit.default_timer()\n",
    "sigma, cmax = flowshop.CDS()\n",
    "temps_fin = timeit.default_timer() - temps_debut\n",
    "\n",
    "print(\"Jobs : \", flowshop.N, \" - Machines : \", flowshop.M)\n",
    "print(\"Best permutation : \", sigma)\n",
    "print(\"Cmax : \", int(cmax))\n",
    "print(\"Time : \", temps_fin)\n",
    "\n",
    "cds_cmax.append(int(cmax))"
   ]
  },
  {
   "cell_type": "code",
   "execution_count": 6,
   "metadata": {},
   "outputs": [
    {
     "name": "stdout",
     "output_type": "stream",
     "text": [
      "Jobs :  20  - Machines :  5\n",
      "Best permutation :  [ 6 19 17 15  3 20  7 12  9  1 13  2 11  5  8 16 18  4 10 14]\n",
      "Cmax :  1424\n",
      "Time :  0.0019431999999994787\n"
     ]
    }
   ],
   "source": [
    "# Instance 02 :\n",
    "# jobs = 20, machines : 5\n",
    "# Best known Cmax : 1359\n",
    "\n",
    "data =np.array( [\n",
    " [26, 38, 27, 88, 95, 55, 54, 63, 23, 45, 86, 43, 43, 40, 37, 54, 35, 59, 43, 50],\n",
    " [59, 62, 44, 10, 23, 64, 47, 68, 54,  9, 30, 31, 92,  7, 14, 95, 76, 82, 91, 37],\n",
    " [78, 90, 64, 49, 47, 20, 61, 93, 36, 47, 70, 54, 87, 13, 40, 34, 55, 13, 11,  5],\n",
    " [88, 54, 47, 83, 84,  9, 30, 11, 92, 63, 62, 75, 48, 23, 85, 23,  4, 31, 13, 98],\n",
    " [69, 30, 61, 35, 53, 98, 94, 33, 77, 31, 54, 71, 78,  9, 79, 51, 76, 56, 80, 72]\n",
    "])\n",
    "\n",
    "flowshop = fsp.FlowShop(data)\n",
    "\n",
    "temps_debut = timeit.default_timer()\n",
    "sigma, cmax = flowshop.CDS()\n",
    "temps_fin = timeit.default_timer() - temps_debut\n",
    "\n",
    "print(\"Jobs : \", flowshop.N, \" - Machines : \", flowshop.M)\n",
    "print(\"Best permutation : \", sigma)\n",
    "print(\"Cmax : \", int(cmax))\n",
    "print(\"Time : \", temps_fin)\n",
    "\n",
    "cds_cmax.append(int(cmax))"
   ]
  },
  {
   "cell_type": "code",
   "execution_count": 7,
   "metadata": {},
   "outputs": [
    {
     "name": "stdout",
     "output_type": "stream",
     "text": [
      "Jobs :  20  - Machines :  5\n",
      "Best permutation :  [ 3 14  1 16 19 11 20 18  7 12  5  9 17  6  8  4 15 10 13  2]\n",
      "Cmax :  1255\n",
      "Time :  0.0021914000000009537\n"
     ]
    }
   ],
   "source": [
    "# Instance 03 :\n",
    "# jobs = 20, machines : 5\n",
    "# Best known Cmax : 1081\n",
    "\n",
    "data =np.array( [\n",
    " [77, 94,  9, 57, 29, 79, 55, 73, 65, 86, 25, 39, 76, 24, 38,  5, 91, 29, 22, 27],\n",
    " [39, 31, 46, 18, 93, 58, 85, 58, 97, 10, 79, 93,  2, 87, 17, 18, 10, 50,  8, 26],\n",
    " [14, 21, 15, 10, 85, 46, 42, 18, 36,  2, 44, 89,  6,  3,  1, 43, 81, 57, 76, 59],\n",
    " [11,  2, 36, 30, 89, 10, 88, 22, 31,  9, 43, 91, 26,  3, 75, 99, 63, 83, 70, 84],\n",
    " [83, 13, 84, 46, 20, 33, 74, 42, 33, 71, 32, 48, 42, 99,  7, 54,  8, 73, 30, 75]\n",
    "])\n",
    "\n",
    "flowshop = fsp.FlowShop(data)\n",
    "\n",
    "temps_debut = timeit.default_timer()\n",
    "sigma, cmax = flowshop.CDS()\n",
    "temps_fin = timeit.default_timer() - temps_debut\n",
    "\n",
    "print(\"Jobs : \", flowshop.N, \" - Machines : \", flowshop.M)\n",
    "print(\"Best permutation : \", sigma)\n",
    "print(\"Cmax : \", int(cmax))\n",
    "print(\"Time : \", temps_fin)\n",
    "\n",
    "cds_cmax.append(int(cmax))"
   ]
  },
  {
   "cell_type": "code",
   "execution_count": 8,
   "metadata": {},
   "outputs": [
    {
     "name": "stdout",
     "output_type": "stream",
     "text": [
      "Jobs :  20  - Machines :  5\n",
      "Best permutation :  [ 9 13 16 11 15 17  7 10  2  1  5  8 19 12 20 14  6  3  4 18]\n",
      "Cmax :  1418\n",
      "Time :  0.001987799999994877\n"
     ]
    }
   ],
   "source": [
    "# Instance 04 :\n",
    "# jobs = 20, machines : 5\n",
    "# Best known Cmax : 1293\n",
    "\n",
    "data =np.array( [\n",
    " [53, 19, 99, 62, 88, 93, 34, 72, 42, 65, 39, 79,  9, 26, 72, 29, 36, 48, 57, 95],\n",
    " [93, 79, 88, 77, 94, 39, 74, 46, 17, 30, 62, 77, 43, 98, 48, 14, 45, 25, 98, 30],\n",
    " [90, 92, 35, 13, 75, 55, 80, 67,  3, 93, 54, 67, 25, 77, 38, 98, 96, 20, 15, 36],\n",
    " [65, 97, 27, 25, 61, 24, 97, 61, 75, 92, 73, 21, 29,  3, 96, 51, 26, 44, 56, 31],\n",
    " [64, 38, 44, 46, 66, 31, 48, 27, 82, 51, 90, 63, 85, 36, 69, 67, 81, 18, 81, 72]\n",
    "])\n",
    "\n",
    "flowshop = fsp.FlowShop(data)\n",
    "\n",
    "temps_debut = timeit.default_timer()\n",
    "sigma, cmax = flowshop.CDS()\n",
    "temps_fin = timeit.default_timer() - temps_debut\n",
    "\n",
    "print(\"Jobs : \", flowshop.N, \" - Machines : \", flowshop.M)\n",
    "print(\"Best permutation : \", sigma)\n",
    "print(\"Cmax : \", int(cmax))\n",
    "print(\"Time : \", temps_fin)\n",
    "\n",
    "cds_cmax.append(int(cmax))"
   ]
  },
  {
   "cell_type": "code",
   "execution_count": 9,
   "metadata": {},
   "outputs": [
    {
     "name": "stdout",
     "output_type": "stream",
     "text": [
      "Jobs :  20  - Machines :  5\n",
      "Best permutation :  [ 3 10 12 13 19 20  4  9 17  6 16  2 15 14 11 18  7  1  8  5]\n",
      "Cmax :  1323\n",
      "Time :  0.0022339000000073383\n"
     ]
    }
   ],
   "source": [
    "# Instance 05 :\n",
    "# jobs = 20, machines : 5\n",
    "# Best known Cmax : 1235\n",
    "\n",
    "data =np.array( [\n",
    " [61, 86, 16, 42, 14, 92, 67, 77, 46, 41, 78,  3, 72, 95, 53, 59, 34, 66, 42, 63],\n",
    " [27, 92,  8, 65, 34,  6, 42, 39,  2,  7, 85, 32, 14, 74, 59, 95, 48, 37, 59,  4],\n",
    " [42, 93, 32, 30, 16, 95, 58, 12, 95, 21, 74, 38,  4, 31, 62, 39, 97, 57,  9, 54],\n",
    " [13, 47,  6, 70, 19, 97, 41,  1, 57, 60, 62, 14, 90, 76, 12, 89, 37, 35, 91, 69],\n",
    " [55, 48, 56, 84, 22, 51, 43, 50, 62, 61, 10, 87, 99, 40, 91, 64, 62, 53, 33, 16]\n",
    "])\n",
    "\n",
    "flowshop = fsp.FlowShop(data)\n",
    "\n",
    "temps_debut = timeit.default_timer()\n",
    "sigma, cmax = flowshop.CDS()\n",
    "temps_fin = timeit.default_timer() - temps_debut\n",
    "\n",
    "print(\"Jobs : \", flowshop.N, \" - Machines : \", flowshop.M)\n",
    "print(\"Best permutation : \", sigma)\n",
    "print(\"Cmax : \", int(cmax))\n",
    "print(\"Time : \", temps_fin)\n",
    "\n",
    "cds_cmax.append(int(cmax))"
   ]
  },
  {
   "cell_type": "code",
   "execution_count": 10,
   "metadata": {},
   "outputs": [
    {
     "name": "stdout",
     "output_type": "stream",
     "text": [
      "Jobs :  20  - Machines :  5\n",
      "Best permutation :  [14  5 16  6 11 13 20 17  7 12  1  4 18 15  8 10  9  2 19  3]\n",
      "Cmax :  1312\n",
      "Time :  0.0015119000000112237\n"
     ]
    }
   ],
   "source": [
    "# Instance 06 :\n",
    "# jobs = 20, machines : 5\n",
    "# Best known Cmax : 1195\n",
    "data =np.array( [\n",
    " [71, 27, 55, 90, 11, 18, 42, 64, 73, 95, 22, 53, 32,  5, 94, 12, 41, 85, 75, 38],\n",
    " [13, 11, 73, 43, 27, 33, 57, 42, 71,  3, 11, 49,  8,  3, 47, 58, 23, 79, 99, 23],\n",
    " [61, 25, 52, 72, 89, 75, 60, 28, 94, 95, 18, 73, 40, 61, 68, 75, 37, 13, 65,  7],\n",
    " [21,  8,  5,  8, 58, 59, 85, 35, 84, 97, 93, 60, 99, 29, 94, 41, 51, 87, 97, 11],\n",
    " [91, 13,  7, 95, 20, 69, 45, 44, 29, 32, 94, 84, 60, 49, 49, 65, 85, 52,  8, 58]\n",
    "])\n",
    "\n",
    "flowshop = fsp.FlowShop(data)\n",
    "\n",
    "temps_debut = timeit.default_timer()\n",
    "sigma, cmax = flowshop.CDS()\n",
    "temps_fin = timeit.default_timer() - temps_debut\n",
    "\n",
    "print(\"Jobs : \", flowshop.N, \" - Machines : \", flowshop.M)\n",
    "print(\"Best permutation : \", sigma)\n",
    "print(\"Cmax : \", int(cmax))\n",
    "print(\"Time : \", temps_fin)\n",
    "\n",
    "cds_cmax.append(int(cmax))"
   ]
  },
  {
   "cell_type": "code",
   "execution_count": 11,
   "metadata": {},
   "outputs": [
    {
     "name": "stdout",
     "output_type": "stream",
     "text": [
      "Jobs :  20  - Machines :  5\n",
      "Best permutation :  [10  5 15 11  1 16  7 13  8  4 20  2  6 17  3 12 19  9 14 18]\n",
      "Cmax :  1393\n",
      "Time :  0.001653500000003305\n"
     ]
    }
   ],
   "source": [
    "# Instance 07 :\n",
    "# jobs = 20, machines : 5\n",
    "# Best known Cmax : ?\n",
    "\n",
    "data =np.array( [\n",
    " [15, 64, 64, 48,  9, 91, 27, 34, 42,  3, 11, 54, 27, 30,  9, 15, 88, 55, 50, 57],\n",
    " [28,  4, 43, 93,  1, 81, 77, 69, 52, 28, 28, 77, 42, 53, 46, 49, 15, 43, 65, 41],\n",
    " [77, 36, 57, 15, 81, 82, 98, 97, 12, 35, 84, 70, 27, 37, 59, 42, 57, 16, 11, 34],\n",
    " [ 1, 59, 95, 49, 90, 78,  3, 69, 99, 41, 73, 28, 99, 13, 59, 47,  8, 92, 87, 62],\n",
    " [45, 73, 59, 63, 54, 98, 39, 75, 33,  8, 86, 41, 41, 22, 43, 34, 80, 16, 37, 94]\n",
    "])\n",
    "\n",
    "flowshop = fsp.FlowShop(data)\n",
    "\n",
    "temps_debut = timeit.default_timer()\n",
    "sigma, cmax = flowshop.CDS()\n",
    "temps_fin = timeit.default_timer() - temps_debut\n",
    "\n",
    "print(\"Jobs : \", flowshop.N, \" - Machines : \", flowshop.M)\n",
    "print(\"Best permutation : \", sigma)\n",
    "print(\"Cmax : \", int(cmax))\n",
    "print(\"Time : \", temps_fin)"
   ]
  },
  {
   "cell_type": "code",
   "execution_count": 12,
   "metadata": {},
   "outputs": [
    {
     "name": "stdout",
     "output_type": "stream",
     "text": [
      "Jobs :  20  - Machines :  5\n",
      "Best permutation :  [ 9  6 12 17  2 18 14 16  5 19  8  7 20 10  3 13 15  4 11  1]\n",
      "Cmax :  1345\n",
      "Time :  0.002352000000001908\n"
     ]
    }
   ],
   "source": [
    "# Instance 08 :\n",
    "# jobs = 20, machines : 5\n",
    "# Best known Cmax : 1206\n",
    "\n",
    "# jobs = 20, machines : 5\n",
    "data =np.array( [\n",
    " [34, 20, 57, 47, 62, 40, 74, 94,  9, 62, 86, 13, 78, 46, 83, 52, 13, 70, 40, 60],\n",
    " [ 5, 48, 80, 43, 34,  2, 87, 68, 28, 84, 30, 35, 42, 39, 85, 34, 36,  9, 96, 84],\n",
    " [86, 35,  5, 93, 74, 12, 40, 95, 80,  6, 92, 14, 83, 49, 36, 38, 43, 89, 94, 33],\n",
    " [28, 39, 55, 21, 25, 88, 59, 40, 90, 18, 33, 10, 59, 92, 15, 77, 31, 85, 85, 99],\n",
    " [ 8, 91, 45, 55, 75, 18, 59, 86, 45, 89, 11, 54, 38, 41, 64, 98, 83, 36, 61, 19]\n",
    "])\n",
    "\n",
    "flowshop = fsp.FlowShop(data)\n",
    "\n",
    "temps_debut = timeit.default_timer()\n",
    "sigma, cmax = flowshop.CDS()\n",
    "temps_fin = timeit.default_timer() - temps_debut\n",
    "\n",
    "print(\"Jobs : \", flowshop.N, \" - Machines : \", flowshop.M)\n",
    "print(\"Best permutation : \", sigma)\n",
    "print(\"Cmax : \", int(cmax))\n",
    "print(\"Time : \", temps_fin)\n",
    "\n",
    "cds_cmax.append(int(cmax))"
   ]
  },
  {
   "cell_type": "code",
   "execution_count": 13,
   "metadata": {},
   "outputs": [
    {
     "name": "stdout",
     "output_type": "stream",
     "text": [
      "Jobs :  20  - Machines :  5\n",
      "Best permutation :  [ 4  2  7  8 12 10 20 18  3  1 17  6  9 11 14 19  5 16 13 15]\n",
      "Cmax :  1360\n",
      "Time :  0.0029417000000080407\n"
     ]
    }
   ],
   "source": [
    "# Instance 09 :\n",
    "# jobs = 20, machines : 5\n",
    "# Best known Cmax : 1230\n",
    "\n",
    "data =np.array( [\n",
    " [37, 36,  1,  4, 64, 74, 32, 67, 73,  7, 78, 64, 98, 60, 89, 49,  2, 79, 79, 53],\n",
    " [59, 16, 90,  3, 76, 74, 22, 30, 89, 61, 39, 15, 69, 57,  9, 13, 71,  2, 34, 49],\n",
    " [65, 94, 96, 47, 35, 34, 84,  3, 60, 34, 70, 57,  8, 74, 13, 37, 87, 71, 89, 57],\n",
    " [70,  3, 43, 14, 26, 83, 26, 65, 47, 94, 75, 30,  1, 71, 46, 87, 78, 76, 75, 55],\n",
    " [94, 98, 63, 83, 19, 79, 54, 78, 29,  8, 38, 97, 61, 10, 37, 16, 78, 96,  9, 91]\n",
    "])\n",
    "\n",
    "flowshop = fsp.FlowShop(data)\n",
    "\n",
    "temps_debut = timeit.default_timer()\n",
    "sigma, cmax = flowshop.CDS()\n",
    "temps_fin = timeit.default_timer() - temps_debut\n",
    "\n",
    "print(\"Jobs : \", flowshop.N, \" - Machines : \", flowshop.M)\n",
    "print(\"Best permutation : \", sigma)\n",
    "print(\"Cmax : \", int(cmax))\n",
    "print(\"Time : \", temps_fin)\n",
    "\n",
    "cds_cmax.append(int(cmax))"
   ]
  },
  {
   "cell_type": "code",
   "execution_count": 14,
   "metadata": {},
   "outputs": [
    {
     "name": "stdout",
     "output_type": "stream",
     "text": [
      "Jobs :  20  - Machines :  5\n",
      "Best permutation :  [ 5  7 11 16 19 12  6  1 10 13  8  2  3  4 18 14 17 20  9 15]\n",
      "Cmax :  1164\n",
      "Time :  0.004309899999995537\n"
     ]
    }
   ],
   "source": [
    "# Instance 10 :\n",
    "# jobs = 20, machines : 5\n",
    "# Best known Cmax : 1108\n",
    "\n",
    "data =np.array( [\n",
    " [27, 92, 75, 94, 18, 41, 37, 58, 56, 20,  2, 39, 91, 81, 33, 14, 88, 22, 36, 65],\n",
    " [79, 23, 66,  5, 15, 51,  2, 81, 12, 40, 59, 32, 16, 87, 78, 41, 43, 94,  1, 93],\n",
    " [22, 93, 62, 53, 30, 34, 27, 30, 54, 77, 24, 47, 39, 66, 41, 46, 24, 23, 68, 50],\n",
    " [93, 22, 64, 81, 94, 97, 54, 82, 11, 91, 23, 32, 26, 22, 12, 23, 34, 87, 59,  2],\n",
    " [38, 84, 62, 10, 11, 93, 57, 81, 10, 40, 62, 49, 90, 34, 11, 81, 51, 21, 39, 27]\n",
    "])\n",
    "\n",
    "flowshop = fsp.FlowShop(data)\n",
    "\n",
    "temps_debut = timeit.default_timer()\n",
    "sigma, cmax = flowshop.CDS()\n",
    "temps_fin = timeit.default_timer() - temps_debut\n",
    "\n",
    "print(\"Jobs : \", flowshop.N, \" - Machines : \", flowshop.M)\n",
    "print(\"Best permutation : \", sigma)\n",
    "print(\"Cmax : \", int(cmax))\n",
    "print(\"Time : \", temps_fin)\n",
    "\n",
    "cds_cmax.append(int(cmax))"
   ]
  },
  {
   "cell_type": "markdown",
   "metadata": {},
   "source": [
    "### 2.2 NEH"
   ]
  },
  {
   "cell_type": "code",
   "execution_count": 15,
   "metadata": {},
   "outputs": [
    {
     "name": "stdout",
     "output_type": "stream",
     "text": [
      "Jobs :  4  - Machines :  3\n",
      "Best permutation :  [4, 3, 2, 1]\n",
      "Cmax :  36\n",
      "Time :  0.0006971999999905165\n"
     ]
    }
   ],
   "source": [
    "# Exemple video\n",
    "data = np.array([\n",
    "    [5,    6,    4],\n",
    "    [8,    7,    8],\n",
    "    [6,    2,    7],\n",
    "    [3,    5,    6]\n",
    " ]).T\n",
    "\n",
    "flowshop = fsp.FlowShop(data)\n",
    "\n",
    "temps_debut = timeit.default_timer()\n",
    "sigma, cmax = flowshop.NEH()\n",
    "temps_fin = timeit.default_timer() - temps_debut\n",
    "\n",
    "print(\"Jobs : \", flowshop.N, \" - Machines : \", flowshop.M)\n",
    "print(\"Best permutation : \", sigma)\n",
    "print(\"Cmax : \", int(cmax))\n",
    "print(\"Time : \", temps_fin)"
   ]
  },
  {
   "cell_type": "code",
   "execution_count": 16,
   "metadata": {},
   "outputs": [
    {
     "name": "stdout",
     "output_type": "stream",
     "text": [
      "Jobs :  5  - Machines :  3\n",
      "Best permutation :  [3, 4, 5, 1, 2]\n",
      "Cmax :  106\n",
      "Time :  0.0005234000000058359\n"
     ]
    }
   ],
   "source": [
    "# Exemple PDF\n",
    "data = np.array([\n",
    "    [16,    18,    12],\n",
    "    [14,    10,    11],\n",
    "    [13,    20,    15],\n",
    "    [19,    15,    19],\n",
    "    [15,    16,    16]\n",
    " ]).T\n",
    "\n",
    "flowshop = fsp.FlowShop(data)\n",
    "\n",
    "temps_debut = timeit.default_timer()\n",
    "sigma, cmax = flowshop.NEH()\n",
    "temps_fin = timeit.default_timer() - temps_debut\n",
    "\n",
    "print(\"Jobs : \", flowshop.N, \" - Machines : \", flowshop.M)\n",
    "print(\"Best permutation : \", sigma)\n",
    "print(\"Cmax : \", int(cmax))\n",
    "print(\"Time : \", temps_fin)"
   ]
  },
  {
   "cell_type": "code",
   "execution_count": 17,
   "metadata": {},
   "outputs": [
    {
     "name": "stdout",
     "output_type": "stream",
     "text": [
      "Jobs :  20  - Machines :  5\n",
      "Best permutation :  [3, 17, 9, 8, 15, 14, 11, 16, 13, 19, 6, 4, 5, 18, 1, 2, 10, 7, 20, 12]\n",
      "Cmax :  1286\n",
      "Time :  0.05630299999999977\n"
     ]
    }
   ],
   "source": [
    "# Instance 01 :\n",
    "# jobs = 20, machines : 5\n",
    "# Best known Cmax : 1278\n",
    "\n",
    "data =np.array( [\n",
    " [54, 83, 15, 71, 77, 36, 53, 38, 27, 87, 76, 91, 14, 29, 12, 77, 32, 87, 68, 94],\n",
    " [79,  3, 11, 99, 56, 70, 99, 60,  5, 56,  3, 61, 73, 75, 47, 14, 21, 86,  5, 77],\n",
    " [16, 89, 49, 15, 89, 45, 60, 23, 57, 64,  7,  1, 63, 41, 63, 47, 26, 75, 77, 40],\n",
    " [66, 58, 31, 68, 78, 91, 13, 59, 49, 85, 85,  9, 39, 41, 56, 40, 54, 77, 51, 31],\n",
    " [58, 56, 20, 85, 53, 35, 53, 41, 69, 13, 86, 72,  8, 49, 47, 87, 58, 18, 68, 28]\n",
    "])\n",
    "\n",
    "flowshop = fsp.FlowShop(data)\n",
    "\n",
    "temps_debut = timeit.default_timer()\n",
    "sigma, cmax = flowshop.NEH()\n",
    "temps_fin = timeit.default_timer() - temps_debut\n",
    "\n",
    "print(\"Jobs : \", flowshop.N, \" - Machines : \", flowshop.M)\n",
    "print(\"Best permutation : \", sigma)\n",
    "print(\"Cmax : \", int(cmax))\n",
    "print(\"Time : \", temps_fin)\n",
    "\n",
    "neh_cmax.append(int(cmax))"
   ]
  },
  {
   "cell_type": "code",
   "execution_count": 18,
   "metadata": {},
   "outputs": [
    {
     "name": "stdout",
     "output_type": "stream",
     "text": [
      "Jobs :  20  - Machines :  5\n",
      "Best permutation :  [19, 14, 6, 20, 3, 10, 17, 9, 18, 12, 7, 15, 1, 13, 16, 5, 4, 11, 2, 8]\n",
      "Cmax :  1365\n",
      "Time :  0.03635709999998937\n"
     ]
    }
   ],
   "source": [
    "# Instance 02 :\n",
    "# jobs = 20, machines : 5\n",
    "# Best known Cmax : 1359\n",
    "\n",
    "data =np.array( [\n",
    " [26, 38, 27, 88, 95, 55, 54, 63, 23, 45, 86, 43, 43, 40, 37, 54, 35, 59, 43, 50],\n",
    " [59, 62, 44, 10, 23, 64, 47, 68, 54,  9, 30, 31, 92,  7, 14, 95, 76, 82, 91, 37],\n",
    " [78, 90, 64, 49, 47, 20, 61, 93, 36, 47, 70, 54, 87, 13, 40, 34, 55, 13, 11,  5],\n",
    " [88, 54, 47, 83, 84,  9, 30, 11, 92, 63, 62, 75, 48, 23, 85, 23,  4, 31, 13, 98],\n",
    " [69, 30, 61, 35, 53, 98, 94, 33, 77, 31, 54, 71, 78,  9, 79, 51, 76, 56, 80, 72]\n",
    "])\n",
    "\n",
    "flowshop = fsp.FlowShop(data)\n",
    "\n",
    "temps_debut = timeit.default_timer()\n",
    "sigma, cmax = flowshop.NEH()\n",
    "temps_fin = timeit.default_timer() - temps_debut\n",
    "\n",
    "print(\"Jobs : \", flowshop.N, \" - Machines : \", flowshop.M)\n",
    "print(\"Best permutation : \", sigma)\n",
    "print(\"Cmax : \", int(cmax))\n",
    "print(\"Time : \", temps_fin)\n",
    "\n",
    "neh_cmax.append(int(cmax))"
   ]
  },
  {
   "cell_type": "code",
   "execution_count": 19,
   "metadata": {},
   "outputs": [
    {
     "name": "stdout",
     "output_type": "stream",
     "text": [
      "Jobs :  20  - Machines :  5\n",
      "Best permutation :  [16, 3, 20, 18, 7, 1, 12, 10, 5, 2, 9, 4, 19, 14, 17, 6, 13, 11, 8, 15]\n",
      "Cmax :  1159\n",
      "Time :  0.033976800000004914\n"
     ]
    }
   ],
   "source": [
    "# Instance 03 :\n",
    "# jobs = 20, machines : 5\n",
    "# Best known Cmax : 1081\n",
    "\n",
    "data =np.array( [\n",
    " [77, 94,  9, 57, 29, 79, 55, 73, 65, 86, 25, 39, 76, 24, 38,  5, 91, 29, 22, 27],\n",
    " [39, 31, 46, 18, 93, 58, 85, 58, 97, 10, 79, 93,  2, 87, 17, 18, 10, 50,  8, 26],\n",
    " [14, 21, 15, 10, 85, 46, 42, 18, 36,  2, 44, 89,  6,  3,  1, 43, 81, 57, 76, 59],\n",
    " [11,  2, 36, 30, 89, 10, 88, 22, 31,  9, 43, 91, 26,  3, 75, 99, 63, 83, 70, 84],\n",
    " [83, 13, 84, 46, 20, 33, 74, 42, 33, 71, 32, 48, 42, 99,  7, 54,  8, 73, 30, 75]\n",
    "])\n",
    "\n",
    "flowshop = fsp.FlowShop(data)\n",
    "\n",
    "temps_debut = timeit.default_timer()\n",
    "sigma, cmax = flowshop.NEH()\n",
    "temps_fin = timeit.default_timer() - temps_debut\n",
    "\n",
    "print(\"Jobs : \", flowshop.N, \" - Machines : \", flowshop.M)\n",
    "print(\"Best permutation : \", sigma)\n",
    "print(\"Cmax : \", int(cmax))\n",
    "print(\"Time : \", temps_fin)\n",
    "\n",
    "neh_cmax.append(int(cmax))"
   ]
  },
  {
   "cell_type": "code",
   "execution_count": 20,
   "metadata": {},
   "outputs": [
    {
     "name": "stdout",
     "output_type": "stream",
     "text": [
      "Jobs :  20  - Machines :  5\n",
      "Best permutation :  [13, 16, 9, 17, 11, 19, 10, 6, 7, 15, 1, 12, 5, 20, 2, 3, 8, 14, 4, 18]\n",
      "Cmax :  1325\n",
      "Time :  0.030880099999990307\n"
     ]
    }
   ],
   "source": [
    "# Instance 04 :\n",
    "# jobs = 20, machines : 5\n",
    "# Best known Cmax : 1293\n",
    "\n",
    "data =np.array( [\n",
    " [53, 19, 99, 62, 88, 93, 34, 72, 42, 65, 39, 79,  9, 26, 72, 29, 36, 48, 57, 95],\n",
    " [93, 79, 88, 77, 94, 39, 74, 46, 17, 30, 62, 77, 43, 98, 48, 14, 45, 25, 98, 30],\n",
    " [90, 92, 35, 13, 75, 55, 80, 67,  3, 93, 54, 67, 25, 77, 38, 98, 96, 20, 15, 36],\n",
    " [65, 97, 27, 25, 61, 24, 97, 61, 75, 92, 73, 21, 29,  3, 96, 51, 26, 44, 56, 31],\n",
    " [64, 38, 44, 46, 66, 31, 48, 27, 82, 51, 90, 63, 85, 36, 69, 67, 81, 18, 81, 72]\n",
    "])\n",
    "\n",
    "flowshop = fsp.FlowShop(data)\n",
    "\n",
    "temps_debut = timeit.default_timer()\n",
    "sigma, cmax = flowshop.NEH()\n",
    "temps_fin = timeit.default_timer() - temps_debut\n",
    "\n",
    "print(\"Jobs : \", flowshop.N, \" - Machines : \", flowshop.M)\n",
    "print(\"Best permutation : \", sigma)\n",
    "print(\"Cmax : \", int(cmax))\n",
    "print(\"Time : \", temps_fin)\n",
    "\n",
    "neh_cmax.append(int(cmax))"
   ]
  },
  {
   "cell_type": "code",
   "execution_count": 21,
   "metadata": {},
   "outputs": [
    {
     "name": "stdout",
     "output_type": "stream",
     "text": [
      "Jobs :  20  - Machines :  5\n",
      "Best permutation :  [5, 3, 12, 10, 20, 19, 9, 18, 7, 17, 15, 13, 4, 16, 6, 2, 14, 11, 8, 1]\n",
      "Cmax :  1305\n",
      "Time :  0.046088299999993865\n"
     ]
    }
   ],
   "source": [
    "# Instance 05 :\n",
    "# jobs = 20, machines : 5\n",
    "# Best known Cmax : 1235\n",
    "\n",
    "data =np.array( [\n",
    " [61, 86, 16, 42, 14, 92, 67, 77, 46, 41, 78,  3, 72, 95, 53, 59, 34, 66, 42, 63],\n",
    " [27, 92,  8, 65, 34,  6, 42, 39,  2,  7, 85, 32, 14, 74, 59, 95, 48, 37, 59,  4],\n",
    " [42, 93, 32, 30, 16, 95, 58, 12, 95, 21, 74, 38,  4, 31, 62, 39, 97, 57,  9, 54],\n",
    " [13, 47,  6, 70, 19, 97, 41,  1, 57, 60, 62, 14, 90, 76, 12, 89, 37, 35, 91, 69],\n",
    " [55, 48, 56, 84, 22, 51, 43, 50, 62, 61, 10, 87, 99, 40, 91, 64, 62, 53, 33, 16]\n",
    "])\n",
    "\n",
    "flowshop = fsp.FlowShop(data)\n",
    "\n",
    "temps_debut = timeit.default_timer()\n",
    "sigma, cmax = flowshop.NEH()\n",
    "temps_fin = timeit.default_timer() - temps_debut\n",
    "\n",
    "print(\"Jobs : \", flowshop.N, \" - Machines : \", flowshop.M)\n",
    "print(\"Best permutation : \", sigma)\n",
    "print(\"Cmax : \", int(cmax))\n",
    "print(\"Time : \", temps_fin)\n",
    "\n",
    "neh_cmax.append(int(cmax))"
   ]
  },
  {
   "cell_type": "code",
   "execution_count": 22,
   "metadata": {},
   "outputs": [
    {
     "name": "stdout",
     "output_type": "stream",
     "text": [
      "Jobs :  20  - Machines :  5\n",
      "Best permutation :  [11, 5, 20, 13, 8, 17, 6, 16, 1, 7, 12, 14, 2, 18, 10, 15, 9, 4, 19, 3]\n",
      "Cmax :  1228\n",
      "Time :  0.045089799999999514\n"
     ]
    }
   ],
   "source": [
    "# Instance 06 :\n",
    "# jobs = 20, machines : 5\n",
    "# Best known Cmax : 1195\n",
    "data =np.array( [\n",
    " [71, 27, 55, 90, 11, 18, 42, 64, 73, 95, 22, 53, 32,  5, 94, 12, 41, 85, 75, 38],\n",
    " [13, 11, 73, 43, 27, 33, 57, 42, 71,  3, 11, 49,  8,  3, 47, 58, 23, 79, 99, 23],\n",
    " [61, 25, 52, 72, 89, 75, 60, 28, 94, 95, 18, 73, 40, 61, 68, 75, 37, 13, 65,  7],\n",
    " [21,  8,  5,  8, 58, 59, 85, 35, 84, 97, 93, 60, 99, 29, 94, 41, 51, 87, 97, 11],\n",
    " [91, 13,  7, 95, 20, 69, 45, 44, 29, 32, 94, 84, 60, 49, 49, 65, 85, 52,  8, 58]\n",
    "])\n",
    "\n",
    "flowshop = fsp.FlowShop(data)\n",
    "\n",
    "temps_debut = timeit.default_timer()\n",
    "sigma, cmax = flowshop.NEH()\n",
    "temps_fin = timeit.default_timer() - temps_debut\n",
    "\n",
    "print(\"Jobs : \", flowshop.N, \" - Machines : \", flowshop.M)\n",
    "print(\"Best permutation : \", sigma)\n",
    "print(\"Cmax : \", int(cmax))\n",
    "print(\"Time : \", temps_fin)\n",
    "\n",
    "neh_cmax.append(int(cmax))"
   ]
  },
  {
   "cell_type": "code",
   "execution_count": 23,
   "metadata": {},
   "outputs": [
    {
     "name": "stdout",
     "output_type": "stream",
     "text": [
      "Jobs :  20  - Machines :  5\n",
      "Best permutation :  [5, 16, 15, 14, 2, 11, 1, 20, 13, 8, 6, 9, 7, 17, 19, 12, 4, 3, 18, 10]\n",
      "Cmax :  1278\n",
      "Time :  0.029269299999995724\n"
     ]
    }
   ],
   "source": [
    "# Instance 07 :\n",
    "# jobs = 20, machines : 5\n",
    "# Best known Cmax : ?\n",
    "\n",
    "data =np.array( [\n",
    " [15, 64, 64, 48,  9, 91, 27, 34, 42,  3, 11, 54, 27, 30,  9, 15, 88, 55, 50, 57],\n",
    " [28,  4, 43, 93,  1, 81, 77, 69, 52, 28, 28, 77, 42, 53, 46, 49, 15, 43, 65, 41],\n",
    " [77, 36, 57, 15, 81, 82, 98, 97, 12, 35, 84, 70, 27, 37, 59, 42, 57, 16, 11, 34],\n",
    " [ 1, 59, 95, 49, 90, 78,  3, 69, 99, 41, 73, 28, 99, 13, 59, 47,  8, 92, 87, 62],\n",
    " [45, 73, 59, 63, 54, 98, 39, 75, 33,  8, 86, 41, 41, 22, 43, 34, 80, 16, 37, 94]\n",
    "])\n",
    "\n",
    "flowshop = fsp.FlowShop(data)\n",
    "\n",
    "temps_debut = timeit.default_timer()\n",
    "sigma, cmax = flowshop.NEH()\n",
    "temps_fin = timeit.default_timer() - temps_debut\n",
    "\n",
    "print(\"Jobs : \", flowshop.N, \" - Machines : \", flowshop.M)\n",
    "print(\"Best permutation : \", sigma)\n",
    "print(\"Cmax : \", int(cmax))\n",
    "print(\"Time : \", temps_fin)"
   ]
  },
  {
   "cell_type": "code",
   "execution_count": 24,
   "metadata": {},
   "outputs": [
    {
     "name": "stdout",
     "output_type": "stream",
     "text": [
      "Jobs :  20  - Machines :  5\n",
      "Best permutation :  [17, 12, 9, 2, 14, 10, 18, 4, 16, 19, 7, 8, 6, 5, 20, 15, 13, 1, 3, 11]\n",
      "Cmax :  1223\n",
      "Time :  0.03412959999999998\n"
     ]
    }
   ],
   "source": [
    "# Instance 08 :\n",
    "# jobs = 20, machines : 5\n",
    "# Best known Cmax : 1206\n",
    "\n",
    "# jobs = 20, machines : 5\n",
    "data =np.array( [\n",
    " [34, 20, 57, 47, 62, 40, 74, 94,  9, 62, 86, 13, 78, 46, 83, 52, 13, 70, 40, 60],\n",
    " [ 5, 48, 80, 43, 34,  2, 87, 68, 28, 84, 30, 35, 42, 39, 85, 34, 36,  9, 96, 84],\n",
    " [86, 35,  5, 93, 74, 12, 40, 95, 80,  6, 92, 14, 83, 49, 36, 38, 43, 89, 94, 33],\n",
    " [28, 39, 55, 21, 25, 88, 59, 40, 90, 18, 33, 10, 59, 92, 15, 77, 31, 85, 85, 99],\n",
    " [ 8, 91, 45, 55, 75, 18, 59, 86, 45, 89, 11, 54, 38, 41, 64, 98, 83, 36, 61, 19]\n",
    "])\n",
    "\n",
    "flowshop = fsp.FlowShop(data)\n",
    "\n",
    "temps_debut = timeit.default_timer()\n",
    "sigma, cmax = flowshop.NEH()\n",
    "temps_fin = timeit.default_timer() - temps_debut\n",
    "\n",
    "print(\"Jobs : \", flowshop.N, \" - Machines : \", flowshop.M)\n",
    "print(\"Best permutation : \", sigma)\n",
    "print(\"Cmax : \", int(cmax))\n",
    "print(\"Time : \", temps_fin)\n",
    "\n",
    "neh_cmax.append(int(cmax))"
   ]
  },
  {
   "cell_type": "code",
   "execution_count": 25,
   "metadata": {},
   "outputs": [
    {
     "name": "stdout",
     "output_type": "stream",
     "text": [
      "Jobs :  20  - Machines :  5\n",
      "Best permutation :  [4, 2, 20, 18, 17, 15, 1, 10, 7, 9, 16, 13, 8, 3, 5, 12, 6, 14, 11, 19]\n",
      "Cmax :  1291\n",
      "Time :  0.0391519999999872\n"
     ]
    }
   ],
   "source": [
    "# Instance 09 :\n",
    "# jobs = 20, machines : 5\n",
    "# Best known Cmax : 1230\n",
    "\n",
    "data =np.array( [\n",
    " [37, 36,  1,  4, 64, 74, 32, 67, 73,  7, 78, 64, 98, 60, 89, 49,  2, 79, 79, 53],\n",
    " [59, 16, 90,  3, 76, 74, 22, 30, 89, 61, 39, 15, 69, 57,  9, 13, 71,  2, 34, 49],\n",
    " [65, 94, 96, 47, 35, 34, 84,  3, 60, 34, 70, 57,  8, 74, 13, 37, 87, 71, 89, 57],\n",
    " [70,  3, 43, 14, 26, 83, 26, 65, 47, 94, 75, 30,  1, 71, 46, 87, 78, 76, 75, 55],\n",
    " [94, 98, 63, 83, 19, 79, 54, 78, 29,  8, 38, 97, 61, 10, 37, 16, 78, 96,  9, 91]\n",
    "])\n",
    "\n",
    "flowshop = fsp.FlowShop(data)\n",
    "\n",
    "temps_debut = timeit.default_timer()\n",
    "sigma, cmax = flowshop.NEH()\n",
    "temps_fin = timeit.default_timer() - temps_debut\n",
    "\n",
    "print(\"Jobs : \", flowshop.N, \" - Machines : \", flowshop.M)\n",
    "print(\"Best permutation : \", sigma)\n",
    "print(\"Cmax : \", int(cmax))\n",
    "print(\"Time : \", temps_fin)\n",
    "\n",
    "neh_cmax.append(int(cmax))"
   ]
  },
  {
   "cell_type": "code",
   "execution_count": 26,
   "metadata": {},
   "outputs": [
    {
     "name": "stdout",
     "output_type": "stream",
     "text": [
      "Jobs :  20  - Machines :  5\n",
      "Best permutation :  [7, 19, 11, 12, 16, 6, 1, 13, 10, 15, 2, 8, 3, 4, 18, 14, 17, 5, 20, 9]\n",
      "Cmax :  1151\n",
      "Time :  0.04440259999999796\n"
     ]
    }
   ],
   "source": [
    "# Instance 10 :\n",
    "# jobs = 20, machines : 5\n",
    "# Best known Cmax : 1108\n",
    "\n",
    "data =np.array( [\n",
    " [27, 92, 75, 94, 18, 41, 37, 58, 56, 20,  2, 39, 91, 81, 33, 14, 88, 22, 36, 65],\n",
    " [79, 23, 66,  5, 15, 51,  2, 81, 12, 40, 59, 32, 16, 87, 78, 41, 43, 94,  1, 93],\n",
    " [22, 93, 62, 53, 30, 34, 27, 30, 54, 77, 24, 47, 39, 66, 41, 46, 24, 23, 68, 50],\n",
    " [93, 22, 64, 81, 94, 97, 54, 82, 11, 91, 23, 32, 26, 22, 12, 23, 34, 87, 59,  2],\n",
    " [38, 84, 62, 10, 11, 93, 57, 81, 10, 40, 62, 49, 90, 34, 11, 81, 51, 21, 39, 27]\n",
    "])\n",
    "\n",
    "flowshop = fsp.FlowShop(data)\n",
    "\n",
    "temps_debut = timeit.default_timer()\n",
    "sigma, cmax = flowshop.NEH()\n",
    "temps_fin = timeit.default_timer() - temps_debut\n",
    "\n",
    "print(\"Jobs : \", flowshop.N, \" - Machines : \", flowshop.M)\n",
    "print(\"Best permutation : \", sigma)\n",
    "print(\"Cmax : \", int(cmax))\n",
    "print(\"Time : \", temps_fin)\n",
    "\n",
    "neh_cmax.append(int(cmax))"
   ]
  },
  {
   "cell_type": "markdown",
   "metadata": {},
   "source": [
    "### 2.2 Palmer"
   ]
  },
  {
   "cell_type": "code",
   "execution_count": 27,
   "metadata": {},
   "outputs": [
    {
     "name": "stdout",
     "output_type": "stream",
     "text": [
      "Jobs :  5  - Machines :  3\n",
      "Best permutation :  [3, 5, 4, 2, 1]\n",
      "Cmax :  107\n",
      "Time :  0.0004576000000042768\n"
     ]
    }
   ],
   "source": [
    "#Exemple du livre \n",
    "data = np.array([\n",
    "    [16,    18,   12],\n",
    "    [14,    10,   11],\n",
    "    [13,    20,   15],\n",
    "    [19,    15,   19],\n",
    "    [15,   16,    16]\n",
    " ]).T\n",
    "\n",
    "flowshop = fsp.FlowShop(data)\n",
    "\n",
    "temps_debut = timeit.default_timer()\n",
    "#sigma, cmax = flowshop.branchBound()\n",
    "sigma, cmax = flowshop.palmer_heuristic()\n",
    "temps_fin = timeit.default_timer() - temps_debut\n",
    "\n",
    "print(\"Jobs : \", flowshop.N, \" - Machines : \", flowshop.M)\n",
    "print(\"Best permutation : \", sigma)\n",
    "print(\"Cmax : \", int(cmax))\n",
    "print(\"Time : \", temps_fin)"
   ]
  },
  {
   "cell_type": "code",
   "execution_count": 28,
   "metadata": {},
   "outputs": [
    {
     "name": "stdout",
     "output_type": "stream",
     "text": [
      "Jobs :  20  - Machines :  5\n",
      "Best permutation :  [9, 11, 17, 15, 16, 19, 3, 6, 14, 8, 2, 4, 1, 5, 13, 7, 12, 10, 18, 20]\n",
      "Cmax :  1384\n",
      "Time :  0.0004908000000085622\n"
     ]
    }
   ],
   "source": [
    "import FSP as fsp\n",
    "import numpy as np\n",
    "import pandas as pd\n",
    "import timeit"
   ]
  },
  {
   "cell_type": "markdown",
   "id": "78c0917a-22f6-48fc-88fb-f1cac714b8e9",
   "metadata": {},
   "source": [
    "# Tests"
   ]
  },
  {
   "cell_type": "markdown",
   "id": "06812e90",
   "metadata": {},
   "source": [
    "## 1. Branch and Bound"
   ]
  },
  {
   "cell_type": "code",
   "execution_count": null,
   "id": "a3d659ae-3441-4592-a5bd-dc8ed788a9cc",
   "metadata": {},
   "outputs": [],
   "source": [
    "# jobs = 10, machines : 10, Cmax = 1097, sigma = [ 3 1 2 8 4 7 9 10 6 5 ]\n",
    "data = np.array([\n",
    "    [50, 23, 35,  8, 41, 71, 44, 79, 85, 22],\n",
    "    [37, 75, 94, 76, 17, 28, 99, 36, 14, 96],\n",
    "    [25, 80, 36, 37,  1, 31, 16, 56, 53, 71],\n",
    "    [86, 15, 17, 60, 46, 50, 20, 38, 76,  8],\n",
    "    [51, 22, 34, 14, 11, 53, 40, 35,  9, 15],\n",
    "    [21, 97, 48, 61, 77, 67, 14,  6, 95,  7],\n",
    "    [68, 72, 20, 67,  1,  2, 48, 85, 89, 62],\n",
    "    [29, 81, 91, 25, 60, 76, 44, 76, 28, 95],\n",
    "    [52,  1, 29, 13,  6, 45, 64, 41, 32, 46],\n",
    "    [14, 91, 92, 98, 99, 56, 79, 66, 25, 79]\n",
    "]).T\n",
    "\n",
    "flowshop = fsp.FlowShop(data)\n",
    "\n",
    "temps_debut = timeit.default_timer()\n",
    "sigma, cmax = flowshop.branchBound()\n",
    "temps_fin = timeit.default_timer() - temps_debut\n",
    "\n",
    "print(\"Jobs : \", flowshop.N, \" - Machines : \", flowshop.M)\n",
    "print(\"Best permutation : \", sigma.astype(int))\n",
    "print(\"Cmax : \", int(cmax))\n",
    "print(\"Time : \", temps_fin)"
   ]
  },
  {
   "cell_type": "code",
   "execution_count": null,
   "id": "1279e552-d791-4cc8-ba9f-f6140057962f",
   "metadata": {},
   "outputs": [],
   "source": [
    "# instance 01:\n",
    "# jobs = 20, machines : 5\n",
    "data =np.loadtxt('./Instances_Taillard/20jobs_5machines_1.txt')\n",
    "\n",
    "flowshop = fsp.FlowShop(data)\n",
    "\n",
    "temps_debut = timeit.default_timer()\n",
    "sigma, cmax = flowshop.branchBound()\n",
    "temps_fin = timeit.default_timer() - temps_debut\n",
    "\n",
    "print(\"Jobs : \", flowshop.N, \" - Machines : \", flowshop.M)\n",
    "print(\"Best permutation : \", sigma.astype(int))\n",
    "print(\"Cmax : \", int(cmax))\n",
    "print(\"Time : \", temps_fin)"
   ]
  },
  {
   "cell_type": "code",
   "execution_count": null,
   "id": "68749897-95f4-4bb9-abe1-ab4ec0dacf53",
   "metadata": {},
   "outputs": [],
   "source": [
    "#instance 2:celle qui a fonctionné\n",
    "# jobs = 20, machines : 5\n",
    "data =np.loadtxt('./Instances_Taillard/20jobs_5machines_2.txt')\n",
    "\n",
    "flowshop = fsp.FlowShop(data)\n",
    "\n",
    "temps_debut = timeit.default_timer()\n",
    "sigma, cmax = flowshop.branchBound()\n",
    "temps_fin = timeit.default_timer() - temps_debut\n",
    "\n",
    "print(\"Jobs : \", flowshop.N, \" - Machines : \", flowshop.M)\n",
    "print(\"Best permutation : \", sigma.astype(int))\n",
    "print(\"Cmax : \", int(cmax))\n",
    "print(\"Time : \", temps_fin)"
   ]
  },
  {
   "cell_type": "markdown",
   "id": "842136ca",
   "metadata": {},
   "source": [
    "## 2. Les heuristiques"
   ]
  },
  {
   "cell_type": "code",
   "execution_count": 35,
   "id": "40de404a",
   "metadata": {},
   "outputs": [],
   "source": [
    "cds_cmax = []\n",
    "neh_cmax = []\n",
    "palmer_cmax = []\n",
    "machines=[]\n",
    "jobs=[]\n",
    "Instances=[]"
   ]
  },
  {
   "cell_type": "code",
   "execution_count": 36,
   "id": "7f9d8730",
   "metadata": {},
   "outputs": [
    {
     "name": "stdout",
     "output_type": "stream",
     "text": [
      "020jobs_05machines_1.txt\n",
      "020jobs_05machines_2.txt\n",
      "020jobs_10machines_1.txt\n",
      "020jobs_10machines_2.txt\n",
      "020jobs_20machines_1.txt\n",
      "020jobs_20machines_2.txt\n",
      "050jobs_05machines_1.txt\n",
      "050jobs_05machines_2.txt\n",
      "050jobs_10machines_1.txt\n",
      "050jobs_10machines_2.txt\n",
      "050jobs_20machines_1.txt\n",
      "050jobs_20machines_2.txt\n",
      "100jobs_05machines_1.txt\n",
      "100jobs_05machines_2.txt\n",
      "100jobs_10machines_1.txt\n",
      "100jobs_10machines_2.txt\n",
      "100jobs_20machines_1.txt\n",
      "100jobs_20machines_2.txt\n",
      "200jobs_10machines_1.txt\n",
      "200jobs_10machines_2.txt\n",
      "200jobs_20machines_1.txt\n",
      "200jobs_20machines_2.txt\n",
      "500jobs_20machines_1.txt\n",
      "500jobs_20machines_2.txt\n"
     ]
    }
   ],
   "source": [
    "import os\n",
    "#on parcours les fichiers contenant les instances\n",
    "files=os.listdir(\"./Instances_Taillard\")\n",
    "i=0\n",
    "for filename in files:\n",
    "    \n",
    "    data=np.loadtxt(\"./Instances_Taillard/\"+filename)\n",
    "    Instances.append((i%2)+1)\n",
    "    i+=1\n",
    "    print(filename)\n",
    "    flowshop = fsp.FlowShop(data)\n",
    "    machines.append(flowshop.M)\n",
    "    jobs.append(flowshop.N)\n",
    "    \n",
    "    #CDS\n",
    "    temps_debut = timeit.default_timer()\n",
    "    sigma, cmax = flowshop.CDS()\n",
    "    cds_cmax.append(int(cmax))\n",
    "    \n",
    "    #Palmer\n",
    "    temps_debut = timeit.default_timer()\n",
    "    sigma, cmax = flowshop.palmer_heuristic()\n",
    "    temps_fin = timeit.default_timer() - temps_debut\n",
    "    palmer_cmax.append(int(cmax))\n",
    "    \n",
    "    #NEH\n",
    "    temps_debut = timeit.default_timer()\n",
    "    sigma, cmax = flowshop.NEH()\n",
    "    temps_fin = timeit.default_timer() - temps_debut\n",
    "    neh_cmax.append(int(cmax))"
   ]
  },
  {
   "cell_type": "code",
   "execution_count": 37,
   "id": "350a6488",
   "metadata": {},
   "outputs": [
    {
     "data": {
      "text/html": [
       "<div>\n",
       "<style scoped>\n",
       "    .dataframe tbody tr th:only-of-type {\n",
       "        vertical-align: middle;\n",
       "    }\n",
       "\n",
       "    .dataframe tbody tr th {\n",
       "        vertical-align: top;\n",
       "    }\n",
       "\n",
       "    .dataframe thead th {\n",
       "        text-align: right;\n",
       "    }\n",
       "</style>\n",
       "<table border=\"1\" class=\"dataframe\">\n",
       "  <thead>\n",
       "    <tr style=\"text-align: right;\">\n",
       "      <th></th>\n",
       "      <th>jobs</th>\n",
       "      <th>machines</th>\n",
       "      <th>Instance</th>\n",
       "      <th>Best Known</th>\n",
       "      <th>Palmer</th>\n",
       "      <th>CDS</th>\n",
       "      <th>NEH</th>\n",
       "    </tr>\n",
       "  </thead>\n",
       "  <tbody>\n",
       "    <tr>\n",
       "      <th>0</th>\n",
       "      <td>20</td>\n",
       "      <td>5</td>\n",
       "      <td>1</td>\n",
       "      <td>1278</td>\n",
       "      <td>1384</td>\n",
       "      <td>1390</td>\n",
       "      <td>1286</td>\n",
       "    </tr>\n",
       "    <tr>\n",
       "      <th>1</th>\n",
       "      <td>20</td>\n",
       "      <td>5</td>\n",
       "      <td>2</td>\n",
       "      <td>1359</td>\n",
       "      <td>1439</td>\n",
       "      <td>1424</td>\n",
       "      <td>1365</td>\n",
       "    </tr>\n",
       "    <tr>\n",
       "      <th>2</th>\n",
       "      <td>20</td>\n",
       "      <td>10</td>\n",
       "      <td>1</td>\n",
       "      <td>1582</td>\n",
       "      <td>1790</td>\n",
       "      <td>1757</td>\n",
       "      <td>1680</td>\n",
       "    </tr>\n",
       "    <tr>\n",
       "      <th>3</th>\n",
       "      <td>20</td>\n",
       "      <td>10</td>\n",
       "      <td>2</td>\n",
       "      <td>1659</td>\n",
       "      <td>1948</td>\n",
       "      <td>1854</td>\n",
       "      <td>1729</td>\n",
       "    </tr>\n",
       "    <tr>\n",
       "      <th>4</th>\n",
       "      <td>20</td>\n",
       "      <td>20</td>\n",
       "      <td>1</td>\n",
       "      <td>2297</td>\n",
       "      <td>2818</td>\n",
       "      <td>2559</td>\n",
       "      <td>2410</td>\n",
       "    </tr>\n",
       "    <tr>\n",
       "      <th>5</th>\n",
       "      <td>20</td>\n",
       "      <td>20</td>\n",
       "      <td>2</td>\n",
       "      <td>2099</td>\n",
       "      <td>2331</td>\n",
       "      <td>2285</td>\n",
       "      <td>2150</td>\n",
       "    </tr>\n",
       "    <tr>\n",
       "      <th>6</th>\n",
       "      <td>50</td>\n",
       "      <td>5</td>\n",
       "      <td>1</td>\n",
       "      <td>2724</td>\n",
       "      <td>2774</td>\n",
       "      <td>2883</td>\n",
       "      <td>2733</td>\n",
       "    </tr>\n",
       "    <tr>\n",
       "      <th>7</th>\n",
       "      <td>50</td>\n",
       "      <td>5</td>\n",
       "      <td>2</td>\n",
       "      <td>2834</td>\n",
       "      <td>3014</td>\n",
       "      <td>3032</td>\n",
       "      <td>2843</td>\n",
       "    </tr>\n",
       "    <tr>\n",
       "      <th>8</th>\n",
       "      <td>50</td>\n",
       "      <td>10</td>\n",
       "      <td>1</td>\n",
       "      <td>2991</td>\n",
       "      <td>3453</td>\n",
       "      <td>3382</td>\n",
       "      <td>3135</td>\n",
       "    </tr>\n",
       "    <tr>\n",
       "      <th>9</th>\n",
       "      <td>50</td>\n",
       "      <td>10</td>\n",
       "      <td>2</td>\n",
       "      <td>2867</td>\n",
       "      <td>3313</td>\n",
       "      <td>3263</td>\n",
       "      <td>3032</td>\n",
       "    </tr>\n",
       "    <tr>\n",
       "      <th>10</th>\n",
       "      <td>50</td>\n",
       "      <td>20</td>\n",
       "      <td>1</td>\n",
       "      <td>3771</td>\n",
       "      <td>4272</td>\n",
       "      <td>4324</td>\n",
       "      <td>4082</td>\n",
       "    </tr>\n",
       "    <tr>\n",
       "      <th>11</th>\n",
       "      <td>50</td>\n",
       "      <td>20</td>\n",
       "      <td>2</td>\n",
       "      <td>3668</td>\n",
       "      <td>4303</td>\n",
       "      <td>4216</td>\n",
       "      <td>3921</td>\n",
       "    </tr>\n",
       "    <tr>\n",
       "      <th>12</th>\n",
       "      <td>100</td>\n",
       "      <td>5</td>\n",
       "      <td>1</td>\n",
       "      <td>5493</td>\n",
       "      <td>5749</td>\n",
       "      <td>5592</td>\n",
       "      <td>5519</td>\n",
       "    </tr>\n",
       "    <tr>\n",
       "      <th>13</th>\n",
       "      <td>100</td>\n",
       "      <td>5</td>\n",
       "      <td>2</td>\n",
       "      <td>5268</td>\n",
       "      <td>5316</td>\n",
       "      <td>5548</td>\n",
       "      <td>5348</td>\n",
       "    </tr>\n",
       "    <tr>\n",
       "      <th>14</th>\n",
       "      <td>100</td>\n",
       "      <td>10</td>\n",
       "      <td>1</td>\n",
       "      <td>5770</td>\n",
       "      <td>6161</td>\n",
       "      <td>6239</td>\n",
       "      <td>5846</td>\n",
       "    </tr>\n",
       "    <tr>\n",
       "      <th>15</th>\n",
       "      <td>100</td>\n",
       "      <td>10</td>\n",
       "      <td>2</td>\n",
       "      <td>5349</td>\n",
       "      <td>5889</td>\n",
       "      <td>5851</td>\n",
       "      <td>5453</td>\n",
       "    </tr>\n",
       "    <tr>\n",
       "      <th>16</th>\n",
       "      <td>100</td>\n",
       "      <td>20</td>\n",
       "      <td>1</td>\n",
       "      <td>6106</td>\n",
       "      <td>7075</td>\n",
       "      <td>6962</td>\n",
       "      <td>6541</td>\n",
       "    </tr>\n",
       "    <tr>\n",
       "      <th>17</th>\n",
       "      <td>100</td>\n",
       "      <td>20</td>\n",
       "      <td>2</td>\n",
       "      <td>6183</td>\n",
       "      <td>7058</td>\n",
       "      <td>6970</td>\n",
       "      <td>6523</td>\n",
       "    </tr>\n",
       "    <tr>\n",
       "      <th>18</th>\n",
       "      <td>200</td>\n",
       "      <td>10</td>\n",
       "      <td>1</td>\n",
       "      <td>10862</td>\n",
       "      <td>11443</td>\n",
       "      <td>11610</td>\n",
       "      <td>10942</td>\n",
       "    </tr>\n",
       "    <tr>\n",
       "      <th>19</th>\n",
       "      <td>200</td>\n",
       "      <td>10</td>\n",
       "      <td>2</td>\n",
       "      <td>10480</td>\n",
       "      <td>10986</td>\n",
       "      <td>11358</td>\n",
       "      <td>10716</td>\n",
       "    </tr>\n",
       "    <tr>\n",
       "      <th>20</th>\n",
       "      <td>200</td>\n",
       "      <td>20</td>\n",
       "      <td>1</td>\n",
       "      <td>11152</td>\n",
       "      <td>13042</td>\n",
       "      <td>12536</td>\n",
       "      <td>11594</td>\n",
       "    </tr>\n",
       "    <tr>\n",
       "      <th>21</th>\n",
       "      <td>200</td>\n",
       "      <td>20</td>\n",
       "      <td>2</td>\n",
       "      <td>11143</td>\n",
       "      <td>12813</td>\n",
       "      <td>12558</td>\n",
       "      <td>11675</td>\n",
       "    </tr>\n",
       "    <tr>\n",
       "      <th>22</th>\n",
       "      <td>500</td>\n",
       "      <td>20</td>\n",
       "      <td>1</td>\n",
       "      <td>26040</td>\n",
       "      <td>28246</td>\n",
       "      <td>28385</td>\n",
       "      <td>26670</td>\n",
       "    </tr>\n",
       "    <tr>\n",
       "      <th>23</th>\n",
       "      <td>500</td>\n",
       "      <td>20</td>\n",
       "      <td>2</td>\n",
       "      <td>26040</td>\n",
       "      <td>29439</td>\n",
       "      <td>29091</td>\n",
       "      <td>27232</td>\n",
       "    </tr>\n",
       "  </tbody>\n",
       "</table>\n",
       "</div>"
      ],
      "text/plain": [
       "    jobs  machines  Instance  Best Known  Palmer    CDS    NEH\n",
       "0     20         5         1        1278    1384   1390   1286\n",
       "1     20         5         2        1359    1439   1424   1365\n",
       "2     20        10         1        1582    1790   1757   1680\n",
       "3     20        10         2        1659    1948   1854   1729\n",
       "4     20        20         1        2297    2818   2559   2410\n",
       "5     20        20         2        2099    2331   2285   2150\n",
       "6     50         5         1        2724    2774   2883   2733\n",
       "7     50         5         2        2834    3014   3032   2843\n",
       "8     50        10         1        2991    3453   3382   3135\n",
       "9     50        10         2        2867    3313   3263   3032\n",
       "10    50        20         1        3771    4272   4324   4082\n",
       "11    50        20         2        3668    4303   4216   3921\n",
       "12   100         5         1        5493    5749   5592   5519\n",
       "13   100         5         2        5268    5316   5548   5348\n",
       "14   100        10         1        5770    6161   6239   5846\n",
       "15   100        10         2        5349    5889   5851   5453\n",
       "16   100        20         1        6106    7075   6962   6541\n",
       "17   100        20         2        6183    7058   6970   6523\n",
       "18   200        10         1       10862   11443  11610  10942\n",
       "19   200        10         2       10480   10986  11358  10716\n",
       "20   200        20         1       11152   13042  12536  11594\n",
       "21   200        20         2       11143   12813  12558  11675\n",
       "22   500        20         1       26040   28246  28385  26670\n",
       "23   500        20         2       26040   29439  29091  27232"
      ]
     },
     "execution_count": 37,
     "metadata": {},
     "output_type": "execute_result"
    }
   ],
   "source": [
    "\n",
    "pd.DataFrame({\n",
    "    \"jobs\":jobs,\n",
    "    \"machines\":machines,\n",
    "    \"Instance\" : Instances,\n",
    "    \"Best Known\" : [1278, 1359, 1582,1659,2297,2099,2724,2834,2991,2867,3771,3668,5493,5268,5770,5349,6106,\n",
    "                   6183,10862,10480,11152,11143,26040,26040],\n",
    "    \"Palmer\" : palmer_cmax,\n",
    "    \"CDS\" : cds_cmax,\n",
    "    \"NEH\" : neh_cmax\n",
    "})\n",
    "#df.sort_values(by=[\"jobs\",\"machines\",\"Instance\"])"
   ]
  },
  {
   "cell_type": "code",
   "execution_count": null,
   "id": "7626b103",
   "metadata": {},
   "outputs": [],
   "source": []
  }
 ],
 "metadata": {
  "kernelspec": {
   "display_name": "Python 3",
   "language": "python",
   "name": "python3"
  },
  "language_info": {
   "codemirror_mode": {
    "name": "ipython",
    "version": 3
   },
   "file_extension": ".py",
   "mimetype": "text/x-python",
   "name": "python",
   "nbconvert_exporter": "python",
   "pygments_lexer": "ipython3",
   "version": "3.8.5"
  }
 },
 "nbformat": 4,
 "nbformat_minor": 5
}
