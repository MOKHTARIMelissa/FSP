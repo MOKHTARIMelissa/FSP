{
 "cells": [
  {
   "cell_type": "code",
   "execution_count": 12,
   "id": "b26ffbcb-9db6-43a4-8594-38cb6e6f3a2d",
   "metadata": {},
   "outputs": [],
   "source": [
    "import HyperFSP\n",
    "import FSP as fsp\n",
    "import RandomSearch\n",
    "import numpy as np\n",
    "import pandas as pd\n",
    "import timeit\n",
    "import os\n",
    "import matplotlib.pyplot as plt"
   ]
  },
  {
   "cell_type": "code",
   "execution_count": 13,
   "id": "c005780d-6860-49bb-9971-541b24047e4a",
   "metadata": {},
   "outputs": [],
   "source": [
    "cmax = []\n",
    "time = []\n",
    "best_heuristics = []\n",
    "\n",
    "machines=[]\n",
    "jobs=[]"
   ]
  },
  {
   "cell_type": "code",
   "execution_count": 14,
   "id": "ef39162e-21de-4e73-a223-227ca401cd33",
   "metadata": {},
   "outputs": [
    {
     "name": "stdout",
     "output_type": "stream",
     "text": [
      "020jobs_05machines_1.txt\n",
      "020jobs_05machines_2.txt\n",
      "020jobs_10machines_1.txt\n",
      "020jobs_10machines_2.txt\n",
      "020jobs_20machines_1.txt\n",
      "020jobs_20machines_2.txt\n",
      "050jobs_05machines_1.txt\n",
      "050jobs_05machines_2.txt\n"
     ]
    }
   ],
   "source": [
    "hyper = HyperFSP.HyperFSP()\n",
    "files = os.listdir(\"./Instances_Test\")\n",
    "for filename in files:\n",
    "    data = np.loadtxt(\"./Instances_Test/\"+filename)\n",
    "    print(filename)\n",
    "    flowshop = fsp.FlowShop(data)\n",
    "    machines.append(flowshop.M)\n",
    "    jobs.append(flowshop.N)\n",
    "    \n",
    "    temps_debut = timeit.default_timer()\n",
    "    hyper.test(data)\n",
    "    temps_fin = timeit.default_timer() - temps_debut\n",
    "    \n",
    "    memory = hyper.Desserialization(data=[],filename='data.pickle')\n",
    "    cmax.append(memory[len(memory)-1].get(\"best_cmax\"))\n",
    "    time.append(temps_fin)\n",
    "    best_heuristics.append(memory[len(memory)-1].get(\"best_heurestic_name\"))"
   ]
  },
  {
   "cell_type": "code",
   "execution_count": 15,
   "id": "3cf609bf-6691-4726-831a-1cd2b6f5f2c8",
   "metadata": {},
   "outputs": [
    {
     "data": {
      "text/html": [
       "<div>\n",
       "<style scoped>\n",
       "    .dataframe tbody tr th:only-of-type {\n",
       "        vertical-align: middle;\n",
       "    }\n",
       "\n",
       "    .dataframe tbody tr th {\n",
       "        vertical-align: top;\n",
       "    }\n",
       "\n",
       "    .dataframe thead th {\n",
       "        text-align: right;\n",
       "    }\n",
       "</style>\n",
       "<table border=\"1\" class=\"dataframe\">\n",
       "  <thead>\n",
       "    <tr style=\"text-align: right;\">\n",
       "      <th></th>\n",
       "      <th>jobs</th>\n",
       "      <th>machines</th>\n",
       "      <th>Cmax</th>\n",
       "      <th>Temps</th>\n",
       "      <th>Heuristics</th>\n",
       "    </tr>\n",
       "  </thead>\n",
       "  <tbody>\n",
       "    <tr>\n",
       "      <th>0</th>\n",
       "      <td>20</td>\n",
       "      <td>5</td>\n",
       "      <td>1278.0</td>\n",
       "      <td>217.952661</td>\n",
       "      <td>[ILS, recuit_simule, ILS]</td>\n",
       "    </tr>\n",
       "    <tr>\n",
       "      <th>1</th>\n",
       "      <td>20</td>\n",
       "      <td>5</td>\n",
       "      <td>1363.0</td>\n",
       "      <td>206.271728</td>\n",
       "      <td>[recuit_simule, ILS, ILS]</td>\n",
       "    </tr>\n",
       "    <tr>\n",
       "      <th>2</th>\n",
       "      <td>20</td>\n",
       "      <td>10</td>\n",
       "      <td>1620.0</td>\n",
       "      <td>267.217088</td>\n",
       "      <td>[ILS, recuit_simule, ILS]</td>\n",
       "    </tr>\n",
       "    <tr>\n",
       "      <th>3</th>\n",
       "      <td>20</td>\n",
       "      <td>10</td>\n",
       "      <td>1705.0</td>\n",
       "      <td>248.850335</td>\n",
       "      <td>[ILS, ILS, ILS]</td>\n",
       "    </tr>\n",
       "    <tr>\n",
       "      <th>4</th>\n",
       "      <td>20</td>\n",
       "      <td>20</td>\n",
       "      <td>2322.0</td>\n",
       "      <td>2511.137558</td>\n",
       "      <td>[genetic_algorithm, ILS, genetic_algorithm]</td>\n",
       "    </tr>\n",
       "    <tr>\n",
       "      <th>5</th>\n",
       "      <td>20</td>\n",
       "      <td>20</td>\n",
       "      <td>2117.0</td>\n",
       "      <td>2607.736282</td>\n",
       "      <td>[genetic_algorithm, ILS, ILS]</td>\n",
       "    </tr>\n",
       "    <tr>\n",
       "      <th>6</th>\n",
       "      <td>50</td>\n",
       "      <td>5</td>\n",
       "      <td>2735.0</td>\n",
       "      <td>73.352285</td>\n",
       "      <td>[recuit_simule, recuit_simule, recuit_simule]</td>\n",
       "    </tr>\n",
       "    <tr>\n",
       "      <th>7</th>\n",
       "      <td>50</td>\n",
       "      <td>5</td>\n",
       "      <td>2864.0</td>\n",
       "      <td>952.633633</td>\n",
       "      <td>[recuit_simule, recuit_simule, ILS]</td>\n",
       "    </tr>\n",
       "  </tbody>\n",
       "</table>\n",
       "</div>"
      ],
      "text/plain": [
       "   jobs  machines    Cmax        Temps  \\\n",
       "0    20         5  1278.0   217.952661   \n",
       "1    20         5  1363.0   206.271728   \n",
       "2    20        10  1620.0   267.217088   \n",
       "3    20        10  1705.0   248.850335   \n",
       "4    20        20  2322.0  2511.137558   \n",
       "5    20        20  2117.0  2607.736282   \n",
       "6    50         5  2735.0    73.352285   \n",
       "7    50         5  2864.0   952.633633   \n",
       "\n",
       "                                      Heuristics  \n",
       "0                      [ILS, recuit_simule, ILS]  \n",
       "1                      [recuit_simule, ILS, ILS]  \n",
       "2                      [ILS, recuit_simule, ILS]  \n",
       "3                                [ILS, ILS, ILS]  \n",
       "4    [genetic_algorithm, ILS, genetic_algorithm]  \n",
       "5                  [genetic_algorithm, ILS, ILS]  \n",
       "6  [recuit_simule, recuit_simule, recuit_simule]  \n",
       "7            [recuit_simule, recuit_simule, ILS]  "
      ]
     },
     "execution_count": 15,
     "metadata": {},
     "output_type": "execute_result"
    }
   ],
   "source": [
    "pd.DataFrame({\n",
    "    \"jobs\":jobs,\n",
    "    \"machines\":machines,\n",
    "    \"Cmax\" : cmax,\n",
    "    \"Temps\" : time,\n",
    "    \"Heuristics\" : best_heuristics\n",
    "})"
   ]
  },
  {
   "cell_type": "code",
   "execution_count": 18,
   "id": "6132da69-1f36-49ce-afd2-7412134184fb",
   "metadata": {},
   "outputs": [
    {
     "data": {
      "text/html": [
       "<div>\n",
       "<style scoped>\n",
       "    .dataframe tbody tr th:only-of-type {\n",
       "        vertical-align: middle;\n",
       "    }\n",
       "\n",
       "    .dataframe tbody tr th {\n",
       "        vertical-align: top;\n",
       "    }\n",
       "\n",
       "    .dataframe thead th {\n",
       "        text-align: right;\n",
       "    }\n",
       "</style>\n",
       "<table border=\"1\" class=\"dataframe\">\n",
       "  <thead>\n",
       "    <tr style=\"text-align: right;\">\n",
       "      <th></th>\n",
       "      <th>jobs</th>\n",
       "      <th>machines</th>\n",
       "      <th>Cmax</th>\n",
       "      <th>Temps</th>\n",
       "      <th>Heuristics</th>\n",
       "    </tr>\n",
       "  </thead>\n",
       "  <tbody>\n",
       "    <tr>\n",
       "      <th>0</th>\n",
       "      <td>20</td>\n",
       "      <td>5</td>\n",
       "      <td>1278</td>\n",
       "      <td>217.952661</td>\n",
       "      <td>[ILS, recuit_simule, ILS]</td>\n",
       "    </tr>\n",
       "    <tr>\n",
       "      <th>1</th>\n",
       "      <td>20</td>\n",
       "      <td>5</td>\n",
       "      <td>1363</td>\n",
       "      <td>206.271728</td>\n",
       "      <td>[recuit_simule, ILS, ILS]</td>\n",
       "    </tr>\n",
       "    <tr>\n",
       "      <th>2</th>\n",
       "      <td>20</td>\n",
       "      <td>10</td>\n",
       "      <td>1620</td>\n",
       "      <td>267.217088</td>\n",
       "      <td>[ILS, recuit_simule, ILS]</td>\n",
       "    </tr>\n",
       "    <tr>\n",
       "      <th>3</th>\n",
       "      <td>20</td>\n",
       "      <td>10</td>\n",
       "      <td>1705</td>\n",
       "      <td>248.850335</td>\n",
       "      <td>[ILS, ILS, ILS]</td>\n",
       "    </tr>\n",
       "    <tr>\n",
       "      <th>4</th>\n",
       "      <td>20</td>\n",
       "      <td>20</td>\n",
       "      <td>2322</td>\n",
       "      <td>2511.137558</td>\n",
       "      <td>[genetic_algorithm, ILS, genetic_algorithm]</td>\n",
       "    </tr>\n",
       "    <tr>\n",
       "      <th>5</th>\n",
       "      <td>20</td>\n",
       "      <td>20</td>\n",
       "      <td>2117</td>\n",
       "      <td>2607.736282</td>\n",
       "      <td>[genetic_algorithm, ILS, ILS]</td>\n",
       "    </tr>\n",
       "    <tr>\n",
       "      <th>6</th>\n",
       "      <td>50</td>\n",
       "      <td>5</td>\n",
       "      <td>2735</td>\n",
       "      <td>73.352285</td>\n",
       "      <td>[recuit_simule, recuit_simule, recuit_simule]</td>\n",
       "    </tr>\n",
       "    <tr>\n",
       "      <th>7</th>\n",
       "      <td>50</td>\n",
       "      <td>5</td>\n",
       "      <td>2864</td>\n",
       "      <td>952.633633</td>\n",
       "      <td>[recuit_simule, recuit_simule, ILS]</td>\n",
       "    </tr>\n",
       "  </tbody>\n",
       "</table>\n",
       "</div>"
      ],
      "text/plain": [
       "   jobs  machines  Cmax        Temps  \\\n",
       "0    20         5  1278   217.952661   \n",
       "1    20         5  1363   206.271728   \n",
       "2    20        10  1620   267.217088   \n",
       "3    20        10  1705   248.850335   \n",
       "4    20        20  2322  2511.137558   \n",
       "5    20        20  2117  2607.736282   \n",
       "6    50         5  2735    73.352285   \n",
       "7    50         5  2864   952.633633   \n",
       "\n",
       "                                      Heuristics  \n",
       "0                      [ILS, recuit_simule, ILS]  \n",
       "1                      [recuit_simule, ILS, ILS]  \n",
       "2                      [ILS, recuit_simule, ILS]  \n",
       "3                                [ILS, ILS, ILS]  \n",
       "4    [genetic_algorithm, ILS, genetic_algorithm]  \n",
       "5                  [genetic_algorithm, ILS, ILS]  \n",
       "6  [recuit_simule, recuit_simule, recuit_simule]  \n",
       "7            [recuit_simule, recuit_simule, ILS]  "
      ]
     },
     "execution_count": 18,
     "metadata": {},
     "output_type": "execute_result"
    }
   ],
   "source": [
    "import numpy as np\n",
    "pd.DataFrame({\n",
    "    \"jobs\":jobs,\n",
    "    \"machines\":machines,\n",
    "    \"Cmax\" : np.array(cmax).astype(int).tolist(),\n",
    "    \"Temps\" : time,\n",
    "    \"Heuristics\" : best_heuristics\n",
    "})"
   ]
  },
  {
   "cell_type": "code",
   "execution_count": null,
   "id": "047e6bc7-8f55-44d9-837f-236e64cba88b",
   "metadata": {},
   "outputs": [],
   "source": []
  },
  {
   "cell_type": "code",
   "execution_count": null,
   "id": "5e05adee-05ed-40b7-afd0-872576600d29",
   "metadata": {},
   "outputs": [],
   "source": []
  },
  {
   "cell_type": "code",
   "execution_count": null,
   "id": "484c0521-3703-4c7e-9294-2dabae86d2b6",
   "metadata": {},
   "outputs": [],
   "source": []
  },
  {
   "cell_type": "code",
   "execution_count": 5,
   "id": "8193983c-4fd4-45fc-afde-4ac88fe31160",
   "metadata": {},
   "outputs": [
    {
     "name": "stdout",
     "output_type": "stream",
     "text": [
      "1599.0\n",
      "316.1357855000001\n",
      "['ILS', 'ILS', 'ILS']\n"
     ]
    }
   ],
   "source": [
    "hyper = HyperFSP.HyperFSP()\n",
    "data = np.loadtxt(\"./Instances_Test/\"+\"020jobs_10machines_1.txt\")\n",
    "flowshop = fsp.FlowShop(data)\n",
    "    \n",
    "temps_debut = timeit.default_timer()\n",
    "hyper.test(data)\n",
    "temps_fin = timeit.default_timer() - temps_debut\n",
    "    \n",
    "memory = hyper.Desserialization(data=[],filename='data.pickle')\n",
    "print(memory[len(memory)-1].get(\"best_cmax\"))\n",
    "print(temps_fin)\n",
    "print(memory[len(memory)-1].get(\"best_heurestic_name\"))"
   ]
  },
  {
   "cell_type": "code",
   "execution_count": 6,
   "id": "ba643ada-8759-4f92-ac7d-21678b3cc5c7",
   "metadata": {},
   "outputs": [
    {
     "name": "stdout",
     "output_type": "stream",
     "text": [
      "1705.0\n",
      "321.67233540000007\n",
      "['recuit_simule', 'ILS', 'ILS']\n"
     ]
    }
   ],
   "source": [
    "hyper = HyperFSP.HyperFSP()\n",
    "data = np.loadtxt(\"./Instances_Test/\"+\"020jobs_10machines_2.txt\")\n",
    "flowshop = fsp.FlowShop(data)\n",
    "    \n",
    "temps_debut = timeit.default_timer()\n",
    "hyper.test(data)\n",
    "temps_fin = timeit.default_timer() - temps_debut\n",
    "    \n",
    "memory = hyper.Desserialization(data=[],filename='data.pickle')\n",
    "print(memory[len(memory)-1].get(\"best_cmax\"))\n",
    "print(temps_fin)\n",
    "print(memory[len(memory)-1].get(\"best_heurestic_name\"))"
   ]
  },
  {
   "cell_type": "code",
   "execution_count": 7,
   "id": "f8c898cc-d882-4400-8eb9-d9d4ebeddda4",
   "metadata": {},
   "outputs": [
    {
     "name": "stdout",
     "output_type": "stream",
     "text": [
      "2330.0\n",
      "1612.1870262000002\n",
      "['recuit_simule', 'ILS', 'ILS']\n"
     ]
    }
   ],
   "source": [
    "hyper = HyperFSP.HyperFSP()\n",
    "data = np.loadtxt(\"./Instances_Test/\"+\"020jobs_20machines_1.txt\")\n",
    "flowshop = fsp.FlowShop(data)\n",
    "    \n",
    "temps_debut = timeit.default_timer()\n",
    "hyper.test(data)\n",
    "temps_fin = timeit.default_timer() - temps_debut\n",
    "    \n",
    "memory = hyper.Desserialization(data=[],filename='data.pickle')\n",
    "print(memory[len(memory)-1].get(\"best_cmax\"))\n",
    "print(temps_fin)\n",
    "print(memory[len(memory)-1].get(\"best_heurestic_name\"))"
   ]
  },
  {
   "cell_type": "code",
   "execution_count": 8,
   "id": "1bb459ee-93a9-4524-9ca3-8fa2296a87f9",
   "metadata": {},
   "outputs": [
    {
     "name": "stdout",
     "output_type": "stream",
     "text": [
      "2125.0\n",
      "2090.0024343999994\n",
      "['genetic_algorithm', 'ILS', 'ILS']\n"
     ]
    }
   ],
   "source": [
    "hyper = HyperFSP.HyperFSP()\n",
    "data = np.loadtxt(\"./Instances_Test/\"+\"020jobs_20machines_2.txt\")\n",
    "flowshop = fsp.FlowShop(data)\n",
    "    \n",
    "temps_debut = timeit.default_timer()\n",
    "hyper.test(data)\n",
    "temps_fin = timeit.default_timer() - temps_debut\n",
    "    \n",
    "memory = hyper.Desserialization(data=[],filename='data.pickle')\n",
    "print(memory[len(memory)-1].get(\"best_cmax\"))\n",
    "print(temps_fin)\n",
    "print(memory[len(memory)-1].get(\"best_heurestic_name\"))"
   ]
  },
  {
   "cell_type": "code",
   "execution_count": null,
   "id": "1897fdff-5ce5-4b92-902a-6592c17eb8a6",
   "metadata": {},
   "outputs": [],
   "source": []
  }
 ],
 "metadata": {
  "kernelspec": {
   "display_name": "Python 3",
   "language": "python",
   "name": "python3"
  },
  "language_info": {
   "codemirror_mode": {
    "name": "ipython",
    "version": 3
   },
   "file_extension": ".py",
   "mimetype": "text/x-python",
   "name": "python",
   "nbconvert_exporter": "python",
   "pygments_lexer": "ipython3",
   "version": "3.8.8"
  }
 },
 "nbformat": 4,
 "nbformat_minor": 5
}
