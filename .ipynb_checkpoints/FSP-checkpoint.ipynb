{
 "cells": [
  {
   "cell_type": "code",
   "execution_count": 1,
   "id": "78ec916b-3847-4d69-b295-1928371db5c2",
   "metadata": {},
   "outputs": [],
   "source": [
    "import FSP as fsp\n",
    "import numpy as np\n",
    "import pandas as pd\n",
    "import timeit"
   ]
  },
  {
   "cell_type": "markdown",
   "id": "78c0917a-22f6-48fc-88fb-f1cac714b8e9",
   "metadata": {},
   "source": [
    "# Tests"
   ]
  },
  {
   "cell_type": "markdown",
   "id": "06812e90",
   "metadata": {},
   "source": [
    "## 1. Branch and Bound"
   ]
  },
  {
   "cell_type": "code",
   "execution_count": null,
   "id": "fb5d7cb9-559e-47e4-a897-e232d9d26821",
   "metadata": {},
   "outputs": [],
   "source": [
    "# jobs = 10, machines : 5, Cmax = 698, sigma = [ 4 2 3 8 7 10 6 1 9 5 ]\n",
    "data = np.array([\n",
    "    [79,    67,    10,    48,    52],\n",
    "    [40,    40,    57,    21,    54],\n",
    "    [48,    93,    49,    11,    79],\n",
    "    [16,    23,    19,    2,    38],\n",
    "    [38,   90,    57,    73,    3],\n",
    "    [76,    13,    99,    98,    55],\n",
    "    [73,   85,    40,    20,    85],\n",
    "    [34,    6,    27,    53,    21],\n",
    "    [38,    6,    35,    28,    44],\n",
    "    [32,    11,    11,    34,    27]\n",
    " ]).T\n",
    "\n",
    "flowshop = fsp.FlowShop(data)\n",
    "\n",
    "temps_debut = timeit.default_timer()\n",
    "sigma, cmax = flowshop.branchBound()\n",
    "temps_fin = timeit.default_timer() - temps_debut\n",
    "\n",
    "print(\"Jobs : \", flowshop.N, \" - Machines : \", flowshop.M)\n",
    "print(\"Best permutation : \", sigma.astype(int))\n",
    "print(\"Cmax : \", int(cmax))\n",
    "print(\"Time : \", temps_fin)"
   ]
  },
  {
   "cell_type": "code",
   "execution_count": null,
   "id": "a3d659ae-3441-4592-a5bd-dc8ed788a9cc",
   "metadata": {},
   "outputs": [],
   "source": [
    "# jobs = 10, machines : 10, Cmax = 1097, sigma = [ 3 1 2 8 4 7 9 10 6 5 ]\n",
    "data = np.array([\n",
    "    [50, 23, 35,  8, 41, 71, 44, 79, 85, 22],\n",
    "    [37, 75, 94, 76, 17, 28, 99, 36, 14, 96],\n",
    "    [25, 80, 36, 37,  1, 31, 16, 56, 53, 71],\n",
    "    [86, 15, 17, 60, 46, 50, 20, 38, 76,  8],\n",
    "    [51, 22, 34, 14, 11, 53, 40, 35,  9, 15],\n",
    "    [21, 97, 48, 61, 77, 67, 14,  6, 95,  7],\n",
    "    [68, 72, 20, 67,  1,  2, 48, 85, 89, 62],\n",
    "    [29, 81, 91, 25, 60, 76, 44, 76, 28, 95],\n",
    "    [52,  1, 29, 13,  6, 45, 64, 41, 32, 46],\n",
    "    [14, 91, 92, 98, 99, 56, 79, 66, 25, 79]\n",
    "]).T\n",
    "\n",
    "flowshop = fsp.FlowShop(data)\n",
    "\n",
    "temps_debut = timeit.default_timer()\n",
    "sigma, cmax = flowshop.branchBound()\n",
    "temps_fin = timeit.default_timer() - temps_debut\n",
    "\n",
    "print(\"Jobs : \", flowshop.N, \" - Machines : \", flowshop.M)\n",
    "print(\"Best permutation : \", sigma.astype(int))\n",
    "print(\"Cmax : \", int(cmax))\n",
    "print(\"Time : \", temps_fin)"
   ]
  },
  {
   "cell_type": "code",
   "execution_count": null,
   "id": "1279e552-d791-4cc8-ba9f-f6140057962f",
   "metadata": {},
   "outputs": [],
   "source": [
    "# jobs = 20, machines : 5\n",
    "data =np.array( [\n",
    " [54, 83, 15, 71, 77, 36, 53, 38, 27, 87, 76, 91, 14, 29, 12, 77, 32, 87, 68, 94],\n",
    " [79,  3, 11, 99, 56, 70, 99, 60,  5, 56,  3, 61, 73, 75, 47, 14, 21, 86,  5, 77],\n",
    " [16, 89, 49, 15, 89, 45, 60, 23, 57, 64,  7,  1, 63, 41, 63, 47, 26, 75, 77, 40],\n",
    " [66, 58, 31, 68, 78, 91, 13, 59, 49, 85, 85,  9, 39, 41, 56, 40, 54, 77, 51, 31],\n",
    " [58, 56, 20, 85, 53, 35, 53, 41, 69, 13, 86, 72,  8, 49, 47, 87, 58, 18, 68, 28]\n",
    "])\n",
    "\n",
    "flowshop = fsp.FlowShop(data)\n",
    "\n",
    "temps_debut = timeit.default_timer()\n",
    "sigma, cmax = flowshop.branchBound()\n",
    "temps_fin = timeit.default_timer() - temps_debut\n",
    "\n",
    "print(\"Jobs : \", flowshop.N, \" - Machines : \", flowshop.M)\n",
    "print(\"Best permutation : \", sigma.astype(int))\n",
    "print(\"Cmax : \", int(cmax))\n",
    "print(\"Time : \", temps_fin)"
   ]
  },
  {
   "cell_type": "code",
   "execution_count": null,
   "id": "68749897-95f4-4bb9-abe1-ab4ec0dacf53",
   "metadata": {},
   "outputs": [],
   "source": [
    "# jobs = 20, machines : 5\n",
    "data =np.array( [\n",
    " [26, 38, 27, 88, 95, 55, 54, 63, 23, 45, 86, 43, 43, 40, 37, 54, 35, 59, 43, 50],\n",
    " [59, 62, 44, 10, 23, 64, 47, 68, 54,  9, 30, 31, 92,  7, 14, 95, 76, 82, 91, 37],\n",
    " [78, 90, 64, 49, 47, 20, 61, 93, 36, 47, 70, 54, 87, 13, 40, 34, 55, 13, 11,  5],\n",
    " [88, 54, 47, 83, 84,  9, 30, 11, 92, 63, 62, 75, 48, 23, 85, 23,  4, 31, 13, 98],\n",
    " [69, 30, 61, 35, 53, 98, 94, 33, 77, 31, 54, 71, 78,  9, 79, 51, 76, 56, 80, 72]\n",
    "])\n",
    "\n",
    "flowshop = fsp.FlowShop(data)\n",
    "\n",
    "temps_debut = timeit.default_timer()\n",
    "sigma, cmax = flowshop.branchBound()\n",
    "temps_fin = timeit.default_timer() - temps_debut\n",
    "\n",
    "print(\"Jobs : \", flowshop.N, \" - Machines : \", flowshop.M)\n",
    "print(\"Best permutation : \", sigma.astype(int))\n",
    "print(\"Cmax : \", int(cmax))\n",
    "print(\"Time : \", temps_fin)"
   ]
  },
  {
   "cell_type": "code",
   "execution_count": null,
   "id": "2176a57b-0d98-40d5-883b-293cc2ad0b0e",
   "metadata": {},
   "outputs": [],
   "source": [
    "# jobs = 20, machines : 5\n",
    "data =np.array( [\n",
    " [77, 94,  9, 57, 29, 79, 55, 73, 65, 86, 25, 39, 76, 24, 38,  5, 91, 29, 22, 27],\n",
    " [39, 31, 46, 18, 93, 58, 85, 58, 97, 10, 79, 93,  2, 87, 17, 18, 10, 50,  8, 26],\n",
    " [14, 21, 15, 10, 85, 46, 42, 18, 36,  2, 44, 89,  6,  3,  1, 43, 81, 57, 76, 59],\n",
    " [11,  2, 36, 30, 89, 10, 88, 22, 31,  9, 43, 91, 26,  3, 75, 99, 63, 83, 70, 84],\n",
    " [83, 13, 84, 46, 20, 33, 74, 42, 33, 71, 32, 48, 42, 99,  7, 54,  8, 73, 30, 75]\n",
    "])\n",
    "\n",
    "flowshop = fsp.FlowShop(data)\n",
    "\n",
    "temps_debut = timeit.default_timer()\n",
    "sigma, cmax = flowshop.branchBound()\n",
    "temps_fin = timeit.default_timer() - temps_debut\n",
    "\n",
    "print(\"Jobs : \", flowshop.N, \" - Machines : \", flowshop.M)\n",
    "print(\"Best permutation : \", sigma.astype(int))\n",
    "print(\"Cmax : \", int(cmax))\n",
    "print(\"Time : \", temps_fin)"
   ]
  },
  {
   "cell_type": "code",
   "execution_count": null,
   "id": "c93c4f98-59ef-428c-88f3-52578b6248b4",
   "metadata": {},
   "outputs": [],
   "source": [
    "# jobs = 20, machines : 5\n",
    "data =np.array( [\n",
    " [53, 19, 99, 62, 88, 93, 34, 72, 42, 65, 39, 79,  9, 26, 72, 29, 36, 48, 57, 95],\n",
    " [93, 79, 88, 77, 94, 39, 74, 46, 17, 30, 62, 77, 43, 98, 48, 14, 45, 25, 98, 30],\n",
    " [90, 92, 35, 13, 75, 55, 80, 67,  3, 93, 54, 67, 25, 77, 38, 98, 96, 20, 15, 36],\n",
    " [65, 97, 27, 25, 61, 24, 97, 61, 75, 92, 73, 21, 29,  3, 96, 51, 26, 44, 56, 31],\n",
    " [64, 38, 44, 46, 66, 31, 48, 27, 82, 51, 90, 63, 85, 36, 69, 67, 81, 18, 81, 72]\n",
    "])\n",
    "\n",
    "flowshop = fsp.FlowShop(data)\n",
    "\n",
    "temps_debut = timeit.default_timer()\n",
    "sigma, cmax = flowshop.branchBound()\n",
    "temps_fin = timeit.default_timer() - temps_debut\n",
    "\n",
    "print(\"Jobs : \", flowshop.N, \" - Machines : \", flowshop.M)\n",
    "print(\"Best permutation : \", sigma.astype(int))\n",
    "print(\"Cmax : \", int(cmax))\n",
    "print(\"Time : \", temps_fin)"
   ]
  },
  {
   "cell_type": "code",
   "execution_count": null,
   "id": "8e0c7590-8a66-4e2b-8c64-ee6a0126839a",
   "metadata": {},
   "outputs": [],
   "source": [
    "# jobs = 20, machines : 5\n",
    "data =np.array( [\n",
    " [61, 86, 16, 42, 14, 92, 67, 77, 46, 41, 78,  3, 72, 95, 53, 59, 34, 66, 42, 63],\n",
    " [27, 92,  8, 65, 34,  6, 42, 39,  2,  7, 85, 32, 14, 74, 59, 95, 48, 37, 59,  4],\n",
    " [42, 93, 32, 30, 16, 95, 58, 12, 95, 21, 74, 38,  4, 31, 62, 39, 97, 57,  9, 54],\n",
    " [13, 47,  6, 70, 19, 97, 41,  1, 57, 60, 62, 14, 90, 76, 12, 89, 37, 35, 91, 69],\n",
    " [55, 48, 56, 84, 22, 51, 43, 50, 62, 61, 10, 87, 99, 40, 91, 64, 62, 53, 33, 16]\n",
    "])\n",
    "\n",
    "flowshop = fsp.FlowShop(data)\n",
    "\n",
    "temps_debut = timeit.default_timer()\n",
    "sigma, cmax = flowshop.branchBound()\n",
    "temps_fin = timeit.default_timer() - temps_debut\n",
    "\n",
    "print(\"Jobs : \", flowshop.N, \" - Machines : \", flowshop.M)\n",
    "print(\"Best permutation : \", sigma.astype(int))\n",
    "print(\"Cmax : \", int(cmax))\n",
    "print(\"Time : \", temps_fin)"
   ]
  },
  {
   "cell_type": "code",
   "execution_count": null,
   "id": "3ab63643-c664-4d10-864c-67af4365d2a5",
   "metadata": {},
   "outputs": [],
   "source": [
    "# jobs = 20, machines : 5\n",
    "data =np.array( [\n",
    " [71, 27, 55, 90, 11, 18, 42, 64, 73, 95, 22, 53, 32,  5, 94, 12, 41, 85, 75, 38],\n",
    " [13, 11, 73, 43, 27, 33, 57, 42, 71,  3, 11, 49,  8,  3, 47, 58, 23, 79, 99, 23],\n",
    " [61, 25, 52, 72, 89, 75, 60, 28, 94, 95, 18, 73, 40, 61, 68, 75, 37, 13, 65,  7],\n",
    " [21,  8,  5,  8, 58, 59, 85, 35, 84, 97, 93, 60, 99, 29, 94, 41, 51, 87, 97, 11],\n",
    " [91, 13,  7, 95, 20, 69, 45, 44, 29, 32, 94, 84, 60, 49, 49, 65, 85, 52,  8, 58]\n",
    "])\n",
    "\n",
    "flowshop = fsp.FlowShop(data)\n",
    "\n",
    "temps_debut = timeit.default_timer()\n",
    "sigma, cmax = flowshop.branchBound()\n",
    "temps_fin = timeit.default_timer() - temps_debut\n",
    "\n",
    "print(\"Jobs : \", flowshop.N, \" - Machines : \", flowshop.M)\n",
    "print(\"Best permutation : \", sigma.astype(int))\n",
    "print(\"Cmax : \", int(cmax))\n",
    "print(\"Time : \", temps_fin)"
   ]
  },
  {
   "cell_type": "code",
   "execution_count": null,
   "id": "8bd40c7b-51c0-48b1-a2b4-cae91edaa452",
   "metadata": {},
   "outputs": [],
   "source": [
    "# jobs = 20, machines : 5\n",
    "data =np.array( [\n",
    " [15, 64, 64, 48,  9, 91, 27, 34, 42,  3, 11, 54, 27, 30,  9, 15, 88, 55, 50, 57],\n",
    " [28,  4, 43, 93,  1, 81, 77, 69, 52, 28, 28, 77, 42, 53, 46, 49, 15, 43, 65, 41],\n",
    " [77, 36, 57, 15, 81, 82, 98, 97, 12, 35, 84, 70, 27, 37, 59, 42, 57, 16, 11, 34],\n",
    " [ 1, 59, 95, 49, 90, 78,  3, 69, 99, 41, 73, 28, 99, 13, 59, 47,  8, 92, 87, 62],\n",
    " [45, 73, 59, 63, 54, 98, 39, 75, 33,  8, 86, 41, 41, 22, 43, 34, 80, 16, 37, 94]\n",
    "])\n",
    "\n",
    "flowshop = fsp.FlowShop(data)\n",
    "\n",
    "temps_debut = timeit.default_timer()\n",
    "sigma, cmax = flowshop.branchBound()\n",
    "temps_fin = timeit.default_timer() - temps_debut\n",
    "\n",
    "print(\"Jobs : \", flowshop.N, \" - Machines : \", flowshop.M)\n",
    "print(\"Best permutation : \", sigma.astype(int))\n",
    "print(\"Cmax : \", int(cmax))\n",
    "print(\"Time : \", temps_fin)"
   ]
  },
  {
   "cell_type": "code",
   "execution_count": null,
   "id": "65a17944-f229-4c5d-9dab-40c1328fca53",
   "metadata": {},
   "outputs": [],
   "source": [
    "# jobs = 20, machines : 5\n",
    "data =np.array( [\n",
    " [34, 20, 57, 47, 62, 40, 74, 94,  9, 62, 86, 13, 78, 46, 83, 52, 13, 70, 40, 60],\n",
    " [ 5, 48, 80, 43, 34,  2, 87, 68, 28, 84, 30, 35, 42, 39, 85, 34, 36,  9, 96, 84],\n",
    " [86, 35,  5, 93, 74, 12, 40, 95, 80,  6, 92, 14, 83, 49, 36, 38, 43, 89, 94, 33],\n",
    " [28, 39, 55, 21, 25, 88, 59, 40, 90, 18, 33, 10, 59, 92, 15, 77, 31, 85, 85, 99],\n",
    " [ 8, 91, 45, 55, 75, 18, 59, 86, 45, 89, 11, 54, 38, 41, 64, 98, 83, 36, 61, 19]\n",
    "])\n",
    "\n",
    "flowshop = fsp.FlowShop(data)\n",
    "\n",
    "temps_debut = timeit.default_timer()\n",
    "sigma, cmax = flowshop.branchBound()\n",
    "temps_fin = timeit.default_timer() - temps_debut\n",
    "\n",
    "print(\"Jobs : \", flowshop.N, \" - Machines : \", flowshop.M)\n",
    "print(\"Best permutation : \", sigma.astype(int))\n",
    "print(\"Cmax : \", int(cmax))\n",
    "print(\"Time : \", temps_fin)"
   ]
  },
  {
   "cell_type": "code",
   "execution_count": null,
   "id": "c6bbcff0-08e1-452a-a591-5d2081b3e113",
   "metadata": {},
   "outputs": [],
   "source": [
    "# jobs = 20, machines : 5\n",
    "data =np.array( [\n",
    " [37, 36,  1,  4, 64, 74, 32, 67, 73,  7, 78, 64, 98, 60, 89, 49,  2, 79, 79, 53],\n",
    " [59, 16, 90,  3, 76, 74, 22, 30, 89, 61, 39, 15, 69, 57,  9, 13, 71,  2, 34, 49],\n",
    " [65, 94, 96, 47, 35, 34, 84,  3, 60, 34, 70, 57,  8, 74, 13, 37, 87, 71, 89, 57],\n",
    " [70,  3, 43, 14, 26, 83, 26, 65, 47, 94, 75, 30,  1, 71, 46, 87, 78, 76, 75, 55],\n",
    " [94, 98, 63, 83, 19, 79, 54, 78, 29,  8, 38, 97, 61, 10, 37, 16, 78, 96,  9, 91]\n",
    "])\n",
    "\n",
    "flowshop = fsp.FlowShop(data)\n",
    "\n",
    "temps_debut = timeit.default_timer()\n",
    "sigma, cmax = flowshop.branchBound()\n",
    "temps_fin = timeit.default_timer() - temps_debut\n",
    "\n",
    "print(\"Jobs : \", flowshop.N, \" - Machines : \", flowshop.M)\n",
    "print(\"Best permutation : \", sigma.astype(int))\n",
    "print(\"Cmax : \", int(cmax))\n",
    "print(\"Time : \", temps_fin)"
   ]
  },
  {
   "cell_type": "code",
   "execution_count": null,
   "id": "491c1785-0e18-4dba-a827-4687b2ed5b59",
   "metadata": {},
   "outputs": [],
   "source": [
    "# jobs = 20, machines : 5\n",
    "data =np.array( [\n",
    " [27, 92, 75, 94, 18, 41, 37, 58, 56, 20,  2, 39, 91, 81, 33, 14, 88, 22, 36, 65],\n",
    " [79, 23, 66,  5, 15, 51,  2, 81, 12, 40, 59, 32, 16, 87, 78, 41, 43, 94,  1, 93],\n",
    " [22, 93, 62, 53, 30, 34, 27, 30, 54, 77, 24, 47, 39, 66, 41, 46, 24, 23, 68, 50],\n",
    " [93, 22, 64, 81, 94, 97, 54, 82, 11, 91, 23, 32, 26, 22, 12, 23, 34, 87, 59,  2],\n",
    " [38, 84, 62, 10, 11, 93, 57, 81, 10, 40, 62, 49, 90, 34, 11, 81, 51, 21, 39, 27]\n",
    "])\n",
    "\n",
    "flowshop = fsp.FlowShop(data)\n",
    "\n",
    "temps_debut = timeit.default_timer()\n",
    "sigma, cmax = flowshop.branchBound()\n",
    "temps_fin = timeit.default_timer() - temps_debut\n",
    "\n",
    "print(\"Jobs : \", flowshop.N, \" - Machines : \", flowshop.M)\n",
    "print(\"Best permutation : \", sigma.astype(int))\n",
    "print(\"Cmax : \", int(cmax))\n",
    "print(\"Time : \", temps_fin)"
   ]
  },
  {
   "cell_type": "markdown",
   "id": "565392a8",
   "metadata": {},
   "source": [
    "## 2. Heuristiques"
   ]
  },
  {
   "cell_type": "code",
   "execution_count": 6,
   "id": "f4cdadd3",
   "metadata": {},
   "outputs": [],
   "source": [
    "cds_cmax = []\n",
    "neh_cmax = []\n",
    "palmer_cmax = []"
   ]
  },
  {
   "cell_type": "markdown",
   "id": "62547c1a-e83f-465d-9f97-4970cf2b99c5",
   "metadata": {},
   "source": [
    "### 2.1 CDS"
   ]
  },
  {
   "cell_type": "code",
   "execution_count": 7,
   "id": "13bf2b2a-92ac-4c55-abce-ce3976158d0f",
   "metadata": {},
   "outputs": [
    {
     "name": "stdout",
     "output_type": "stream",
     "text": [
      "Jobs :  4  - Machines :  3\n",
      "Best permutation :  [4 3 2 1]\n",
      "Cmax :  36\n",
      "Time :  0.06290809999995872\n"
     ]
    }
   ],
   "source": [
    "# Exemple video\n",
    "data = np.array([\n",
    "    [5,    6,    4],\n",
    "    [8,    7,    8],\n",
    "    [6,    2,    7],\n",
    "    [3,    5,    6]\n",
    " ]).T\n",
    "\n",
    "flowshop = fsp.FlowShop(data)\n",
    "\n",
    "temps_debut = timeit.default_timer()\n",
    "sigma, cmax = flowshop.CDS()\n",
    "temps_fin = timeit.default_timer() - temps_debut\n",
    "\n",
    "print(\"Jobs : \", flowshop.N, \" - Machines : \", flowshop.M)\n",
    "print(\"Best permutation : \", sigma)\n",
    "print(\"Cmax : \", int(cmax))\n",
    "print(\"Time : \", temps_fin)"
   ]
  },
  {
   "cell_type": "code",
   "execution_count": 8,
   "id": "011facb6-1554-4134-9c32-17ae7b38721e",
   "metadata": {},
   "outputs": [
    {
     "name": "stdout",
     "output_type": "stream",
     "text": [
      "Jobs :  5  - Machines :  3\n",
      "Best permutation :  [3 5 4 1 2]\n",
      "Cmax :  107\n",
      "Time :  0.0005759999999099819\n"
     ]
    }
   ],
   "source": [
    "# Exemple PDF\n",
    "data = np.array([\n",
    "    [16,    18,    12],\n",
    "    [14,    10,    11],\n",
    "    [13,    20,    15],\n",
    "    [19,    15,    19],\n",
    "    [15,    16,    16]\n",
    " ]).T\n",
    "\n",
    "flowshop = fsp.FlowShop(data)\n",
    "\n",
    "temps_debut = timeit.default_timer()\n",
    "sigma, cmax = flowshop.CDS()\n",
    "temps_fin = timeit.default_timer() - temps_debut\n",
    "\n",
    "print(\"Jobs : \", flowshop.N, \" - Machines : \", flowshop.M)\n",
    "print(\"Best permutation : \", sigma)\n",
    "print(\"Cmax : \", int(cmax))\n",
    "print(\"Time : \", temps_fin)"
   ]
  },
  {
   "cell_type": "code",
   "execution_count": 9,
   "id": "acda2005-ee47-428f-b25d-00025d79f7c6",
   "metadata": {},
   "outputs": [
    {
     "name": "stdout",
     "output_type": "stream",
     "text": [
      "Jobs :  20  - Machines :  5\n",
      "Best permutation :  [15  3  9 14 17  8  7  1 19  4 11 16 12  2  5  6 20 18 10 13]\n",
      "Cmax :  1390\n",
      "Time :  0.0020928000001276814\n"
     ]
    }
   ],
   "source": [
    "# Instance 01 :\n",
    "# jobs = 20, machines : 5\n",
    "# Best known Cmax : 1278\n",
    "\n",
    "data =np.array( [\n",
    " [54, 83, 15, 71, 77, 36, 53, 38, 27, 87, 76, 91, 14, 29, 12, 77, 32, 87, 68, 94],\n",
    " [79,  3, 11, 99, 56, 70, 99, 60,  5, 56,  3, 61, 73, 75, 47, 14, 21, 86,  5, 77],\n",
    " [16, 89, 49, 15, 89, 45, 60, 23, 57, 64,  7,  1, 63, 41, 63, 47, 26, 75, 77, 40],\n",
    " [66, 58, 31, 68, 78, 91, 13, 59, 49, 85, 85,  9, 39, 41, 56, 40, 54, 77, 51, 31],\n",
    " [58, 56, 20, 85, 53, 35, 53, 41, 69, 13, 86, 72,  8, 49, 47, 87, 58, 18, 68, 28]\n",
    "])\n",
    "\n",
    "flowshop = fsp.FlowShop(data)\n",
    "\n",
    "temps_debut = timeit.default_timer()\n",
    "sigma, cmax = flowshop.CDS()\n",
    "temps_fin = timeit.default_timer() - temps_debut\n",
    "\n",
    "print(\"Jobs : \", flowshop.N, \" - Machines : \", flowshop.M)\n",
    "print(\"Best permutation : \", sigma)\n",
    "print(\"Cmax : \", int(cmax))\n",
    "print(\"Time : \", temps_fin)\n",
    "\n",
    "cds_cmax.append(int(cmax))"
   ]
  },
  {
   "cell_type": "code",
   "execution_count": 10,
   "id": "07af7a67-f2f5-4101-ad5f-5ef0193acc38",
   "metadata": {},
   "outputs": [
    {
     "name": "stdout",
     "output_type": "stream",
     "text": [
      "Jobs :  20  - Machines :  5\n",
      "Best permutation :  [ 6 19 17 15  3 20  7 12  9  1 13  2 11  5  8 16 18  4 10 14]\n",
      "Cmax :  1424\n",
      "Time :  0.002765700000054494\n"
     ]
    }
   ],
   "source": [
    "# Instance 02 :\n",
    "# jobs = 20, machines : 5\n",
    "# Best known Cmax : 1359\n",
    "\n",
    "data =np.array( [\n",
    " [26, 38, 27, 88, 95, 55, 54, 63, 23, 45, 86, 43, 43, 40, 37, 54, 35, 59, 43, 50],\n",
    " [59, 62, 44, 10, 23, 64, 47, 68, 54,  9, 30, 31, 92,  7, 14, 95, 76, 82, 91, 37],\n",
    " [78, 90, 64, 49, 47, 20, 61, 93, 36, 47, 70, 54, 87, 13, 40, 34, 55, 13, 11,  5],\n",
    " [88, 54, 47, 83, 84,  9, 30, 11, 92, 63, 62, 75, 48, 23, 85, 23,  4, 31, 13, 98],\n",
    " [69, 30, 61, 35, 53, 98, 94, 33, 77, 31, 54, 71, 78,  9, 79, 51, 76, 56, 80, 72]\n",
    "])\n",
    "\n",
    "flowshop = fsp.FlowShop(data)\n",
    "\n",
    "temps_debut = timeit.default_timer()\n",
    "sigma, cmax = flowshop.CDS()\n",
    "temps_fin = timeit.default_timer() - temps_debut\n",
    "\n",
    "print(\"Jobs : \", flowshop.N, \" - Machines : \", flowshop.M)\n",
    "print(\"Best permutation : \", sigma)\n",
    "print(\"Cmax : \", int(cmax))\n",
    "print(\"Time : \", temps_fin)\n",
    "\n",
    "cds_cmax.append(int(cmax))"
   ]
  },
  {
   "cell_type": "code",
   "execution_count": 11,
   "id": "a6881f00-5185-4c02-89f5-12b8c9c4855a",
   "metadata": {},
   "outputs": [
    {
     "name": "stdout",
     "output_type": "stream",
     "text": [
      "Jobs :  20  - Machines :  5\n",
      "Best permutation :  [ 3 14  1 16 19 11 20 18  7 12  5  9 17  6  8  4 15 10 13  2]\n",
      "Cmax :  1255\n",
      "Time :  0.002697699999998804\n"
     ]
    }
   ],
   "source": [
    "# Instance 03 :\n",
    "# jobs = 20, machines : 5\n",
    "# Best known Cmax : 1081\n",
    "\n",
    "data =np.array( [\n",
    " [77, 94,  9, 57, 29, 79, 55, 73, 65, 86, 25, 39, 76, 24, 38,  5, 91, 29, 22, 27],\n",
    " [39, 31, 46, 18, 93, 58, 85, 58, 97, 10, 79, 93,  2, 87, 17, 18, 10, 50,  8, 26],\n",
    " [14, 21, 15, 10, 85, 46, 42, 18, 36,  2, 44, 89,  6,  3,  1, 43, 81, 57, 76, 59],\n",
    " [11,  2, 36, 30, 89, 10, 88, 22, 31,  9, 43, 91, 26,  3, 75, 99, 63, 83, 70, 84],\n",
    " [83, 13, 84, 46, 20, 33, 74, 42, 33, 71, 32, 48, 42, 99,  7, 54,  8, 73, 30, 75]\n",
    "])\n",
    "\n",
    "flowshop = fsp.FlowShop(data)\n",
    "\n",
    "temps_debut = timeit.default_timer()\n",
    "sigma, cmax = flowshop.CDS()\n",
    "temps_fin = timeit.default_timer() - temps_debut\n",
    "\n",
    "print(\"Jobs : \", flowshop.N, \" - Machines : \", flowshop.M)\n",
    "print(\"Best permutation : \", sigma)\n",
    "print(\"Cmax : \", int(cmax))\n",
    "print(\"Time : \", temps_fin)\n",
    "\n",
    "cds_cmax.append(int(cmax))"
   ]
  },
  {
   "cell_type": "code",
   "execution_count": 12,
   "id": "f3cd6efe-5de8-4164-8ca9-b4be7d496989",
   "metadata": {},
   "outputs": [
    {
     "name": "stdout",
     "output_type": "stream",
     "text": [
      "Jobs :  20  - Machines :  5\n",
      "Best permutation :  [ 9 13 16 11 15 17  7 10  2  1  5  8 19 12 20 14  6  3  4 18]\n",
      "Cmax :  1418\n",
      "Time :  0.0016411999999945692\n"
     ]
    }
   ],
   "source": [
    "# Instance 04 :\n",
    "# jobs = 20, machines : 5\n",
    "# Best known Cmax : 1293\n",
    "\n",
    "data =np.array( [\n",
    " [53, 19, 99, 62, 88, 93, 34, 72, 42, 65, 39, 79,  9, 26, 72, 29, 36, 48, 57, 95],\n",
    " [93, 79, 88, 77, 94, 39, 74, 46, 17, 30, 62, 77, 43, 98, 48, 14, 45, 25, 98, 30],\n",
    " [90, 92, 35, 13, 75, 55, 80, 67,  3, 93, 54, 67, 25, 77, 38, 98, 96, 20, 15, 36],\n",
    " [65, 97, 27, 25, 61, 24, 97, 61, 75, 92, 73, 21, 29,  3, 96, 51, 26, 44, 56, 31],\n",
    " [64, 38, 44, 46, 66, 31, 48, 27, 82, 51, 90, 63, 85, 36, 69, 67, 81, 18, 81, 72]\n",
    "])\n",
    "\n",
    "flowshop = fsp.FlowShop(data)\n",
    "\n",
    "temps_debut = timeit.default_timer()\n",
    "sigma, cmax = flowshop.CDS()\n",
    "temps_fin = timeit.default_timer() - temps_debut\n",
    "\n",
    "print(\"Jobs : \", flowshop.N, \" - Machines : \", flowshop.M)\n",
    "print(\"Best permutation : \", sigma)\n",
    "print(\"Cmax : \", int(cmax))\n",
    "print(\"Time : \", temps_fin)\n",
    "\n",
    "cds_cmax.append(int(cmax))"
   ]
  },
  {
   "cell_type": "code",
   "execution_count": 13,
   "id": "7e5b5c14-228b-44c9-bc65-9cb4f8f26f22",
   "metadata": {},
   "outputs": [
    {
     "name": "stdout",
     "output_type": "stream",
     "text": [
      "Jobs :  20  - Machines :  5\n",
      "Best permutation :  [ 3 10 12 13 19 20  4  9 17  6 16  2 15 14 11 18  7  1  8  5]\n",
      "Cmax :  1323\n",
      "Time :  0.0017001999999592954\n"
     ]
    }
   ],
   "source": [
    "# Instance 05 :\n",
    "# jobs = 20, machines : 5\n",
    "# Best known Cmax : 1235\n",
    "\n",
    "data =np.array( [\n",
    " [61, 86, 16, 42, 14, 92, 67, 77, 46, 41, 78,  3, 72, 95, 53, 59, 34, 66, 42, 63],\n",
    " [27, 92,  8, 65, 34,  6, 42, 39,  2,  7, 85, 32, 14, 74, 59, 95, 48, 37, 59,  4],\n",
    " [42, 93, 32, 30, 16, 95, 58, 12, 95, 21, 74, 38,  4, 31, 62, 39, 97, 57,  9, 54],\n",
    " [13, 47,  6, 70, 19, 97, 41,  1, 57, 60, 62, 14, 90, 76, 12, 89, 37, 35, 91, 69],\n",
    " [55, 48, 56, 84, 22, 51, 43, 50, 62, 61, 10, 87, 99, 40, 91, 64, 62, 53, 33, 16]\n",
    "])\n",
    "\n",
    "flowshop = fsp.FlowShop(data)\n",
    "\n",
    "temps_debut = timeit.default_timer()\n",
    "sigma, cmax = flowshop.CDS()\n",
    "temps_fin = timeit.default_timer() - temps_debut\n",
    "\n",
    "print(\"Jobs : \", flowshop.N, \" - Machines : \", flowshop.M)\n",
    "print(\"Best permutation : \", sigma)\n",
    "print(\"Cmax : \", int(cmax))\n",
    "print(\"Time : \", temps_fin)\n",
    "\n",
    "cds_cmax.append(int(cmax))"
   ]
  },
  {
   "cell_type": "code",
   "execution_count": 14,
   "id": "a0c58d86-66f6-4de2-94ff-70363b538c54",
   "metadata": {},
   "outputs": [
    {
     "name": "stdout",
     "output_type": "stream",
     "text": [
      "Jobs :  20  - Machines :  5\n",
      "Best permutation :  [14  5 16  6 11 13 20 17  7 12  1  4 18 15  8 10  9  2 19  3]\n",
      "Cmax :  1312\n",
      "Time :  0.0028187000000343687\n"
     ]
    }
   ],
   "source": [
    "# Instance 06 :\n",
    "# jobs = 20, machines : 5\n",
    "# Best known Cmax : 1195\n",
    "data =np.array( [\n",
    " [71, 27, 55, 90, 11, 18, 42, 64, 73, 95, 22, 53, 32,  5, 94, 12, 41, 85, 75, 38],\n",
    " [13, 11, 73, 43, 27, 33, 57, 42, 71,  3, 11, 49,  8,  3, 47, 58, 23, 79, 99, 23],\n",
    " [61, 25, 52, 72, 89, 75, 60, 28, 94, 95, 18, 73, 40, 61, 68, 75, 37, 13, 65,  7],\n",
    " [21,  8,  5,  8, 58, 59, 85, 35, 84, 97, 93, 60, 99, 29, 94, 41, 51, 87, 97, 11],\n",
    " [91, 13,  7, 95, 20, 69, 45, 44, 29, 32, 94, 84, 60, 49, 49, 65, 85, 52,  8, 58]\n",
    "])\n",
    "\n",
    "flowshop = fsp.FlowShop(data)\n",
    "\n",
    "temps_debut = timeit.default_timer()\n",
    "sigma, cmax = flowshop.CDS()\n",
    "temps_fin = timeit.default_timer() - temps_debut\n",
    "\n",
    "print(\"Jobs : \", flowshop.N, \" - Machines : \", flowshop.M)\n",
    "print(\"Best permutation : \", sigma)\n",
    "print(\"Cmax : \", int(cmax))\n",
    "print(\"Time : \", temps_fin)\n",
    "\n",
    "cds_cmax.append(int(cmax))"
   ]
  },
  {
   "cell_type": "code",
   "execution_count": 15,
   "id": "b9174a2f-e832-4089-a32d-a265dd106391",
   "metadata": {},
   "outputs": [
    {
     "name": "stdout",
     "output_type": "stream",
     "text": [
      "Jobs :  20  - Machines :  5\n",
      "Best permutation :  [10  5 15 11  1 16  7 13  8  4 20  2  6 17  3 12 19  9 14 18]\n",
      "Cmax :  1393\n",
      "Time :  0.004112900000109221\n"
     ]
    }
   ],
   "source": [
    "# Instance 07 :\n",
    "# jobs = 20, machines : 5\n",
    "# Best known Cmax : ?\n",
    "\n",
    "data =np.array( [\n",
    " [15, 64, 64, 48,  9, 91, 27, 34, 42,  3, 11, 54, 27, 30,  9, 15, 88, 55, 50, 57],\n",
    " [28,  4, 43, 93,  1, 81, 77, 69, 52, 28, 28, 77, 42, 53, 46, 49, 15, 43, 65, 41],\n",
    " [77, 36, 57, 15, 81, 82, 98, 97, 12, 35, 84, 70, 27, 37, 59, 42, 57, 16, 11, 34],\n",
    " [ 1, 59, 95, 49, 90, 78,  3, 69, 99, 41, 73, 28, 99, 13, 59, 47,  8, 92, 87, 62],\n",
    " [45, 73, 59, 63, 54, 98, 39, 75, 33,  8, 86, 41, 41, 22, 43, 34, 80, 16, 37, 94]\n",
    "])\n",
    "\n",
    "flowshop = fsp.FlowShop(data)\n",
    "\n",
    "temps_debut = timeit.default_timer()\n",
    "sigma, cmax = flowshop.CDS()\n",
    "temps_fin = timeit.default_timer() - temps_debut\n",
    "\n",
    "print(\"Jobs : \", flowshop.N, \" - Machines : \", flowshop.M)\n",
    "print(\"Best permutation : \", sigma)\n",
    "print(\"Cmax : \", int(cmax))\n",
    "print(\"Time : \", temps_fin)"
   ]
  },
  {
   "cell_type": "code",
   "execution_count": 16,
   "id": "694ed422-c682-46c9-b9ff-77ab7fee4323",
   "metadata": {},
   "outputs": [
    {
     "name": "stdout",
     "output_type": "stream",
     "text": [
      "Jobs :  20  - Machines :  5\n",
      "Best permutation :  [ 9  6 12 17  2 18 14 16  5 19  8  7 20 10  3 13 15  4 11  1]\n",
      "Cmax :  1345\n",
      "Time :  0.002607399999988047\n"
     ]
    }
   ],
   "source": [
    "# Instance 08 :\n",
    "# jobs = 20, machines : 5\n",
    "# Best known Cmax : 1206\n",
    "\n",
    "# jobs = 20, machines : 5\n",
    "data =np.array( [\n",
    " [34, 20, 57, 47, 62, 40, 74, 94,  9, 62, 86, 13, 78, 46, 83, 52, 13, 70, 40, 60],\n",
    " [ 5, 48, 80, 43, 34,  2, 87, 68, 28, 84, 30, 35, 42, 39, 85, 34, 36,  9, 96, 84],\n",
    " [86, 35,  5, 93, 74, 12, 40, 95, 80,  6, 92, 14, 83, 49, 36, 38, 43, 89, 94, 33],\n",
    " [28, 39, 55, 21, 25, 88, 59, 40, 90, 18, 33, 10, 59, 92, 15, 77, 31, 85, 85, 99],\n",
    " [ 8, 91, 45, 55, 75, 18, 59, 86, 45, 89, 11, 54, 38, 41, 64, 98, 83, 36, 61, 19]\n",
    "])\n",
    "\n",
    "flowshop = fsp.FlowShop(data)\n",
    "\n",
    "temps_debut = timeit.default_timer()\n",
    "sigma, cmax = flowshop.CDS()\n",
    "temps_fin = timeit.default_timer() - temps_debut\n",
    "\n",
    "print(\"Jobs : \", flowshop.N, \" - Machines : \", flowshop.M)\n",
    "print(\"Best permutation : \", sigma)\n",
    "print(\"Cmax : \", int(cmax))\n",
    "print(\"Time : \", temps_fin)\n",
    "\n",
    "cds_cmax.append(int(cmax))"
   ]
  },
  {
   "cell_type": "code",
   "execution_count": 17,
   "id": "da1c943d-1364-4fec-b4f9-1fb6b8eef037",
   "metadata": {},
   "outputs": [
    {
     "name": "stdout",
     "output_type": "stream",
     "text": [
      "Jobs :  20  - Machines :  5\n",
      "Best permutation :  [ 4  2  7  8 12 10 20 18  3  1 17  6  9 11 14 19  5 16 13 15]\n",
      "Cmax :  1360\n",
      "Time :  0.0016418000000157917\n"
     ]
    }
   ],
   "source": [
    "# Instance 09 :\n",
    "# jobs = 20, machines : 5\n",
    "# Best known Cmax : 1230\n",
    "\n",
    "data =np.array( [\n",
    " [37, 36,  1,  4, 64, 74, 32, 67, 73,  7, 78, 64, 98, 60, 89, 49,  2, 79, 79, 53],\n",
    " [59, 16, 90,  3, 76, 74, 22, 30, 89, 61, 39, 15, 69, 57,  9, 13, 71,  2, 34, 49],\n",
    " [65, 94, 96, 47, 35, 34, 84,  3, 60, 34, 70, 57,  8, 74, 13, 37, 87, 71, 89, 57],\n",
    " [70,  3, 43, 14, 26, 83, 26, 65, 47, 94, 75, 30,  1, 71, 46, 87, 78, 76, 75, 55],\n",
    " [94, 98, 63, 83, 19, 79, 54, 78, 29,  8, 38, 97, 61, 10, 37, 16, 78, 96,  9, 91]\n",
    "])\n",
    "\n",
    "flowshop = fsp.FlowShop(data)\n",
    "\n",
    "temps_debut = timeit.default_timer()\n",
    "sigma, cmax = flowshop.CDS()\n",
    "temps_fin = timeit.default_timer() - temps_debut\n",
    "\n",
    "print(\"Jobs : \", flowshop.N, \" - Machines : \", flowshop.M)\n",
    "print(\"Best permutation : \", sigma)\n",
    "print(\"Cmax : \", int(cmax))\n",
    "print(\"Time : \", temps_fin)\n",
    "\n",
    "cds_cmax.append(int(cmax))"
   ]
  },
  {
   "cell_type": "code",
   "execution_count": 18,
   "id": "048b7d33-3dd6-4592-be5d-1f51c8613fea",
   "metadata": {},
   "outputs": [
    {
     "name": "stdout",
     "output_type": "stream",
     "text": [
      "Jobs :  20  - Machines :  5\n",
      "Best permutation :  [ 5  7 11 16 19 12  6  1 10 13  8  2  3  4 18 14 17 20  9 15]\n",
      "Cmax :  1164\n",
      "Time :  0.0012859999999363936\n"
     ]
    }
   ],
   "source": [
    "# Instance 10 :\n",
    "# jobs = 20, machines : 5\n",
    "# Best known Cmax : 1108\n",
    "\n",
    "data =np.array( [\n",
    " [27, 92, 75, 94, 18, 41, 37, 58, 56, 20,  2, 39, 91, 81, 33, 14, 88, 22, 36, 65],\n",
    " [79, 23, 66,  5, 15, 51,  2, 81, 12, 40, 59, 32, 16, 87, 78, 41, 43, 94,  1, 93],\n",
    " [22, 93, 62, 53, 30, 34, 27, 30, 54, 77, 24, 47, 39, 66, 41, 46, 24, 23, 68, 50],\n",
    " [93, 22, 64, 81, 94, 97, 54, 82, 11, 91, 23, 32, 26, 22, 12, 23, 34, 87, 59,  2],\n",
    " [38, 84, 62, 10, 11, 93, 57, 81, 10, 40, 62, 49, 90, 34, 11, 81, 51, 21, 39, 27]\n",
    "])\n",
    "\n",
    "flowshop = fsp.FlowShop(data)\n",
    "\n",
    "temps_debut = timeit.default_timer()\n",
    "sigma, cmax = flowshop.CDS()\n",
    "temps_fin = timeit.default_timer() - temps_debut\n",
    "\n",
    "print(\"Jobs : \", flowshop.N, \" - Machines : \", flowshop.M)\n",
    "print(\"Best permutation : \", sigma)\n",
    "print(\"Cmax : \", int(cmax))\n",
    "print(\"Time : \", temps_fin)\n",
    "\n",
    "cds_cmax.append(int(cmax))"
   ]
  },
  {
   "cell_type": "markdown",
   "id": "c6e79941",
   "metadata": {},
   "source": [
    "### 2.2 NEH"
   ]
  },
  {
   "cell_type": "code",
   "execution_count": 19,
   "id": "929013f0",
   "metadata": {},
   "outputs": [
    {
     "name": "stdout",
     "output_type": "stream",
     "text": [
      "Jobs :  4  - Machines :  3\n",
      "Best permutation :  [4, 3, 2, 1]\n",
      "Cmax :  39\n",
      "Time :  0.075262500000008\n"
     ]
    }
   ],
   "source": [
    "# Exemple video\n",
    "data = np.array([\n",
    "    [5,    6,    4],\n",
    "    [8,    7,    8],\n",
    "    [6,    2,    7],\n",
    "    [3,    5,    6]\n",
    " ]).T\n",
    "\n",
    "flowshop = fsp.FlowShop(data)\n",
    "\n",
    "temps_debut = timeit.default_timer()\n",
    "sigma, cmax = flowshop.NEH()\n",
    "temps_fin = timeit.default_timer() - temps_debut\n",
    "\n",
    "print(\"Jobs : \", flowshop.N, \" - Machines : \", flowshop.M)\n",
    "print(\"Best permutation : \", sigma)\n",
    "print(\"Cmax : \", int(cmax))\n",
    "print(\"Time : \", temps_fin)"
   ]
  },
  {
   "cell_type": "code",
   "execution_count": 20,
   "id": "027fa8c3",
   "metadata": {},
   "outputs": [
    {
     "name": "stdout",
     "output_type": "stream",
     "text": [
      "Jobs :  5  - Machines :  3\n",
      "Best permutation :  [3, 4, 5, 1, 2]\n",
      "Cmax :  109\n",
      "Time :  0.0004635999998754414\n"
     ]
    }
   ],
   "source": [
    "# Exemple PDF\n",
    "data = np.array([\n",
    "    [16,    18,    12],\n",
    "    [14,    10,    11],\n",
    "    [13,    20,    15],\n",
    "    [19,    15,    19],\n",
    "    [15,    16,    16]\n",
    " ]).T\n",
    "\n",
    "flowshop = fsp.FlowShop(data)\n",
    "\n",
    "temps_debut = timeit.default_timer()\n",
    "sigma, cmax = flowshop.NEH()\n",
    "temps_fin = timeit.default_timer() - temps_debut\n",
    "\n",
    "print(\"Jobs : \", flowshop.N, \" - Machines : \", flowshop.M)\n",
    "print(\"Best permutation : \", sigma)\n",
    "print(\"Cmax : \", int(cmax))\n",
    "print(\"Time : \", temps_fin)"
   ]
  },
  {
   "cell_type": "code",
   "execution_count": 21,
   "id": "a84f8e8a",
   "metadata": {},
   "outputs": [
    {
     "name": "stdout",
     "output_type": "stream",
     "text": [
      "Jobs :  20  - Machines :  5\n",
      "Best permutation :  [3, 17, 9, 8, 15, 14, 11, 16, 13, 19, 6, 4, 5, 18, 1, 2, 10, 7, 20, 12]\n",
      "Cmax :  1609\n",
      "Time :  0.03925499999991189\n"
     ]
    }
   ],
   "source": [
    "# Instance 01 :\n",
    "# jobs = 20, machines : 5\n",
    "# Best known Cmax : 1278\n",
    "\n",
    "data =np.array( [\n",
    " [54, 83, 15, 71, 77, 36, 53, 38, 27, 87, 76, 91, 14, 29, 12, 77, 32, 87, 68, 94],\n",
    " [79,  3, 11, 99, 56, 70, 99, 60,  5, 56,  3, 61, 73, 75, 47, 14, 21, 86,  5, 77],\n",
    " [16, 89, 49, 15, 89, 45, 60, 23, 57, 64,  7,  1, 63, 41, 63, 47, 26, 75, 77, 40],\n",
    " [66, 58, 31, 68, 78, 91, 13, 59, 49, 85, 85,  9, 39, 41, 56, 40, 54, 77, 51, 31],\n",
    " [58, 56, 20, 85, 53, 35, 53, 41, 69, 13, 86, 72,  8, 49, 47, 87, 58, 18, 68, 28]\n",
    "])\n",
    "\n",
    "flowshop = fsp.FlowShop(data)\n",
    "\n",
    "temps_debut = timeit.default_timer()\n",
    "sigma, cmax = flowshop.NEH()\n",
    "temps_fin = timeit.default_timer() - temps_debut\n",
    "\n",
    "print(\"Jobs : \", flowshop.N, \" - Machines : \", flowshop.M)\n",
    "print(\"Best permutation : \", sigma)\n",
    "print(\"Cmax : \", int(cmax))\n",
    "print(\"Time : \", temps_fin)\n",
    "\n",
    "neh_cmax.append(int(cmax))"
   ]
  },
  {
   "cell_type": "code",
   "execution_count": 22,
   "id": "6ec587a1",
   "metadata": {},
   "outputs": [
    {
     "name": "stdout",
     "output_type": "stream",
     "text": [
      "Jobs :  20  - Machines :  5\n",
      "Best permutation :  [19, 14, 6, 20, 3, 10, 17, 9, 18, 12, 7, 15, 1, 13, 16, 5, 4, 11, 2, 8]\n",
      "Cmax :  1640\n",
      "Time :  0.034004900000127236\n"
     ]
    }
   ],
   "source": [
    "# Instance 02 :\n",
    "# jobs = 20, machines : 5\n",
    "# Best known Cmax : 1359\n",
    "\n",
    "data =np.array( [\n",
    " [26, 38, 27, 88, 95, 55, 54, 63, 23, 45, 86, 43, 43, 40, 37, 54, 35, 59, 43, 50],\n",
    " [59, 62, 44, 10, 23, 64, 47, 68, 54,  9, 30, 31, 92,  7, 14, 95, 76, 82, 91, 37],\n",
    " [78, 90, 64, 49, 47, 20, 61, 93, 36, 47, 70, 54, 87, 13, 40, 34, 55, 13, 11,  5],\n",
    " [88, 54, 47, 83, 84,  9, 30, 11, 92, 63, 62, 75, 48, 23, 85, 23,  4, 31, 13, 98],\n",
    " [69, 30, 61, 35, 53, 98, 94, 33, 77, 31, 54, 71, 78,  9, 79, 51, 76, 56, 80, 72]\n",
    "])\n",
    "\n",
    "flowshop = fsp.FlowShop(data)\n",
    "\n",
    "temps_debut = timeit.default_timer()\n",
    "sigma, cmax = flowshop.NEH()\n",
    "temps_fin = timeit.default_timer() - temps_debut\n",
    "\n",
    "print(\"Jobs : \", flowshop.N, \" - Machines : \", flowshop.M)\n",
    "print(\"Best permutation : \", sigma)\n",
    "print(\"Cmax : \", int(cmax))\n",
    "print(\"Time : \", temps_fin)\n",
    "\n",
    "neh_cmax.append(int(cmax))"
   ]
  },
  {
   "cell_type": "code",
   "execution_count": 23,
   "id": "f7c61da4",
   "metadata": {},
   "outputs": [
    {
     "name": "stdout",
     "output_type": "stream",
     "text": [
      "Jobs :  20  - Machines :  5\n",
      "Best permutation :  [16, 3, 20, 18, 7, 1, 12, 10, 5, 2, 9, 4, 19, 14, 17, 6, 13, 11, 8, 15]\n",
      "Cmax :  1539\n",
      "Time :  0.03684820000012223\n"
     ]
    }
   ],
   "source": [
    "# Instance 03 :\n",
    "# jobs = 20, machines : 5\n",
    "# Best known Cmax : 1081\n",
    "\n",
    "data =np.array( [\n",
    " [77, 94,  9, 57, 29, 79, 55, 73, 65, 86, 25, 39, 76, 24, 38,  5, 91, 29, 22, 27],\n",
    " [39, 31, 46, 18, 93, 58, 85, 58, 97, 10, 79, 93,  2, 87, 17, 18, 10, 50,  8, 26],\n",
    " [14, 21, 15, 10, 85, 46, 42, 18, 36,  2, 44, 89,  6,  3,  1, 43, 81, 57, 76, 59],\n",
    " [11,  2, 36, 30, 89, 10, 88, 22, 31,  9, 43, 91, 26,  3, 75, 99, 63, 83, 70, 84],\n",
    " [83, 13, 84, 46, 20, 33, 74, 42, 33, 71, 32, 48, 42, 99,  7, 54,  8, 73, 30, 75]\n",
    "])\n",
    "\n",
    "flowshop = fsp.FlowShop(data)\n",
    "\n",
    "temps_debut = timeit.default_timer()\n",
    "sigma, cmax = flowshop.NEH()\n",
    "temps_fin = timeit.default_timer() - temps_debut\n",
    "\n",
    "print(\"Jobs : \", flowshop.N, \" - Machines : \", flowshop.M)\n",
    "print(\"Best permutation : \", sigma)\n",
    "print(\"Cmax : \", int(cmax))\n",
    "print(\"Time : \", temps_fin)\n",
    "\n",
    "neh_cmax.append(int(cmax))"
   ]
  },
  {
   "cell_type": "code",
   "execution_count": 24,
   "id": "4c907f7f",
   "metadata": {},
   "outputs": [
    {
     "name": "stdout",
     "output_type": "stream",
     "text": [
      "Jobs :  20  - Machines :  5\n",
      "Best permutation :  [13, 16, 9, 17, 11, 19, 10, 6, 7, 15, 1, 12, 5, 20, 2, 3, 8, 14, 4, 18]\n",
      "Cmax :  1720\n",
      "Time :  0.032339900000124544\n"
     ]
    }
   ],
   "source": [
    "# Instance 04 :\n",
    "# jobs = 20, machines : 5\n",
    "# Best known Cmax : 1293\n",
    "\n",
    "data =np.array( [\n",
    " [53, 19, 99, 62, 88, 93, 34, 72, 42, 65, 39, 79,  9, 26, 72, 29, 36, 48, 57, 95],\n",
    " [93, 79, 88, 77, 94, 39, 74, 46, 17, 30, 62, 77, 43, 98, 48, 14, 45, 25, 98, 30],\n",
    " [90, 92, 35, 13, 75, 55, 80, 67,  3, 93, 54, 67, 25, 77, 38, 98, 96, 20, 15, 36],\n",
    " [65, 97, 27, 25, 61, 24, 97, 61, 75, 92, 73, 21, 29,  3, 96, 51, 26, 44, 56, 31],\n",
    " [64, 38, 44, 46, 66, 31, 48, 27, 82, 51, 90, 63, 85, 36, 69, 67, 81, 18, 81, 72]\n",
    "])\n",
    "\n",
    "flowshop = fsp.FlowShop(data)\n",
    "\n",
    "temps_debut = timeit.default_timer()\n",
    "sigma, cmax = flowshop.NEH()\n",
    "temps_fin = timeit.default_timer() - temps_debut\n",
    "\n",
    "print(\"Jobs : \", flowshop.N, \" - Machines : \", flowshop.M)\n",
    "print(\"Best permutation : \", sigma)\n",
    "print(\"Cmax : \", int(cmax))\n",
    "print(\"Time : \", temps_fin)\n",
    "\n",
    "neh_cmax.append(int(cmax))"
   ]
  },
  {
   "cell_type": "code",
   "execution_count": 25,
   "id": "a5d8657f",
   "metadata": {},
   "outputs": [
    {
     "name": "stdout",
     "output_type": "stream",
     "text": [
      "Jobs :  20  - Machines :  5\n",
      "Best permutation :  [5, 3, 12, 10, 20, 19, 9, 18, 7, 17, 15, 13, 4, 16, 6, 2, 14, 11, 8, 1]\n",
      "Cmax :  1584\n",
      "Time :  0.029832799999894632\n"
     ]
    }
   ],
   "source": [
    "# Instance 05 :\n",
    "# jobs = 20, machines : 5\n",
    "# Best known Cmax : 1235\n",
    "\n",
    "data =np.array( [\n",
    " [61, 86, 16, 42, 14, 92, 67, 77, 46, 41, 78,  3, 72, 95, 53, 59, 34, 66, 42, 63],\n",
    " [27, 92,  8, 65, 34,  6, 42, 39,  2,  7, 85, 32, 14, 74, 59, 95, 48, 37, 59,  4],\n",
    " [42, 93, 32, 30, 16, 95, 58, 12, 95, 21, 74, 38,  4, 31, 62, 39, 97, 57,  9, 54],\n",
    " [13, 47,  6, 70, 19, 97, 41,  1, 57, 60, 62, 14, 90, 76, 12, 89, 37, 35, 91, 69],\n",
    " [55, 48, 56, 84, 22, 51, 43, 50, 62, 61, 10, 87, 99, 40, 91, 64, 62, 53, 33, 16]\n",
    "])\n",
    "\n",
    "flowshop = fsp.FlowShop(data)\n",
    "\n",
    "temps_debut = timeit.default_timer()\n",
    "sigma, cmax = flowshop.NEH()\n",
    "temps_fin = timeit.default_timer() - temps_debut\n",
    "\n",
    "print(\"Jobs : \", flowshop.N, \" - Machines : \", flowshop.M)\n",
    "print(\"Best permutation : \", sigma)\n",
    "print(\"Cmax : \", int(cmax))\n",
    "print(\"Time : \", temps_fin)\n",
    "\n",
    "neh_cmax.append(int(cmax))"
   ]
  },
  {
   "cell_type": "code",
   "execution_count": 26,
   "id": "eb3d31ed",
   "metadata": {},
   "outputs": [
    {
     "name": "stdout",
     "output_type": "stream",
     "text": [
      "Jobs :  20  - Machines :  5\n",
      "Best permutation :  [11, 5, 20, 13, 8, 17, 6, 16, 1, 7, 12, 14, 2, 18, 10, 15, 9, 4, 19, 3]\n",
      "Cmax :  1583\n",
      "Time :  0.03080909999994219\n"
     ]
    }
   ],
   "source": [
    "# Instance 06 :\n",
    "# jobs = 20, machines : 5\n",
    "# Best known Cmax : 1195\n",
    "data =np.array( [\n",
    " [71, 27, 55, 90, 11, 18, 42, 64, 73, 95, 22, 53, 32,  5, 94, 12, 41, 85, 75, 38],\n",
    " [13, 11, 73, 43, 27, 33, 57, 42, 71,  3, 11, 49,  8,  3, 47, 58, 23, 79, 99, 23],\n",
    " [61, 25, 52, 72, 89, 75, 60, 28, 94, 95, 18, 73, 40, 61, 68, 75, 37, 13, 65,  7],\n",
    " [21,  8,  5,  8, 58, 59, 85, 35, 84, 97, 93, 60, 99, 29, 94, 41, 51, 87, 97, 11],\n",
    " [91, 13,  7, 95, 20, 69, 45, 44, 29, 32, 94, 84, 60, 49, 49, 65, 85, 52,  8, 58]\n",
    "])\n",
    "\n",
    "flowshop = fsp.FlowShop(data)\n",
    "\n",
    "temps_debut = timeit.default_timer()\n",
    "sigma, cmax = flowshop.NEH()\n",
    "temps_fin = timeit.default_timer() - temps_debut\n",
    "\n",
    "print(\"Jobs : \", flowshop.N, \" - Machines : \", flowshop.M)\n",
    "print(\"Best permutation : \", sigma)\n",
    "print(\"Cmax : \", int(cmax))\n",
    "print(\"Time : \", temps_fin)\n",
    "\n",
    "neh_cmax.append(int(cmax))"
   ]
  },
  {
   "cell_type": "code",
   "execution_count": 27,
   "id": "c2cc079e",
   "metadata": {},
   "outputs": [
    {
     "name": "stdout",
     "output_type": "stream",
     "text": [
      "Jobs :  20  - Machines :  5\n",
      "Best permutation :  [5, 16, 15, 14, 2, 11, 1, 20, 13, 8, 6, 9, 7, 17, 19, 12, 4, 3, 18, 10]\n",
      "Cmax :  1586\n",
      "Time :  0.03722420000008242\n"
     ]
    }
   ],
   "source": [
    "# Instance 07 :\n",
    "# jobs = 20, machines : 5\n",
    "# Best known Cmax : ?\n",
    "\n",
    "data =np.array( [\n",
    " [15, 64, 64, 48,  9, 91, 27, 34, 42,  3, 11, 54, 27, 30,  9, 15, 88, 55, 50, 57],\n",
    " [28,  4, 43, 93,  1, 81, 77, 69, 52, 28, 28, 77, 42, 53, 46, 49, 15, 43, 65, 41],\n",
    " [77, 36, 57, 15, 81, 82, 98, 97, 12, 35, 84, 70, 27, 37, 59, 42, 57, 16, 11, 34],\n",
    " [ 1, 59, 95, 49, 90, 78,  3, 69, 99, 41, 73, 28, 99, 13, 59, 47,  8, 92, 87, 62],\n",
    " [45, 73, 59, 63, 54, 98, 39, 75, 33,  8, 86, 41, 41, 22, 43, 34, 80, 16, 37, 94]\n",
    "])\n",
    "\n",
    "flowshop = fsp.FlowShop(data)\n",
    "\n",
    "temps_debut = timeit.default_timer()\n",
    "sigma, cmax = flowshop.NEH()\n",
    "temps_fin = timeit.default_timer() - temps_debut\n",
    "\n",
    "print(\"Jobs : \", flowshop.N, \" - Machines : \", flowshop.M)\n",
    "print(\"Best permutation : \", sigma)\n",
    "print(\"Cmax : \", int(cmax))\n",
    "print(\"Time : \", temps_fin)"
   ]
  },
  {
   "cell_type": "code",
   "execution_count": 28,
   "id": "3a55761f",
   "metadata": {},
   "outputs": [
    {
     "name": "stdout",
     "output_type": "stream",
     "text": [
      "Jobs :  20  - Machines :  5\n",
      "Best permutation :  [17, 12, 9, 2, 14, 10, 18, 4, 16, 19, 7, 8, 6, 5, 20, 15, 13, 1, 3, 11]\n",
      "Cmax :  1635\n",
      "Time :  0.03763539999999921\n"
     ]
    }
   ],
   "source": [
    "# Instance 08 :\n",
    "# jobs = 20, machines : 5\n",
    "# Best known Cmax : 1206\n",
    "\n",
    "# jobs = 20, machines : 5\n",
    "data =np.array( [\n",
    " [34, 20, 57, 47, 62, 40, 74, 94,  9, 62, 86, 13, 78, 46, 83, 52, 13, 70, 40, 60],\n",
    " [ 5, 48, 80, 43, 34,  2, 87, 68, 28, 84, 30, 35, 42, 39, 85, 34, 36,  9, 96, 84],\n",
    " [86, 35,  5, 93, 74, 12, 40, 95, 80,  6, 92, 14, 83, 49, 36, 38, 43, 89, 94, 33],\n",
    " [28, 39, 55, 21, 25, 88, 59, 40, 90, 18, 33, 10, 59, 92, 15, 77, 31, 85, 85, 99],\n",
    " [ 8, 91, 45, 55, 75, 18, 59, 86, 45, 89, 11, 54, 38, 41, 64, 98, 83, 36, 61, 19]\n",
    "])\n",
    "\n",
    "flowshop = fsp.FlowShop(data)\n",
    "\n",
    "temps_debut = timeit.default_timer()\n",
    "sigma, cmax = flowshop.NEH()\n",
    "temps_fin = timeit.default_timer() - temps_debut\n",
    "\n",
    "print(\"Jobs : \", flowshop.N, \" - Machines : \", flowshop.M)\n",
    "print(\"Best permutation : \", sigma)\n",
    "print(\"Cmax : \", int(cmax))\n",
    "print(\"Time : \", temps_fin)\n",
    "\n",
    "neh_cmax.append(int(cmax))"
   ]
  },
  {
   "cell_type": "code",
   "execution_count": 29,
   "id": "bf3ed37a",
   "metadata": {},
   "outputs": [
    {
     "name": "stdout",
     "output_type": "stream",
     "text": [
      "Jobs :  20  - Machines :  5\n",
      "Best permutation :  [4, 2, 20, 18, 17, 15, 1, 10, 7, 9, 16, 13, 8, 3, 5, 12, 6, 14, 11, 19]\n",
      "Cmax :  1597\n",
      "Time :  0.05055010000000948\n"
     ]
    }
   ],
   "source": [
    "# Instance 09 :\n",
    "# jobs = 20, machines : 5\n",
    "# Best known Cmax : 1230\n",
    "\n",
    "data =np.array( [\n",
    " [37, 36,  1,  4, 64, 74, 32, 67, 73,  7, 78, 64, 98, 60, 89, 49,  2, 79, 79, 53],\n",
    " [59, 16, 90,  3, 76, 74, 22, 30, 89, 61, 39, 15, 69, 57,  9, 13, 71,  2, 34, 49],\n",
    " [65, 94, 96, 47, 35, 34, 84,  3, 60, 34, 70, 57,  8, 74, 13, 37, 87, 71, 89, 57],\n",
    " [70,  3, 43, 14, 26, 83, 26, 65, 47, 94, 75, 30,  1, 71, 46, 87, 78, 76, 75, 55],\n",
    " [94, 98, 63, 83, 19, 79, 54, 78, 29,  8, 38, 97, 61, 10, 37, 16, 78, 96,  9, 91]\n",
    "])\n",
    "\n",
    "flowshop = fsp.FlowShop(data)\n",
    "\n",
    "temps_debut = timeit.default_timer()\n",
    "sigma, cmax = flowshop.NEH()\n",
    "temps_fin = timeit.default_timer() - temps_debut\n",
    "\n",
    "print(\"Jobs : \", flowshop.N, \" - Machines : \", flowshop.M)\n",
    "print(\"Best permutation : \", sigma)\n",
    "print(\"Cmax : \", int(cmax))\n",
    "print(\"Time : \", temps_fin)\n",
    "\n",
    "neh_cmax.append(int(cmax))"
   ]
  },
  {
   "cell_type": "code",
   "execution_count": 30,
   "id": "a3b5800e",
   "metadata": {},
   "outputs": [
    {
     "name": "stdout",
     "output_type": "stream",
     "text": [
      "Jobs :  20  - Machines :  5\n",
      "Best permutation :  [7, 19, 11, 12, 16, 6, 1, 13, 10, 15, 2, 8, 3, 4, 18, 14, 17, 5, 20, 9]\n",
      "Cmax :  1412\n",
      "Time :  0.030561899999838715\n"
     ]
    }
   ],
   "source": [
    "# Instance 10 :\n",
    "# jobs = 20, machines : 5\n",
    "# Best known Cmax : 1108\n",
    "\n",
    "data =np.array( [\n",
    " [27, 92, 75, 94, 18, 41, 37, 58, 56, 20,  2, 39, 91, 81, 33, 14, 88, 22, 36, 65],\n",
    " [79, 23, 66,  5, 15, 51,  2, 81, 12, 40, 59, 32, 16, 87, 78, 41, 43, 94,  1, 93],\n",
    " [22, 93, 62, 53, 30, 34, 27, 30, 54, 77, 24, 47, 39, 66, 41, 46, 24, 23, 68, 50],\n",
    " [93, 22, 64, 81, 94, 97, 54, 82, 11, 91, 23, 32, 26, 22, 12, 23, 34, 87, 59,  2],\n",
    " [38, 84, 62, 10, 11, 93, 57, 81, 10, 40, 62, 49, 90, 34, 11, 81, 51, 21, 39, 27]\n",
    "])\n",
    "\n",
    "flowshop = fsp.FlowShop(data)\n",
    "\n",
    "temps_debut = timeit.default_timer()\n",
    "sigma, cmax = flowshop.NEH()\n",
    "temps_fin = timeit.default_timer() - temps_debut\n",
    "\n",
    "print(\"Jobs : \", flowshop.N, \" - Machines : \", flowshop.M)\n",
    "print(\"Best permutation : \", sigma)\n",
    "print(\"Cmax : \", int(cmax))\n",
    "print(\"Time : \", temps_fin)\n",
    "\n",
    "neh_cmax.append(int(cmax))"
   ]
  },
  {
   "cell_type": "markdown",
   "id": "b1005ac7",
   "metadata": {},
   "source": [
    "### 2.2 Palmer"
   ]
  },
  {
   "cell_type": "code",
   "execution_count": 31,
   "id": "a2dbfcec",
   "metadata": {},
   "outputs": [
    {
     "name": "stdout",
     "output_type": "stream",
     "text": [
      "Jobs :  5  - Machines :  3\n",
      "Best permutation :  [3, 5, 4, 2, 1]\n",
      "Cmax :  107\n",
      "Time :  0.14089949999993223\n"
     ]
    }
   ],
   "source": [
    "#Exemple du livre \n",
    "data = np.array([\n",
    "    [16,    18,   12],\n",
    "    [14,    10,   11],\n",
    "    [13,    20,   15],\n",
    "    [19,    15,   19],\n",
    "    [15,   16,    16]\n",
    " ]).T\n",
    "\n",
    "flowshop = fsp.FlowShop(data)\n",
    "\n",
    "temps_debut = timeit.default_timer()\n",
    "#sigma, cmax = flowshop.branchBound()\n",
    "sigma, cmax = flowshop.palmer_heuristic()\n",
    "temps_fin = timeit.default_timer() - temps_debut\n",
    "\n",
    "print(\"Jobs : \", flowshop.N, \" - Machines : \", flowshop.M)\n",
    "print(\"Best permutation : \", sigma)\n",
    "print(\"Cmax : \", int(cmax))\n",
    "print(\"Time : \", temps_fin)"
   ]
  },
  {
   "cell_type": "code",
   "execution_count": 32,
   "id": "01d4957d",
   "metadata": {},
   "outputs": [
    {
     "name": "stdout",
     "output_type": "stream",
     "text": [
      "Jobs :  20  - Machines :  5\n",
      "Best permutation :  [9, 11, 17, 15, 16, 19, 3, 6, 14, 8, 2, 4, 1, 5, 13, 7, 12, 10, 18, 20]\n",
      "Cmax :  1384\n",
      "Time :  0.0011853999999402731\n"
     ]
    }
   ],
   "source": [
    "# Instance 01 :\n",
    "# jobs = 20, machines : 5\n",
    "# Best known Cmax : 1278\n",
    "\n",
    "data =np.array( [\n",
    " [54, 83, 15, 71, 77, 36, 53, 38, 27, 87, 76, 91, 14, 29, 12, 77, 32, 87, 68, 94],\n",
    " [79,  3, 11, 99, 56, 70, 99, 60,  5, 56,  3, 61, 73, 75, 47, 14, 21, 86,  5, 77],\n",
    " [16, 89, 49, 15, 89, 45, 60, 23, 57, 64,  7,  1, 63, 41, 63, 47, 26, 75, 77, 40],\n",
    " [66, 58, 31, 68, 78, 91, 13, 59, 49, 85, 85,  9, 39, 41, 56, 40, 54, 77, 51, 31],\n",
    " [58, 56, 20, 85, 53, 35, 53, 41, 69, 13, 86, 72,  8, 49, 47, 87, 58, 18, 68, 28]\n",
    "])\n",
    "\n",
    "flowshop = fsp.FlowShop(data)\n",
    "\n",
    "temps_debut = timeit.default_timer()\n",
    "sigma, cmax = flowshop.palmer_heuristic()\n",
    "temps_fin = timeit.default_timer() - temps_debut\n",
    "\n",
    "print(\"Jobs : \", flowshop.N, \" - Machines : \", flowshop.M)\n",
    "print(\"Best permutation : \", sigma)\n",
    "print(\"Cmax : \", int(cmax))\n",
    "print(\"Time : \", temps_fin)\n",
    "\n",
    "palmer_cmax.append(int(cmax))"
   ]
  },
  {
   "cell_type": "code",
   "execution_count": 33,
   "id": "76103782",
   "metadata": {},
   "outputs": [
    {
     "name": "stdout",
     "output_type": "stream",
     "text": [
      "Jobs :  20  - Machines :  5\n",
      "Best permutation :  [15, 9, 1, 20, 12, 3, 7, 6, 13, 10, 17, 19, 5, 2, 11, 4, 14, 18, 16, 8]\n",
      "Cmax :  1439\n",
      "Time :  0.0009817000000111875\n"
     ]
    }
   ],
   "source": [
    "# Instance 02 :\n",
    "# jobs = 20, machines : 5\n",
    "# Best known Cmax : 1359\n",
    "\n",
    "data =np.array( [\n",
    " [26, 38, 27, 88, 95, 55, 54, 63, 23, 45, 86, 43, 43, 40, 37, 54, 35, 59, 43, 50],\n",
    " [59, 62, 44, 10, 23, 64, 47, 68, 54,  9, 30, 31, 92,  7, 14, 95, 76, 82, 91, 37],\n",
    " [78, 90, 64, 49, 47, 20, 61, 93, 36, 47, 70, 54, 87, 13, 40, 34, 55, 13, 11,  5],\n",
    " [88, 54, 47, 83, 84,  9, 30, 11, 92, 63, 62, 75, 48, 23, 85, 23,  4, 31, 13, 98],\n",
    " [69, 30, 61, 35, 53, 98, 94, 33, 77, 31, 54, 71, 78,  9, 79, 51, 76, 56, 80, 72]\n",
    "])\n",
    "\n",
    "flowshop = fsp.FlowShop(data)\n",
    "\n",
    "temps_debut = timeit.default_timer()\n",
    "sigma, cmax = flowshop.palmer_heuristic()\n",
    "temps_fin = timeit.default_timer() - temps_debut\n",
    "\n",
    "print(\"Jobs : \", flowshop.N, \" - Machines : \", flowshop.M)\n",
    "print(\"Best permutation : \", sigma)\n",
    "print(\"Cmax : \", int(cmax))\n",
    "print(\"Time : \", temps_fin)\n",
    "\n",
    "palmer_cmax.append(int(cmax))"
   ]
  },
  {
   "cell_type": "code",
   "execution_count": 34,
   "id": "c4bb5d40",
   "metadata": {},
   "outputs": [
    {
     "name": "stdout",
     "output_type": "stream",
     "text": [
      "Jobs :  20  - Machines :  5\n",
      "Best permutation :  [16, 20, 3, 18, 19, 14, 7, 12, 15, 4, 1, 5, 11, 10, 13, 8, 17, 9, 6, 2]\n",
      "Cmax :  1162\n",
      "Time :  0.0006348999997953797\n"
     ]
    }
   ],
   "source": [
    "# Instance 03 :\n",
    "# jobs = 20, machines : 5\n",
    "# Best known Cmax : 1081\n",
    "\n",
    "data =np.array( [\n",
    " [77, 94,  9, 57, 29, 79, 55, 73, 65, 86, 25, 39, 76, 24, 38,  5, 91, 29, 22, 27],\n",
    " [39, 31, 46, 18, 93, 58, 85, 58, 97, 10, 79, 93,  2, 87, 17, 18, 10, 50,  8, 26],\n",
    " [14, 21, 15, 10, 85, 46, 42, 18, 36,  2, 44, 89,  6,  3,  1, 43, 81, 57, 76, 59],\n",
    " [11,  2, 36, 30, 89, 10, 88, 22, 31,  9, 43, 91, 26,  3, 75, 99, 63, 83, 70, 84],\n",
    " [83, 13, 84, 46, 20, 33, 74, 42, 33, 71, 32, 48, 42, 99,  7, 54,  8, 73, 30, 75]\n",
    "])\n",
    "\n",
    "flowshop = fsp.FlowShop(data)\n",
    "\n",
    "temps_debut = timeit.default_timer()\n",
    "sigma, cmax = flowshop.palmer_heuristic()\n",
    "temps_fin = timeit.default_timer() - temps_debut\n",
    "\n",
    "print(\"Jobs : \", flowshop.N, \" - Machines : \", flowshop.M)\n",
    "print(\"Best permutation : \", sigma)\n",
    "print(\"Cmax : \", int(cmax))\n",
    "print(\"Time : \", temps_fin)\n",
    "\n",
    "palmer_cmax.append(int(cmax))"
   ]
  },
  {
   "cell_type": "code",
   "execution_count": 35,
   "id": "5d71f21b",
   "metadata": {},
   "outputs": [
    {
     "name": "stdout",
     "output_type": "stream",
     "text": [
      "Jobs :  20  - Machines :  5\n",
      "Best permutation :  [13, 9, 16, 11, 17, 2, 7, 15, 10, 19, 1, 18, 20, 14, 8, 5, 4, 12, 6, 3]\n",
      "Cmax :  1420\n",
      "Time :  0.0010926999998446263\n"
     ]
    }
   ],
   "source": [
    "# Instance 04 :\n",
    "# jobs = 20, machines : 5\n",
    "# Best known Cmax : 1293\n",
    "\n",
    "data =np.array( [\n",
    " [53, 19, 99, 62, 88, 93, 34, 72, 42, 65, 39, 79,  9, 26, 72, 29, 36, 48, 57, 95],\n",
    " [93, 79, 88, 77, 94, 39, 74, 46, 17, 30, 62, 77, 43, 98, 48, 14, 45, 25, 98, 30],\n",
    " [90, 92, 35, 13, 75, 55, 80, 67,  3, 93, 54, 67, 25, 77, 38, 98, 96, 20, 15, 36],\n",
    " [65, 97, 27, 25, 61, 24, 97, 61, 75, 92, 73, 21, 29,  3, 96, 51, 26, 44, 56, 31],\n",
    " [64, 38, 44, 46, 66, 31, 48, 27, 82, 51, 90, 63, 85, 36, 69, 67, 81, 18, 81, 72]\n",
    "])\n",
    "\n",
    "flowshop = fsp.FlowShop(data)\n",
    "\n",
    "temps_debut = timeit.default_timer()\n",
    "sigma, cmax = flowshop.palmer_heuristic()\n",
    "temps_fin = timeit.default_timer() - temps_debut\n",
    "\n",
    "print(\"Jobs : \", flowshop.N, \" - Machines : \", flowshop.M)\n",
    "print(\"Best permutation : \", sigma)\n",
    "print(\"Cmax : \", int(cmax))\n",
    "print(\"Time : \", temps_fin)\n",
    "\n",
    "palmer_cmax.append(int(cmax))"
   ]
  },
  {
   "cell_type": "code",
   "execution_count": 36,
   "id": "f7db8973",
   "metadata": {},
   "outputs": [
    {
     "name": "stdout",
     "output_type": "stream",
     "text": [
      "Jobs :  20  - Machines :  5\n",
      "Best permutation :  [12, 13, 10, 4, 9, 3, 17, 15, 19, 6, 16, 5, 1, 18, 20, 7, 8, 14, 2, 11]\n",
      "Cmax :  1360\n",
      "Time :  0.0014425000001665467\n"
     ]
    }
   ],
   "source": [
    "# Instance 05 :\n",
    "# jobs = 20, machines : 5\n",
    "# Best known Cmax : 1235\n",
    "\n",
    "data =np.array( [\n",
    " [61, 86, 16, 42, 14, 92, 67, 77, 46, 41, 78,  3, 72, 95, 53, 59, 34, 66, 42, 63],\n",
    " [27, 92,  8, 65, 34,  6, 42, 39,  2,  7, 85, 32, 14, 74, 59, 95, 48, 37, 59,  4],\n",
    " [42, 93, 32, 30, 16, 95, 58, 12, 95, 21, 74, 38,  4, 31, 62, 39, 97, 57,  9, 54],\n",
    " [13, 47,  6, 70, 19, 97, 41,  1, 57, 60, 62, 14, 90, 76, 12, 89, 37, 35, 91, 69],\n",
    " [55, 48, 56, 84, 22, 51, 43, 50, 62, 61, 10, 87, 99, 40, 91, 64, 62, 53, 33, 16]\n",
    "])\n",
    "\n",
    "flowshop = fsp.FlowShop(data)\n",
    "\n",
    "temps_debut = timeit.default_timer()\n",
    "sigma, cmax = flowshop.palmer_heuristic()\n",
    "temps_fin = timeit.default_timer() - temps_debut\n",
    "\n",
    "print(\"Jobs : \", flowshop.N, \" - Machines : \", flowshop.M)\n",
    "print(\"Best permutation : \", sigma)\n",
    "print(\"Cmax : \", int(cmax))\n",
    "print(\"Time : \", temps_fin)\n",
    "\n",
    "palmer_cmax.append(int(cmax))"
   ]
  },
  {
   "cell_type": "code",
   "execution_count": 37,
   "id": "653ff2db",
   "metadata": {},
   "outputs": [
    {
     "name": "stdout",
     "output_type": "stream",
     "text": [
      "Jobs :  20  - Machines :  5\n",
      "Best permutation :  [11, 13, 6, 17, 14, 16, 12, 5, 1, 7, 20, 4, 2, 10, 15, 8, 18, 9, 19, 3]\n",
      "Cmax :  1344\n",
      "Time :  0.001290599999947517\n"
     ]
    }
   ],
   "source": [
    "# Instance 06 :\n",
    "# jobs = 20, machines : 5\n",
    "# Best known Cmax : 1195\n",
    "data =np.array( [\n",
    " [71, 27, 55, 90, 11, 18, 42, 64, 73, 95, 22, 53, 32,  5, 94, 12, 41, 85, 75, 38],\n",
    " [13, 11, 73, 43, 27, 33, 57, 42, 71,  3, 11, 49,  8,  3, 47, 58, 23, 79, 99, 23],\n",
    " [61, 25, 52, 72, 89, 75, 60, 28, 94, 95, 18, 73, 40, 61, 68, 75, 37, 13, 65,  7],\n",
    " [21,  8,  5,  8, 58, 59, 85, 35, 84, 97, 93, 60, 99, 29, 94, 41, 51, 87, 97, 11],\n",
    " [91, 13,  7, 95, 20, 69, 45, 44, 29, 32, 94, 84, 60, 49, 49, 65, 85, 52,  8, 58]\n",
    "])\n",
    "\n",
    "flowshop = fsp.FlowShop(data)\n",
    "\n",
    "temps_debut = timeit.default_timer()\n",
    "sigma, cmax = flowshop.palmer_heuristic()\n",
    "temps_fin = timeit.default_timer() - temps_debut\n",
    "\n",
    "print(\"Jobs : \", flowshop.N, \" - Machines : \", flowshop.M)\n",
    "print(\"Best permutation : \", sigma)\n",
    "print(\"Cmax : \", int(cmax))\n",
    "print(\"Time : \", temps_fin)\n",
    "\n",
    "palmer_cmax.append(int(cmax))"
   ]
  },
  {
   "cell_type": "code",
   "execution_count": 38,
   "id": "eb72eef8",
   "metadata": {},
   "outputs": [
    {
     "name": "stdout",
     "output_type": "stream",
     "text": [
      "Jobs :  20  - Machines :  5\n",
      "Best permutation :  [11, 5, 20, 13, 8, 15, 2, 3, 16, 1, 9, 10, 6, 19, 4, 17, 18, 7, 14, 12]\n",
      "Cmax :  1400\n",
      "Time :  0.0005743000001530163\n"
     ]
    }
   ],
   "source": [
    "# Instance 07 :\n",
    "# jobs = 20, machines : 5\n",
    "# Best known Cmax : ?\n",
    "\n",
    "data =np.array( [\n",
    " [15, 64, 64, 48,  9, 91, 27, 34, 42,  3, 11, 54, 27, 30,  9, 15, 88, 55, 50, 57],\n",
    " [28,  4, 43, 93,  1, 81, 77, 69, 52, 28, 28, 77, 42, 53, 46, 49, 15, 43, 65, 41],\n",
    " [77, 36, 57, 15, 81, 82, 98, 97, 12, 35, 84, 70, 27, 37, 59, 42, 57, 16, 11, 34],\n",
    " [ 1, 59, 95, 49, 90, 78,  3, 69, 99, 41, 73, 28, 99, 13, 59, 47,  8, 92, 87, 62],\n",
    " [45, 73, 59, 63, 54, 98, 39, 75, 33,  8, 86, 41, 41, 22, 43, 34, 80, 16, 37, 94]\n",
    "])\n",
    "\n",
    "flowshop = fsp.FlowShop(data)\n",
    "\n",
    "temps_debut = timeit.default_timer()\n",
    "sigma, cmax = flowshop.palmer_heuristic()\n",
    "temps_fin = timeit.default_timer() - temps_debut\n",
    "\n",
    "print(\"Jobs : \", flowshop.N, \" - Machines : \", flowshop.M)\n",
    "print(\"Best permutation : \", sigma)\n",
    "print(\"Cmax : \", int(cmax))\n",
    "print(\"Time : \", temps_fin)"
   ]
  },
  {
   "cell_type": "code",
   "execution_count": 39,
   "id": "103e9cd0",
   "metadata": {},
   "outputs": [
    {
     "name": "stdout",
     "output_type": "stream",
     "text": [
      "Jobs :  20  - Machines :  5\n",
      "Best permutation :  [17, 16, 9, 2, 12, 14, 6, 19, 5, 18, 4, 10, 1, 8, 3, 7, 13, 20, 15, 11]\n",
      "Cmax :  1290\n",
      "Time :  0.0006397000001925335\n"
     ]
    }
   ],
   "source": [
    "# Instance 08 :\n",
    "# jobs = 20, machines : 5\n",
    "# Best known Cmax : 1206\n",
    "\n",
    "# jobs = 20, machines : 5\n",
    "data =np.array( [\n",
    " [34, 20, 57, 47, 62, 40, 74, 94,  9, 62, 86, 13, 78, 46, 83, 52, 13, 70, 40, 60],\n",
    " [ 5, 48, 80, 43, 34,  2, 87, 68, 28, 84, 30, 35, 42, 39, 85, 34, 36,  9, 96, 84],\n",
    " [86, 35,  5, 93, 74, 12, 40, 95, 80,  6, 92, 14, 83, 49, 36, 38, 43, 89, 94, 33],\n",
    " [28, 39, 55, 21, 25, 88, 59, 40, 90, 18, 33, 10, 59, 92, 15, 77, 31, 85, 85, 99],\n",
    " [ 8, 91, 45, 55, 75, 18, 59, 86, 45, 89, 11, 54, 38, 41, 64, 98, 83, 36, 61, 19]\n",
    "])\n",
    "\n",
    "flowshop = fsp.FlowShop(data)\n",
    "\n",
    "temps_debut = timeit.default_timer()\n",
    "sigma, cmax = flowshop.palmer_heuristic()\n",
    "temps_fin = timeit.default_timer() - temps_debut\n",
    "\n",
    "print(\"Jobs : \", flowshop.N, \" - Machines : \", flowshop.M)\n",
    "print(\"Best permutation : \", sigma)\n",
    "print(\"Cmax : \", int(cmax))\n",
    "print(\"Time : \", temps_fin)\n",
    "\n",
    "palmer_cmax.append(int(cmax))"
   ]
  },
  {
   "cell_type": "code",
   "execution_count": 40,
   "id": "a6f02688",
   "metadata": {},
   "outputs": [
    {
     "name": "stdout",
     "output_type": "stream",
     "text": [
      "Jobs :  20  - Machines :  5\n",
      "Best permutation :  [4, 17, 1, 2, 18, 20, 12, 3, 8, 7, 10, 6, 16, 11, 15, 14, 19, 9, 5, 13]\n",
      "Cmax :  1426\n",
      "Time :  0.0009648000000197499\n"
     ]
    }
   ],
   "source": [
    "# Instance 09 :\n",
    "# jobs = 20, machines : 5\n",
    "# Best known Cmax : 1230\n",
    "\n",
    "data =np.array( [\n",
    " [37, 36,  1,  4, 64, 74, 32, 67, 73,  7, 78, 64, 98, 60, 89, 49,  2, 79, 79, 53],\n",
    " [59, 16, 90,  3, 76, 74, 22, 30, 89, 61, 39, 15, 69, 57,  9, 13, 71,  2, 34, 49],\n",
    " [65, 94, 96, 47, 35, 34, 84,  3, 60, 34, 70, 57,  8, 74, 13, 37, 87, 71, 89, 57],\n",
    " [70,  3, 43, 14, 26, 83, 26, 65, 47, 94, 75, 30,  1, 71, 46, 87, 78, 76, 75, 55],\n",
    " [94, 98, 63, 83, 19, 79, 54, 78, 29,  8, 38, 97, 61, 10, 37, 16, 78, 96,  9, 91]\n",
    "])\n",
    "\n",
    "flowshop = fsp.FlowShop(data)\n",
    "\n",
    "temps_debut = timeit.default_timer()\n",
    "sigma, cmax = flowshop.palmer_heuristic()\n",
    "temps_fin = timeit.default_timer() - temps_debut\n",
    "\n",
    "print(\"Jobs : \", flowshop.N, \" - Machines : \", flowshop.M)\n",
    "print(\"Best permutation : \", sigma)\n",
    "print(\"Cmax : \", int(cmax))\n",
    "print(\"Time : \", temps_fin)\n",
    "\n",
    "palmer_cmax.append(int(cmax))"
   ]
  },
  {
   "cell_type": "code",
   "execution_count": 41,
   "id": "a844226b",
   "metadata": {},
   "outputs": [
    {
     "name": "stdout",
     "output_type": "stream",
     "text": [
      "Jobs :  20  - Machines :  5\n",
      "Best permutation :  [6, 16, 7, 10, 11, 5, 19, 8, 1, 12, 13, 18, 2, 3, 17, 4, 9, 15, 14, 20]\n",
      "Cmax :  1229\n",
      "Time :  0.0005427000000963744\n"
     ]
    }
   ],
   "source": [
    "# Instance 10 :\n",
    "# jobs = 20, machines : 5\n",
    "# Best known Cmax : 1108\n",
    "\n",
    "data =np.array( [\n",
    " [27, 92, 75, 94, 18, 41, 37, 58, 56, 20,  2, 39, 91, 81, 33, 14, 88, 22, 36, 65],\n",
    " [79, 23, 66,  5, 15, 51,  2, 81, 12, 40, 59, 32, 16, 87, 78, 41, 43, 94,  1, 93],\n",
    " [22, 93, 62, 53, 30, 34, 27, 30, 54, 77, 24, 47, 39, 66, 41, 46, 24, 23, 68, 50],\n",
    " [93, 22, 64, 81, 94, 97, 54, 82, 11, 91, 23, 32, 26, 22, 12, 23, 34, 87, 59,  2],\n",
    " [38, 84, 62, 10, 11, 93, 57, 81, 10, 40, 62, 49, 90, 34, 11, 81, 51, 21, 39, 27]\n",
    "])\n",
    "\n",
    "flowshop = fsp.FlowShop(data)\n",
    "\n",
    "temps_debut = timeit.default_timer()\n",
    "sigma, cmax = flowshop.palmer_heuristic()\n",
    "temps_fin = timeit.default_timer() - temps_debut\n",
    "\n",
    "print(\"Jobs : \", flowshop.N, \" - Machines : \", flowshop.M)\n",
    "print(\"Best permutation : \", sigma)\n",
    "print(\"Cmax : \", int(cmax))\n",
    "print(\"Time : \", temps_fin)\n",
    "\n",
    "palmer_cmax.append(int(cmax))"
   ]
  },
  {
   "cell_type": "code",
   "execution_count": 44,
   "id": "9d66ea70",
   "metadata": {},
   "outputs": [
    {
     "name": "stdout",
     "output_type": "stream",
     "text": [
      "Modularity\n"
     ]
    },
    {
     "ename": "ValueError",
     "evalue": "All arrays must be of the same length",
     "output_type": "error",
     "traceback": [
      "\u001b[1;31m---------------------------------------------------------------------------\u001b[0m",
      "\u001b[1;31mValueError\u001b[0m                                Traceback (most recent call last)",
      "\u001b[1;32m~\\AppData\\Local\\Temp/ipykernel_22476/2377110850.py\u001b[0m in \u001b[0;36m<module>\u001b[1;34m\u001b[0m\n\u001b[0;32m      7\u001b[0m     \u001b[1;34m\"Palmer\"\u001b[0m \u001b[1;33m:\u001b[0m \u001b[0mpalmer_cmax\u001b[0m\u001b[1;33m,\u001b[0m\u001b[1;33m\u001b[0m\u001b[1;33m\u001b[0m\u001b[0m\n\u001b[0;32m      8\u001b[0m     \u001b[1;34m\"CDS\"\u001b[0m \u001b[1;33m:\u001b[0m \u001b[0mcds_cmax\u001b[0m\u001b[1;33m,\u001b[0m\u001b[1;33m\u001b[0m\u001b[1;33m\u001b[0m\u001b[0m\n\u001b[1;32m----> 9\u001b[1;33m     \u001b[1;34m\"NEH\"\u001b[0m \u001b[1;33m:\u001b[0m \u001b[0mneh_cmax\u001b[0m\u001b[1;33m\u001b[0m\u001b[1;33m\u001b[0m\u001b[0m\n\u001b[0m\u001b[0;32m     10\u001b[0m })\n",
      "\u001b[1;32m~\\AppData\\Local\\Programs\\Python\\Python37\\lib\\site-packages\\pandas\\core\\frame.py\u001b[0m in \u001b[0;36m__init__\u001b[1;34m(self, data, index, columns, dtype, copy)\u001b[0m\n\u001b[0;32m    612\u001b[0m         \u001b[1;32melif\u001b[0m \u001b[0misinstance\u001b[0m\u001b[1;33m(\u001b[0m\u001b[0mdata\u001b[0m\u001b[1;33m,\u001b[0m \u001b[0mdict\u001b[0m\u001b[1;33m)\u001b[0m\u001b[1;33m:\u001b[0m\u001b[1;33m\u001b[0m\u001b[1;33m\u001b[0m\u001b[0m\n\u001b[0;32m    613\u001b[0m             \u001b[1;31m# GH#38939 de facto copy defaults to False only in non-dict cases\u001b[0m\u001b[1;33m\u001b[0m\u001b[1;33m\u001b[0m\u001b[1;33m\u001b[0m\u001b[0m\n\u001b[1;32m--> 614\u001b[1;33m             \u001b[0mmgr\u001b[0m \u001b[1;33m=\u001b[0m \u001b[0mdict_to_mgr\u001b[0m\u001b[1;33m(\u001b[0m\u001b[0mdata\u001b[0m\u001b[1;33m,\u001b[0m \u001b[0mindex\u001b[0m\u001b[1;33m,\u001b[0m \u001b[0mcolumns\u001b[0m\u001b[1;33m,\u001b[0m \u001b[0mdtype\u001b[0m\u001b[1;33m=\u001b[0m\u001b[0mdtype\u001b[0m\u001b[1;33m,\u001b[0m \u001b[0mcopy\u001b[0m\u001b[1;33m=\u001b[0m\u001b[0mcopy\u001b[0m\u001b[1;33m,\u001b[0m \u001b[0mtyp\u001b[0m\u001b[1;33m=\u001b[0m\u001b[0mmanager\u001b[0m\u001b[1;33m)\u001b[0m\u001b[1;33m\u001b[0m\u001b[1;33m\u001b[0m\u001b[0m\n\u001b[0m\u001b[0;32m    615\u001b[0m         \u001b[1;32melif\u001b[0m \u001b[0misinstance\u001b[0m\u001b[1;33m(\u001b[0m\u001b[0mdata\u001b[0m\u001b[1;33m,\u001b[0m \u001b[0mma\u001b[0m\u001b[1;33m.\u001b[0m\u001b[0mMaskedArray\u001b[0m\u001b[1;33m)\u001b[0m\u001b[1;33m:\u001b[0m\u001b[1;33m\u001b[0m\u001b[1;33m\u001b[0m\u001b[0m\n\u001b[0;32m    616\u001b[0m             \u001b[1;32mimport\u001b[0m \u001b[0mnumpy\u001b[0m\u001b[1;33m.\u001b[0m\u001b[0mma\u001b[0m\u001b[1;33m.\u001b[0m\u001b[0mmrecords\u001b[0m \u001b[1;32mas\u001b[0m \u001b[0mmrecords\u001b[0m\u001b[1;33m\u001b[0m\u001b[1;33m\u001b[0m\u001b[0m\n",
      "\u001b[1;32m~\\AppData\\Local\\Programs\\Python\\Python37\\lib\\site-packages\\pandas\\core\\internals\\construction.py\u001b[0m in \u001b[0;36mdict_to_mgr\u001b[1;34m(data, index, columns, dtype, typ, copy)\u001b[0m\n\u001b[0;32m    463\u001b[0m \u001b[1;33m\u001b[0m\u001b[0m\n\u001b[0;32m    464\u001b[0m     return arrays_to_mgr(\n\u001b[1;32m--> 465\u001b[1;33m         \u001b[0marrays\u001b[0m\u001b[1;33m,\u001b[0m \u001b[0mdata_names\u001b[0m\u001b[1;33m,\u001b[0m \u001b[0mindex\u001b[0m\u001b[1;33m,\u001b[0m \u001b[0mcolumns\u001b[0m\u001b[1;33m,\u001b[0m \u001b[0mdtype\u001b[0m\u001b[1;33m=\u001b[0m\u001b[0mdtype\u001b[0m\u001b[1;33m,\u001b[0m \u001b[0mtyp\u001b[0m\u001b[1;33m=\u001b[0m\u001b[0mtyp\u001b[0m\u001b[1;33m,\u001b[0m \u001b[0mconsolidate\u001b[0m\u001b[1;33m=\u001b[0m\u001b[0mcopy\u001b[0m\u001b[1;33m\u001b[0m\u001b[1;33m\u001b[0m\u001b[0m\n\u001b[0m\u001b[0;32m    466\u001b[0m     )\n\u001b[0;32m    467\u001b[0m \u001b[1;33m\u001b[0m\u001b[0m\n",
      "\u001b[1;32m~\\AppData\\Local\\Programs\\Python\\Python37\\lib\\site-packages\\pandas\\core\\internals\\construction.py\u001b[0m in \u001b[0;36marrays_to_mgr\u001b[1;34m(arrays, arr_names, index, columns, dtype, verify_integrity, typ, consolidate)\u001b[0m\n\u001b[0;32m    117\u001b[0m         \u001b[1;31m# figure out the index, if necessary\u001b[0m\u001b[1;33m\u001b[0m\u001b[1;33m\u001b[0m\u001b[1;33m\u001b[0m\u001b[0m\n\u001b[0;32m    118\u001b[0m         \u001b[1;32mif\u001b[0m \u001b[0mindex\u001b[0m \u001b[1;32mis\u001b[0m \u001b[1;32mNone\u001b[0m\u001b[1;33m:\u001b[0m\u001b[1;33m\u001b[0m\u001b[1;33m\u001b[0m\u001b[0m\n\u001b[1;32m--> 119\u001b[1;33m             \u001b[0mindex\u001b[0m \u001b[1;33m=\u001b[0m \u001b[0m_extract_index\u001b[0m\u001b[1;33m(\u001b[0m\u001b[0marrays\u001b[0m\u001b[1;33m)\u001b[0m\u001b[1;33m\u001b[0m\u001b[1;33m\u001b[0m\u001b[0m\n\u001b[0m\u001b[0;32m    120\u001b[0m         \u001b[1;32melse\u001b[0m\u001b[1;33m:\u001b[0m\u001b[1;33m\u001b[0m\u001b[1;33m\u001b[0m\u001b[0m\n\u001b[0;32m    121\u001b[0m             \u001b[0mindex\u001b[0m \u001b[1;33m=\u001b[0m \u001b[0mensure_index\u001b[0m\u001b[1;33m(\u001b[0m\u001b[0mindex\u001b[0m\u001b[1;33m)\u001b[0m\u001b[1;33m\u001b[0m\u001b[1;33m\u001b[0m\u001b[0m\n",
      "\u001b[1;32m~\\AppData\\Local\\Programs\\Python\\Python37\\lib\\site-packages\\pandas\\core\\internals\\construction.py\u001b[0m in \u001b[0;36m_extract_index\u001b[1;34m(data)\u001b[0m\n\u001b[0;32m    633\u001b[0m             \u001b[0mlengths\u001b[0m \u001b[1;33m=\u001b[0m \u001b[0mlist\u001b[0m\u001b[1;33m(\u001b[0m\u001b[0mset\u001b[0m\u001b[1;33m(\u001b[0m\u001b[0mraw_lengths\u001b[0m\u001b[1;33m)\u001b[0m\u001b[1;33m)\u001b[0m\u001b[1;33m\u001b[0m\u001b[1;33m\u001b[0m\u001b[0m\n\u001b[0;32m    634\u001b[0m             \u001b[1;32mif\u001b[0m \u001b[0mlen\u001b[0m\u001b[1;33m(\u001b[0m\u001b[0mlengths\u001b[0m\u001b[1;33m)\u001b[0m \u001b[1;33m>\u001b[0m \u001b[1;36m1\u001b[0m\u001b[1;33m:\u001b[0m\u001b[1;33m\u001b[0m\u001b[1;33m\u001b[0m\u001b[0m\n\u001b[1;32m--> 635\u001b[1;33m                 \u001b[1;32mraise\u001b[0m \u001b[0mValueError\u001b[0m\u001b[1;33m(\u001b[0m\u001b[1;34m\"All arrays must be of the same length\"\u001b[0m\u001b[1;33m)\u001b[0m\u001b[1;33m\u001b[0m\u001b[1;33m\u001b[0m\u001b[0m\n\u001b[0m\u001b[0;32m    636\u001b[0m \u001b[1;33m\u001b[0m\u001b[0m\n\u001b[0;32m    637\u001b[0m             \u001b[1;32mif\u001b[0m \u001b[0mhave_dicts\u001b[0m\u001b[1;33m:\u001b[0m\u001b[1;33m\u001b[0m\u001b[1;33m\u001b[0m\u001b[0m\n",
      "\u001b[1;31mValueError\u001b[0m: All arrays must be of the same length"
     ]
    }
   ],
   "source": [
    "instaces_20_5 = [\"ta001\", \"ta002\", \"ta003\", \"ta004\", \"t005\", \"ta006\", \"ta008\", \"ta009\", \"ta010\"]\n",
    "\n",
    "print(\"Modularity\")\n",
    "pd.DataFrame({\n",
    "    \"Instance\" : instaces_20_5,\n",
    "    \"Best Known\" : [1278, 1359, 1081, 1293, 1235, 1195, 1206, 1230, 1108],\n",
    "    \"Palmer\" : palmer_cmax,\n",
    "    \"CDS\" : cds_cmax,\n",
    "    \"NEH\" : neh_cmax\n",
    "})"
   ]
  },
  {
   "cell_type": "code",
   "execution_count": null,
   "id": "7f9d8730",
   "metadata": {},
   "outputs": [],
   "source": []
  }
 ],
 "metadata": {
  "kernelspec": {
   "display_name": "Python 3 (ipykernel)",
   "language": "python",
   "name": "python3"
  },
  "language_info": {
   "codemirror_mode": {
    "name": "ipython",
    "version": 3
   },
   "file_extension": ".py",
   "mimetype": "text/x-python",
   "name": "python",
   "nbconvert_exporter": "python",
   "pygments_lexer": "ipython3",
   "version": "3.7.9"
  }
 },
 "nbformat": 4,
 "nbformat_minor": 5
}
