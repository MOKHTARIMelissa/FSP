{
 "cells": [
  {
   "cell_type": "code",
   "execution_count": 16,
   "id": "a7da31c8",
   "metadata": {},
   "outputs": [
    {
     "name": "stdout",
     "output_type": "stream",
     "text": [
      "le nombre de job n= 4\n",
      "le nombre de machine m= 4\n",
      "result [2, 3, 4, 1]\n",
      "fin\n"
     ]
    }
   ],
   "source": [
    "from utility import Node\n",
    "from collections import deque\n",
    "import numpy as np\n",
    "\n",
    "#n le nombre de job\n",
    "#node.path à partir de 0 donc si on arrive à n-1 une solution est construite \n",
    "somme_times=[]\n",
    "def FSP(adj_mat, src=0):\n",
    "    optimal_tour = []\n",
    "    #on calcul la somme des temps pour chaque job\n",
    "    pre_Somme(adj_mat)\n",
    "    #on récupere le nombre de job n et le nombre de machine m\n",
    "    n=adj_mat.shape[1]\n",
    "    m=adj_mat.shape[0]\n",
    "    print(\"le nombre de job n=\",n)\n",
    "    print(\"le nombre de machine m=\",m)\n",
    "    #le u est utilisé pour parcourir les fils de chaque noeud à chaque etape \n",
    "    u = Node()\n",
    "    #on initialise la pile\n",
    "    PQ = deque()\n",
    "    optimal_time = 0\n",
    "    #on initialise le noeud racine v,le path de la racine est vide, aucun job n'est parcouru\n",
    "    v = Node(level=0, path=[])\n",
    "    #on initialise la borne à l'infinie\n",
    "    min_length = float('inf')  # infinity\n",
    "    v.bound = 0 #bound(adj_mat, v)\n",
    "    # mettre v(la racine) dans la pile\n",
    "    PQ.append(v)\n",
    "    while PQ:\n",
    "        v = PQ.pop()# on dépile \n",
    "        if v.bound < min_length:#l'evaluation du noueud est plus petite que la solution optimale actuelle\n",
    "            u.level = v.level + 1#on passe au niveau suivant \n",
    "            liste=filter(lambda x: x not in v.path, np.arange(1, n+1))\n",
    "            l=list(liste)\n",
    "            #on ordonne la liste des jobs restants selon la somme des temps\n",
    "            l.sort(key=ordre,reverse=True)\n",
    "            for i in l:#on parcours les jobs non deja parcourus \n",
    "                u.path = v.path[:]\n",
    "                #on ajoute le noued u au chemin du noued actuel u \n",
    "                u.path.append(i)\n",
    "                if u.level == n: #on est dans une feuille \n",
    "                    _len = Cmax(adj_mat,m-1,(u.path[n-1])-1,u) \n",
    "                    if _len < min_length:#si on trouve une meilleure permutation\n",
    "                        min_length = _len\n",
    "                        optimal_time = _len\n",
    "                        optimal_tour = u.path[:]\n",
    "\n",
    "                else:#on verifie s'il y a elagage \n",
    "                    u.bound = bound(adj_mat, u)#fonction d'évaluation\n",
    "                    if u.bound < min_length:#si eval(u)<borne on continue sinon on coupe (on ajoute ou = si on veut tt les sol)\n",
    "                        PQ.append(u)\n",
    "                # make a new node at each iteration! python it is!!\n",
    "                u = Node(level=u.level)\n",
    "\n",
    "\n",
    "    return optimal_tour, optimal_time\n",
    "\n",
    "\n",
    "def Cmax(mat,i,j,node):# la fonction objective(on suppose la numérotation de 1)\n",
    "    #on suppose qu'on l'appele on utilise n-1 et m-1 ie les indice seront décalés de 1 tous\n",
    "    tour = node.path\n",
    "    if(i==0 and j==0):\n",
    "        return mat[0][tour[0]-1]\n",
    "    if(j==0):\n",
    "        return Cmax(mat,i-1,0,node)+mat[i][tour[0]-1]\n",
    "    if(i==0):\n",
    "        return Cmax(mat,0,j-1,node)+mat[0][tour[j]-1]\n",
    "    return max(Cmax(mat,i,j-1,node),Cmax(mat,i-1,j,node))+mat[i][tour[j]-1]\n",
    "    \n",
    "\n",
    "#evaluation à refaire avec imed et ihab\n",
    "def bound(adj_mat, node): \n",
    "    return 1;\n",
    "\n",
    "#donne la somme du temps d'execution d'un job sur toute les machines, \n",
    "#sera utilisée pour ordonner les jobs d'un meme niveau  \n",
    "def ordre(elem):\n",
    "    return somme_times[elem-1]\n",
    "\n",
    "def pre_Somme(mat):\n",
    "    for i in np.arange(0,mat.shape[1]):\n",
    "        somme_times.append(0)\n",
    "        for j in np.arange(0,mat.shape[0]):\n",
    "            somme_times[i]+=mat[j][i]\n",
    "    \n",
    "            \n",
    "        \n",
    "\n",
    "if __name__ == '__main__':\n",
    "\n",
    "\tmatr =np.array( [\n",
    "\t    [3 ,1 ,4 ,2],\n",
    "\t    [4 ,1 ,2 ,3],\n",
    "        [1 ,2 ,3 ,4],\n",
    "        [1 ,3 ,2 ,4]\n",
    "\t])\n",
    "result,time=FSP(matr)\n",
    "print(\"result\",result)\n",
    "print(\"fin\")"
   ]
  },
  {
   "cell_type": "code",
   "execution_count": 53,
   "id": "dc725bb2",
   "metadata": {},
   "outputs": [],
   "source": [
    "import pickle\n",
    "seq=[ 2, 2 , 2 , 8,  4,  7,  9, 10,  6,  5]\n",
    "\n",
    "\n",
    "# An arbitrary collection of objects supported by pickle.\n",
    "data = {\n",
    "    'sequence': seq,\n",
    "    'instance': (\"character string\", b\"byte string\"),\n",
    "    'N': {None, True, False}\n",
    "}\n",
    "\n",
    "\n",
    "with open('data.pickle', 'a+b') as f:\n",
    "    # Pickle the 'data' dictionary using the highest protocol available.\n",
    "    pickle.dump(data, f, pickle.HIGHEST_PROTOCOL)"
   ]
  },
  {
   "cell_type": "code",
   "execution_count": 54,
   "id": "ccbfc7c6",
   "metadata": {},
   "outputs": [],
   "source": [
    "import pickle\n",
    "\n",
    "with open('data.txt', 'rb') as f:\n",
    "    # The protocol version used is detected automatically, so we do not\n",
    "    # have to specify it.\n",
    "    data = pickle.load(f)\n",
    "    data2=pickle.load(f)"
   ]
  },
  {
   "cell_type": "code",
   "execution_count": 55,
   "id": "2a87f273-21d9-456e-bed3-9c164a853ece",
   "metadata": {},
   "outputs": [
    {
     "data": {
      "text/plain": [
       "{'sequence': [3, 1, 2, 8, 4, 7, 9, 10, 6, 5],\n",
       " 'instance': ('character string', b'byte string'),\n",
       " 'N': {False, None, True}}"
      ]
     },
     "execution_count": 55,
     "metadata": {},
     "output_type": "execute_result"
    }
   ],
   "source": [
    "data"
   ]
  },
  {
   "cell_type": "code",
   "execution_count": 56,
   "id": "a8530e5b-bbf8-4dc9-ae85-41de56ba78c0",
   "metadata": {},
   "outputs": [
    {
     "data": {
      "text/plain": [
       "2"
      ]
     },
     "execution_count": 56,
     "metadata": {},
     "output_type": "execute_result"
    }
   ],
   "source": [
    "data.get('sequence')[2]"
   ]
  },
  {
   "cell_type": "code",
   "execution_count": 57,
   "id": "cedb7541-ea49-4ab7-aa31-c95a51d05830",
   "metadata": {},
   "outputs": [
    {
     "data": {
      "text/plain": [
       "{'sequence': [2, 2, 2, 8, 4, 7, 9, 10, 6, 5],\n",
       " 'instance': ('character string', b'byte string'),\n",
       " 'N': {False, None, True}}"
      ]
     },
     "execution_count": 57,
     "metadata": {},
     "output_type": "execute_result"
    }
   ],
   "source": [
    "data2"
   ]
  },
  {
   "cell_type": "code",
   "execution_count": 52,
   "id": "c223ffed-9baf-4e51-9d0b-b870c275ab28",
   "metadata": {},
   "outputs": [
    {
     "ename": "EOFError",
     "evalue": "Ran out of input",
     "output_type": "error",
     "traceback": [
      "\u001b[1;31m---------------------------------------------------------------------------\u001b[0m",
      "\u001b[1;31mEOFError\u001b[0m                                  Traceback (most recent call last)",
      "\u001b[1;32m<ipython-input-52-aecc19d8fd50>\u001b[0m in \u001b[0;36m<module>\u001b[1;34m\u001b[0m\n\u001b[0;32m      4\u001b[0m     \u001b[0mdata\u001b[0m \u001b[1;33m=\u001b[0m \u001b[0mpickle\u001b[0m\u001b[1;33m.\u001b[0m\u001b[0mload\u001b[0m\u001b[1;33m(\u001b[0m\u001b[0mf\u001b[0m\u001b[1;33m)\u001b[0m\u001b[1;33m\u001b[0m\u001b[1;33m\u001b[0m\u001b[0m\n\u001b[0;32m      5\u001b[0m     \u001b[0mdata2\u001b[0m\u001b[1;33m=\u001b[0m\u001b[0mpickle\u001b[0m\u001b[1;33m.\u001b[0m\u001b[0mload\u001b[0m\u001b[1;33m(\u001b[0m\u001b[0mf\u001b[0m\u001b[1;33m)\u001b[0m\u001b[1;33m\u001b[0m\u001b[1;33m\u001b[0m\u001b[0m\n\u001b[1;32m----> 6\u001b[1;33m     \u001b[0mdata3\u001b[0m\u001b[1;33m=\u001b[0m\u001b[0mpickle\u001b[0m\u001b[1;33m.\u001b[0m\u001b[0mload\u001b[0m\u001b[1;33m(\u001b[0m\u001b[0mf\u001b[0m\u001b[1;33m)\u001b[0m\u001b[1;33m\u001b[0m\u001b[1;33m\u001b[0m\u001b[0m\n\u001b[0m",
      "\u001b[1;31mEOFError\u001b[0m: Ran out of input"
     ]
    }
   ],
   "source": [
    "with open('data.txt', 'rb') as f:\n",
    "    # The protocol version used is detected automatically, so we do not\n",
    "    # have to specify it.\n",
    "    data = pickle.load(f)\n",
    "    data2=pickle.load(f)\n",
    "    data3=pickle.load(f)"
   ]
  },
  {
   "cell_type": "code",
   "execution_count": 51,
   "id": "679e853f-0428-4a9f-89b0-20f1b82fe414",
   "metadata": {},
   "outputs": [
    {
     "data": {
      "text/plain": [
       "{'sequence': [3, 1, 2, 8, 4, 7, 9, 10, 6, 5],\n",
       " 'instance': ('character string', b'byte string'),\n",
       " 'N': {False, None, True}}"
      ]
     },
     "execution_count": 51,
     "metadata": {},
     "output_type": "execute_result"
    }
   ],
   "source": [
    "data"
   ]
  },
  {
   "cell_type": "code",
   "execution_count": null,
   "id": "7f0f38ad-bf7e-4ec6-8365-6f543391117f",
   "metadata": {},
   "outputs": [],
   "source": []
  }
 ],
 "metadata": {
  "kernelspec": {
   "display_name": "Python 3",
   "language": "python",
   "name": "python3"
  },
  "language_info": {
   "codemirror_mode": {
    "name": "ipython",
    "version": 3
   },
   "file_extension": ".py",
   "mimetype": "text/x-python",
   "name": "python",
   "nbconvert_exporter": "python",
   "pygments_lexer": "ipython3",
   "version": "3.8.8"
  }
 },
 "nbformat": 4,
 "nbformat_minor": 5
}
